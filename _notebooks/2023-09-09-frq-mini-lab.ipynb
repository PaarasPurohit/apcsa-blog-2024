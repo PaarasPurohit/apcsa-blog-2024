{
 "cells": [
  {
   "cell_type": "markdown",
   "metadata": {},
   "source": [
    "# FRQ Mini-Lab\n",
    "\n",
    "- toc: true\n",
    "- comments: false\n",
    "- layout: post\n",
    "- title: FRQ Mini-Lab\n",
    "- description: Answering one of the questions from the APCSA 2023 Exam\n",
    "- type: tangibles\n",
    "- courses: { csa: {week: 4} }\n",
    "- permalink: /frq-mini-lab"
   ]
  },
  {
   "cell_type": "markdown",
   "metadata": {},
   "source": [
    "This question involves the `AppointmentBook` class, which provides methods for students to schedule appointments with their teacher. Appointments can be scheduled during one of eight class periods during the school day, numbered 1 through 8. A requested appointment has a duration, which is the number of minutes the appointment will last. The 60 minutes within a period are numbered 0 through 59. In order for an appointment to be scheduled, the teacher must have a block of consecutive, available munites that contains at least the requested number of minutes in a requested period. Scheduled appointments must start and end within the same period."
   ]
  },
  {
   "cell_type": "markdown",
   "metadata": {},
   "source": [
    "The `AppointmentBook` class contains two helper methods, `isMinuteFree` and `reserveBlock`. You will write two additional methods of the `AppointmentBook` class."
   ]
  },
  {
   "cell_type": "code",
   "execution_count": 2,
   "metadata": {},
   "outputs": [],
   "source": [
    "public class AppointmentBook {\n",
    "    /**\n",
    "     * Returns true if minute in period is available for an appointment and returns\n",
    "     * false otherwise\n",
    "     * Preconditions: 1 <= period <= 8; 0 <= minute <= 59\n",
    "     */\n",
    "    private boolean isMinuteFree(int period, int minute) {\n",
    "        /* implementation not shown */\n",
    "        return false;\n",
    "    }\n",
    "\n",
    "    /**\n",
    "     * Marks the block of minutes that starts at startMinute in period and\n",
    "     * is duration minutes long as reserved for an appointment\n",
    "     * Preconditions: 1 <= period <= 8; 0 <= startMinute <= 59;\n",
    "     *               1 <= duration <= 60\n",
    "     */\n",
    "    private void reserveBlock(int period, int startMinute, int duration) {\n",
    "        /* implementation not shown */\n",
    "    }\n",
    "\n",
    "    /**\n",
    "     * Searches for the first block of duration free minutes during period, as described in\n",
    "     * part (a). Returns the first minute in the block if such a block is found or returns -1 if no\n",
    "     * such block is found.\n",
    "     * Preconditions: 1 <= period <= 8; 1 <= duration <= 60\n",
    "     */\n",
    "    public int findFreeBlock(int period, int duration) {\n",
    "        /* to be implemented in part (a) */\n",
    "        return 0;\n",
    "    }\n",
    "\n",
    "    /**\n",
    "     * Searches periods from startPeriod to endPeriod, inclusive, for a block\n",
    "     * of duration free minutes, as described in part (b). If such a block is found,\n",
    "     * calls reserveBlock to reserve the block of minutes and returns true; otherwise\n",
    "     * returns false.\n",
    "     * Preconditions: 1 <= startPeriod <= endPeriod <= 8; 1 <= duration <= 60\n",
    "     */\n",
    "    public boolean makeAppointment(int startPeriod, int endPeriod, int duration) {\n",
    "        /* to be implemented in part (b) */\n",
    "        return false;\n",
    "    }\n",
    "\n",
    "    // There may be instance variables, constructors, and methods that are not shown.\n",
    "}"
   ]
  },
  {
   "cell_type": "markdown",
   "metadata": {},
   "source": [
    "Write the `findFreeBlock` method, which searches `period` for the first block of free minutes that is `duration` minutes long. If such a block is found, `findFreeBlock` returns the first minute in the block. Otherwise, `findFreeBlock` returns `-1`. The `findFreeBlock` method uses the helper method `isMinuteFree`, which returns `true` if a particular minute is available to be included in a new appointment and returns `false` if the minute is unavailable. The method call `findFreeBlock(2, 15)` would return `30` to indicate that a 15-minute block starting with minute `30` is available. No steps should be taken as a result of the call to `findFreeBlock` to mark those 15 minutes as unavailable. The method call `findFreeBlock(2, 9)` would also return `30`. Whenever there are multiple blocks that satisfy the requirement, the earliest starting minute is returned. The method call `findFreeBlock(2, 20)` would return `-1`, since no 20-minute block of available minutes exists in `period 2`. \n",
    "\n",
    "Complete method `findFreeBlock`. You must use `isMinuteFree` appropriately in order to receive full credit."
   ]
  },
  {
   "cell_type": "code",
   "execution_count": 4,
   "metadata": {},
   "outputs": [],
   "source": [
    "/**\n",
    " * Searches for the first block of duration free minutes during the specified period.\n",
    " * Returns the first minute in the block if such a block is found or returns -1 if no such block is found.\n",
    " *\n",
    " * @param period   The period to search for free minutes.\n",
    " * @param duration The duration of the free block to find.\n",
    " * @return The first minute in the found free block or -1 if no such block is found.\n",
    " *\n",
    " * Preconditions: 1 <= period <= 8; 1 <= duration <= 60\n",
    " */\n",
    "public int findFreeBlock(int period, int duration) {\n",
    "    // Implementation of finding and returning the first minute of a free block.\n",
    "    // This is where you would add your code to perform the search.\n",
    "    return 0;\n",
    "}"
   ]
  },
  {
   "cell_type": "markdown",
   "metadata": {},
   "source": [
    "My Answer:"
   ]
  },
  {
   "cell_type": "code",
   "execution_count": 5,
   "metadata": {},
   "outputs": [],
   "source": [
    "public int findFreeBlock(int period, int duration) {\n",
    "    // Loop through the minutes in the specified period\n",
    "    for (int startMinute = 0; startMinute <= 59 - duration; startMinute++) {\n",
    "        boolean isBlockFree = true;\n",
    "\n",
    "        // Check if the block of minutes from startMinute to (startMinute + duration - 1) is free\n",
    "        for (int minute = startMinute; minute < startMinute + duration; minute++) {\n",
    "            if (!isMinuteFree(period, minute)) {\n",
    "                isBlockFree = false;\n",
    "                break; // Exit the inner loop if any minute in the block is not free\n",
    "            }\n",
    "        }\n",
    "\n",
    "        // If a free block of the requested duration is found, return the start minute\n",
    "        if (isBlockFree) {\n",
    "            return startMinute;\n",
    "        }\n",
    "    }\n",
    "\n",
    "    // If no free block of the requested duration is found, return -1\n",
    "    return -1;\n",
    "}"
   ]
  },
  {
   "cell_type": "markdown",
   "metadata": {},
   "source": [
    "To test my code:"
   ]
  },
  {
   "cell_type": "code",
   "execution_count": 8,
   "metadata": {},
   "outputs": [
    {
     "name": "stdout",
     "output_type": "stream",
     "text": [
      "Testing findFreeBlock:\n",
      "Duration 15 minutes, start minute: 0\n",
      "Duration 9 minutes, start minute: 0\n",
      "Duration 20 minutes, start minute: 0\n",
      "\n",
      "Testing makeAppointment:\n",
      "Appointment 1 (start period 3, end period 6, duration 30): false\n",
      "Appointment 2 (start period 5, end period 7, duration 45): false\n"
     ]
    }
   ],
   "source": [
    "public class AppointmentBookTester {\n",
    "    public static void main(String[] args) {\n",
    "        // Create an instance of the AppointmentBook class\n",
    "        AppointmentBook appointmentBook = new AppointmentBook();\n",
    "\n",
    "        // Test the findFreeBlock method\n",
    "        int period = 2;\n",
    "        int duration1 = 15;\n",
    "        int duration2 = 9;\n",
    "        int duration3 = 20;\n",
    "\n",
    "        int freeBlock1 = appointmentBook.findFreeBlock(period, duration1);\n",
    "        int freeBlock2 = appointmentBook.findFreeBlock(period, duration2);\n",
    "        int freeBlock3 = appointmentBook.findFreeBlock(period, duration3);\n",
    "\n",
    "        System.out.println(\"Testing findFreeBlock:\");\n",
    "        System.out.println(\"Duration 15 minutes, start minute: \" + freeBlock1);\n",
    "        System.out.println(\"Duration 9 minutes, start minute: \" + freeBlock2);\n",
    "        System.out.println(\"Duration 20 minutes, start minute: \" + freeBlock3);\n",
    "\n",
    "        // Test the makeAppointment method\n",
    "        int startPeriod = 3;\n",
    "        int endPeriod = 6;\n",
    "        int appointmentDuration = 30;\n",
    "\n",
    "        boolean appointment1 = appointmentBook.makeAppointment(startPeriod, endPeriod, appointmentDuration);\n",
    "        boolean appointment2 = appointmentBook.makeAppointment(5, 7, 45);\n",
    "\n",
    "        System.out.println(\"\\nTesting makeAppointment:\");\n",
    "        System.out.println(\"Appointment 1 (start period 3, end period 6, duration 30): \" + appointment1);\n",
    "        System.out.println(\"Appointment 2 (start period 5, end period 7, duration 45): \" + appointment2);\n",
    "    }\n",
    "}\n",
    "AppointmentBookTester.main(null);"
   ]
  },
  {
   "cell_type": "markdown",
   "metadata": {},
   "source": [
    "### Regarding Array/ArrayList/2D Arrays\n",
    "\n",
    "- Change or add data to arrays, easier for ArrayList. How would you do it for others?\n",
    "- Displaying Array/ArrayList by columns, as well as by rows horizontally\n",
    "- Display content backwards"
   ]
  },
  {
   "cell_type": "code",
   "execution_count": 11,
   "metadata": {},
   "outputs": [
    {
     "name": "stdout",
     "output_type": "stream",
     "text": [
      "Displaying Arrays by columns:\n",
      "1\tapple\n",
      "2\tbanana\n",
      "30\tcherry\n",
      "4\tdate\n",
      "5\tgrape\n",
      "\n",
      "Displaying ArrayLists by columns:\n",
      "1\tapple\n",
      "2\tbanana\n",
      "3\tcherry\n",
      "4\tdate\n",
      "5\tfig\n",
      "6\thoneydew\n",
      "\n",
      "Displaying Arrays horizontally:\n",
      "[1, 2, 30, 4, 5]\n",
      "[apple, banana, cherry, date, grape]\n",
      "\n",
      "Displaying ArrayLists horizontally:\n",
      "[1, 2, 3, 4, 5, 6]\n",
      "[apple, banana, cherry, date, fig, honeydew]\n",
      "\n",
      "Displaying Arrays backwards:\n",
      "5 4 30 2 1 \n",
      "grape date cherry banana apple \n",
      "Displaying ArrayLists backwards:\n",
      "[6, 5, 4, 3, 2, 1]\n",
      "[honeydew, fig, date, cherry, banana, apple]\n"
     ]
    }
   ],
   "source": [
    "import java.util.ArrayList;\n",
    "import java.util.Arrays;\n",
    "import java.util.Collections;\n",
    "import java.util.List;\n",
    "\n",
    "public class ArrayManipulation {\n",
    "    public static void main(String[] args) {\n",
    "        // Arrays\n",
    "        int[] intArray = {1, 2, 3, 4, 5};\n",
    "        String[] stringArray = {\"apple\", \"banana\", \"cherry\", \"date\", \"fig\"};\n",
    "\n",
    "        // ArrayLists\n",
    "        List<Integer> intArrayList = new ArrayList<>(Arrays.asList(1, 2, 3, 4, 5));\n",
    "        List<String> stringArrayList = new ArrayList<>(Arrays.asList(\"apple\", \"banana\", \"cherry\", \"date\", \"fig\"));\n",
    "\n",
    "        // Changing values in arrays\n",
    "        intArray[2] = 30;\n",
    "        stringArray[4] = \"grape\";\n",
    "\n",
    "        // Adding data to ArrayLists\n",
    "        intArrayList.add(6);\n",
    "        stringArrayList.add(\"honeydew\");\n",
    "\n",
    "        // Displaying Arrays/ArrayLists by columns\n",
    "        System.out.println(\"Displaying Arrays by columns:\");\n",
    "        for (int i = 0; i < intArray.length; i++) {\n",
    "            System.out.println(intArray[i] + \"\\t\" + stringArray[i]);\n",
    "        }\n",
    "\n",
    "        System.out.println(\"\\nDisplaying ArrayLists by columns:\");\n",
    "        for (int i = 0; i < intArrayList.size(); i++) {\n",
    "            System.out.println(intArrayList.get(i) + \"\\t\" + stringArrayList.get(i));\n",
    "        }\n",
    "\n",
    "        // Displaying Arrays/ArrayLists horizontally\n",
    "        System.out.println(\"\\nDisplaying Arrays horizontally:\");\n",
    "        System.out.println(Arrays.toString(intArray));\n",
    "        System.out.println(Arrays.toString(stringArray));\n",
    "\n",
    "        System.out.println(\"\\nDisplaying ArrayLists horizontally:\");\n",
    "        System.out.println(intArrayList);\n",
    "        System.out.println(stringArrayList);\n",
    "\n",
    "        // Displaying content backwards\n",
    "        System.out.println(\"\\nDisplaying Arrays backwards:\");\n",
    "        for (int i = intArray.length - 1; i >= 0; i--) {\n",
    "            System.out.print(intArray[i] + \" \");\n",
    "        }\n",
    "        System.out.println();\n",
    "        for (int i = stringArray.length - 1; i >= 0; i--) {\n",
    "            System.out.print(stringArray[i] + \" \");\n",
    "        }\n",
    "\n",
    "        System.out.println(\"\\nDisplaying ArrayLists backwards:\");\n",
    "        Collections.reverse(intArrayList);\n",
    "        Collections.reverse(stringArrayList);\n",
    "        System.out.println(intArrayList);\n",
    "        System.out.println(stringArrayList);\n",
    "    }\n",
    "}\n",
    "ArrayManipulation.main(null);"
   ]
  }
 ],
 "metadata": {
  "kernelspec": {
   "display_name": "Java",
   "language": "java",
   "name": "java"
  },
  "language_info": {
   "codemirror_mode": "java",
   "file_extension": ".jshell",
   "mimetype": "text/x-java-source",
   "name": "java",
   "pygments_lexer": "java",
   "version": "17.0.8+7-Ubuntu-120.04.2"
  },
  "orig_nbformat": 4
 },
 "nbformat": 4,
 "nbformat_minor": 2
}
