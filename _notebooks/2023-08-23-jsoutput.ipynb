{
 "cells": [
  {
   "cell_type": "markdown",
   "metadata": {},
   "source": [
    "# JavaScript Output\n",
    "> Reflecting and reviewing JavaScript to go forward with my knowledge\n",
    "\n",
    "- title: JavaScript Output\n",
    "- toc: true\n",
    "- categories: []\n",
    "- permalink: /js-output\n",
    "- tags: []"
   ]
  },
  {
   "cell_type": "markdown",
   "metadata": {},
   "source": [
    "### Hack I\n",
    "> Making this my own by explaining what this code does in my own words"
   ]
  },
  {
   "cell_type": "code",
   "execution_count": null,
   "metadata": {
    "vscode": {
     "languageId": "html"
    }
   },
   "outputs": [],
   "source": [
    "<head>\n",
    "    <!-- load jQuery and DataTables syle and scripts -->\n",
    "    <link rel=\"stylesheet\" type=\"text/css\" href=\"https://cdn.datatables.net/1.13.4/css/jquery.dataTables.min.css\">\n",
    "    <script type=\"text/javascript\" language=\"javascript\" src=\"https://code.jquery.com/jquery-3.6.0.min.js\"></script>\n",
    "    <script>var define = null;</script>\n",
    "    <script type=\"text/javascript\" language=\"javascript\" src=\"https://cdn.datatables.net/1.13.4/js/jquery.dataTables.min.js\"></script>\n",
    "</head>\n",
    "<table id=\"flaskTable\" class=\"table\" style=\"width:100%\">\n",
    "    <thead id=\"flaskHead\">\n",
    "        <tr>\n",
    "            <th>ID</th>\n",
    "            <th>Name</th>\n",
    "            <th>DOB</th>\n",
    "            <th>Age</th>\n",
    "        </tr>\n",
    "    </thead>\n",
    "    <tbody id=\"flaskBody\"></tbody>\n",
    "</table>\n",
    "\n",
    "<script>\n",
    "  $(document).ready(function() {\n",
    "    fetch('https://flask.nighthawkcodingsociety.com/api/users/', { mode: 'cors' })\n",
    "    .then(response => {\n",
    "      if (!response.ok) {\n",
    "        throw new Error('API response failed');\n",
    "      }\n",
    "      return response.json();\n",
    "    })\n",
    "    .then(data => {\n",
    "      for (const row of data) {\n",
    "        // BUG warning/resolution - DataTable requires row to be single append\n",
    "        $('#flaskBody').append('<tr><td>' + \n",
    "            row.id + '</td><td>' + \n",
    "            row.name + '</td><td>' + \n",
    "            row.dob + '</td><td>' + \n",
    "            row.age + '</td></tr>');\n",
    "      }\n",
    "      // BUG warning - Jupyter does not show Datatable controls, works on deployed GitHub pages\n",
    "      $(\"#flaskTable\").DataTable();\n",
    "    })\n",
    "    .catch(error => {\n",
    "      console.error('Error:', error);\n",
    "    });\n",
    "  });\n",
    "</script>"
   ]
  },
  {
   "cell_type": "markdown",
   "metadata": {},
   "source": [
    "Explaining the code:\n",
    "\n",
    "1. HTML Structure:\n",
    "\n",
    "   - In the `<head>` section, external resources are loaded: jQuery, DataTables CSS, and DataTables JavaScript.\n",
    "   - A `<table>` element with the id \"flaskTable\" is defined. It has both a header `<thead>` and a body `<tbody>`.\n",
    "\n",
    "2. JavaScript and jQuery Code:\n",
    "\n",
    "   - The code is wrapped in a `$(document).ready()` function, ensuring that it runs once the DOM (Document Object Model) is fully loaded.\n",
    "\n",
    "   - It uses the `fetch` API to make a GET request to the specified URL (`https://flask.nighthawkcodingsociety.com/api/users/`) with CORS enabled.\n",
    "\n",
    "   - The code checks if the API response is okay. If not, it throws an error.\n",
    "\n",
    "   - If the response is successful, it converts the response data to JSON.\n",
    "\n",
    "   - It then iterates over the JSON data and appends it to the table's body. Each row from the API is converted into an HTML table row (`<tr>`) with four columns containing the user's ID, name, date of birth, and age.\n",
    "\n",
    "   - Finally, it initializes the DataTable on the table with the id \"flaskTable.\" DataTables is a jQuery plugin that enhances the functionality and appearance of HTML tables, providing features like sorting, searching, and pagination.\n",
    "\n",
    "3. Extra:\n",
    "   - There's a script tag `<script>var define = null;</script>` that defines a variable `define` as `null`. This seems unrelated to the main functionality and may be leftover or used for some specific purpose in the context where this code is deployed.\n",
    "\n",
    "   - A comment mentions a bug warning/resolution regarding DataTables requiring rows to be appended one at a time. This is why each row is constructed and appended individually in the loop.\n",
    "\n",
    "   - There's a comment about Jupyter not showing DataTable controls but it working on deployed GitHub pages. This indicates that the code may have been tested in different environments, and DataTables might have different behavior depending on where it's used."
   ]
  },
  {
   "cell_type": "markdown",
   "metadata": {},
   "source": [
    "### Hack II:\n",
    "> Consider what you need to work on to be stronger developer\n",
    "\n",
    "After my experience with CSP, I have reflected on myself as well as sought out guidance from Mr. Mortensen and have summarized that what I need to do to become a stronger developer is:\n",
    "\n",
    "- Follow instructions no matter which ones I think aren't necessary.\n",
    "- Play my role out in a team so that I'm able to execute my vision without relying on anyone else.\n",
    "- Only help others when I myself have completed my own work as well as understood what it is I did.\n",
    "- Turn in work on time, no procrastinating.\n",
    "- Use class time with more maturity and save goofing off for when ALL work is completed."
   ]
  },
  {
   "cell_type": "markdown",
   "metadata": {},
   "source": [
    "### Hack III:\n",
    "> Show something creative or unique, no cloning\n",
    "\n",
    "[Runtime](https://www.paaraspurohit.github.io/apcsa-blog-2024/2023/08/23/apitest.html)\n",
    "\n",
    "Although this does indeed use an old API (I could not find any free and appropriate ones) and uses old code, this is honestly the first time I was able to code an API fetch and actually understand what was going on. First, we fetch the code using the `fetch()` method, then set its parameters with `.then(response)`, `.then(data)`, and `.catch(error)`. I am still excited by the fact that one can use python to create a SQL & JSON database, then turn that data into an HTML document with JavaScript. All these pieces coming together to make one big picture. It's fascinating to me. Me being able to program AND understand how to fetch from an API is a milestone for me, and is part of the first steps of me becoming a stronger developer."
   ]
  },
  {
   "cell_type": "markdown",
   "metadata": {},
   "source": [
    "### Hacks IV, V, & VI\n",
    "> Show in Jupyter Notebook during discussion, show Theme and ChatGPT. Have a runtime final in GithHub Pages (or Fastpage)\n",
    "\n",
    "[Notebook](http://paaraspurohit.github.io/apcsa-blog-2024/2023/08/23/jsoutput_IPYNB_2_.html)\n",
    "\n",
    "[ChatGPT](https://chat.openai.com/share/76322133-ee98-4a54-a453-eb8e38221616)"
   ]
  },
  {
   "cell_type": "markdown",
   "metadata": {},
   "source": [
    "### Takeaways:\n",
    "\n",
    "- I will practice API fetching more and understanding how to use/create API's as well as how to manipulate existing code to customize what I do with the data\n",
    "- I will continue to prove my becoming of a stronger developer by committing to the things I listed above in Hack II.\n",
    "- I still have a long way to go. Although it won't be easy, I will be able to accomplish in this class using what I've reflected on myself."
   ]
  }
 ],
 "metadata": {
  "kernelspec": {
   "display_name": "base",
   "language": "python",
   "name": "python3"
  },
  "language_info": {
   "codemirror_mode": {
    "name": "ipython",
    "version": 3
   },
   "file_extension": ".py",
   "mimetype": "text/x-python",
   "name": "python",
   "nbconvert_exporter": "python",
   "pygments_lexer": "ipython3",
   "version": "3.9.12"
  },
  "orig_nbformat": 4
 },
 "nbformat": 4,
 "nbformat_minor": 2
}
