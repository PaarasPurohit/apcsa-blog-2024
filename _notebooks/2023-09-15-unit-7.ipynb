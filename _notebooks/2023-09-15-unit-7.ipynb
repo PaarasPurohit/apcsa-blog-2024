{
 "cells": [
  {
   "cell_type": "markdown",
   "metadata": {},
   "source": [
    "# Unit 7: ArrayList\n",
    "\n",
    "- toc: true\n",
    "- comments: false\n",
    "- layout: post\n",
    "- title: Unit 7: ArrayList\n",
    "- description: Mastering the concept of a resizable array. AP Exam weighting: 2.5-7.5%.\n",
    "- type: tangibles\n",
    "- courses: { csa: {week: 5} }\n",
    "- permalink: /unit-7-arraylist"
   ]
  }
 ],
 "metadata": {
  "kernelspec": {
   "display_name": "Java",
   "language": "java",
   "name": "java"
  },
  "language_info": {
   "name": "java"
  },
  "orig_nbformat": 4
 },
 "nbformat": 4,
 "nbformat_minor": 2
}
