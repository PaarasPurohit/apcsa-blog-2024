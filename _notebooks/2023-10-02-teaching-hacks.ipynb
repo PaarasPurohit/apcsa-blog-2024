{
 "cells": [
  {
   "cell_type": "markdown",
   "metadata": {},
   "source": [
    "---\n",
    "toc: true\n",
    "comments: false\n",
    "layout: post\n",
    "title: APCSA Lesson Hacks\n",
    "description: Hacks for all student lessons\n",
    "type: tangibles\n",
    "courses: { csa: {week: 6} }\n",
    "permalink: /apcsa-lesson-hacks\n",
    "---"
   ]
  },
  {
   "cell_type": "markdown",
   "metadata": {},
   "source": [
    "## Unit 1: Primitive Types:"
   ]
  },
  {
   "cell_type": "markdown",
   "metadata": {},
   "source": [
    "### Section 2:\n",
    "\n",
    "**Primitive Activity**\n",
    "\n",
    "Choices:\n",
    "1. int\n",
    "2. double\n",
    "3. boolean\n",
    "4. String\n",
    "\n",
    "- <u>_3 </u>False\n",
    "- <u>_4 </u>\"ryan gosling\"\n",
    "- <u>_1 </u> 1738\n",
    "- <u>_2 </u> 4.26\n",
    "\n",
    "Questions:\n",
    "\n",
    "What type of data should be used to store:\n",
    "\n",
    "- Someones bank number and cvc? *int*\n",
    "- Someones mother's maiden name and their name? *string*\n",
    "- The first 16 digits of pi? *double*\n",
    "- If you want to transact one million $? *integer, assuming it's exactly one million dollars*\n",
    "\n",
    "**Find the Odd One Out**\n",
    "\n",
    "- int value; ✅\n",
    "- double 4eva; ❌ Variables can't start with a number.\n",
    "- boolean private; ❌ `private` is already a keyword.\n",
    "- integer sum; ✅\n",
    "- double wow!; ❌ `!` is a special character, you can't use those in variable names.\n",
    "- boolean foundIt; ✅\n",
    "- int numberOfStudents; ✅\n",
    "- double chanceOfRain; ✅\n",
    "- boolean #mortNews; ❌ `#` is a special character, you can't use those in variable names.\n",
    "- int count; ✅\n",
    "- bool isFriday; ❌ `bool` is not correct, `boolean` is.\n",
    "- final int DOZEN; ✅ Note: since it is final, the name is in all caps. This is the convention for Java."
   ]
  },
  {
   "cell_type": "markdown",
   "metadata": {},
   "source": [
    "### Section 3"
   ]
  },
  {
   "cell_type": "code",
   "execution_count": 2,
   "metadata": {},
   "outputs": [
    {
     "name": "stdout",
     "output_type": "stream",
     "text": [
      "33\n",
      "1\n",
      "3.0\n"
     ]
    }
   ],
   "source": [
    "// Practice on tracing and predicting output types based on primitive variable types\n",
    "public class demo {\n",
    "    public static void main(String[] args) {        \n",
    "        System.out.println(\"3\" + \"3\"); // Since it's two strings, the output is \"33\"\n",
    "        System.out.println(3 / 2); // Since it's two integers, the output is 1.\n",
    "        System.out.println(2.0 * 1.5); // Since its two doubles, the output is 3.0.\n",
    "    }\n",
    "}\n",
    "\n",
    "demo.main(null);"
   ]
  },
  {
   "cell_type": "code",
   "execution_count": 3,
   "metadata": {},
   "outputs": [
    {
     "name": "stdout",
     "output_type": "stream",
     "text": [
      "1\n"
     ]
    }
   ],
   "source": [
    "public class demo2 {\n",
    "    public static void main(String[] args) {\n",
    "        // Print a math equation that goes through these steps\n",
    "        // Adds 19 + 134\n",
    "        // Multiplies that value by 5\n",
    "        // Then takes the mod of that value by 2\n",
    "        // It should print 1\n",
    "\n",
    "        System.out.println( (19 + 134) * 5 % 2);\n",
    "    }\n",
    "}\n",
    "\n",
    "demo2.main(null);"
   ]
  },
  {
   "cell_type": "code",
   "execution_count": 5,
   "metadata": {},
   "outputs": [
    {
     "name": "stdout",
     "output_type": "stream",
     "text": [
      "1 is odd\n",
      "3 is odd\n",
      "5 is odd\n",
      "7 is odd\n",
      "9 is odd\n"
     ]
    }
   ],
   "source": [
    "// Objective: Change the code WITHOUT changing the variables \n",
    "\n",
    "public class OddEven {\n",
    "\n",
    "    // Without changing any varibles\n",
    "    // Print only odd numbers\n",
    "\n",
    "    public static void main(String[] args) {\n",
    "        int num = 2;\n",
    "        int i = 0;\n",
    "        while (i <= 10) {\n",
    "            if (i % num == 1) { // I replaced 0 with 1. All odd numbers divided by 2 have a remainder of 1.\n",
    "                System.out.println(i + \" is odd\"); // I replaced \"even\" with \"odd\" as extra work to make sense.\n",
    "            }\n",
    "            i++;\n",
    "        }\n",
    "    }\n",
    "}\n",
    "\n",
    "OddEven.main(null);"
   ]
  },
  {
   "cell_type": "markdown",
   "metadata": {},
   "source": [
    "### Section 4"
   ]
  },
  {
   "cell_type": "code",
   "execution_count": 1,
   "metadata": {},
   "outputs": [
    {
     "name": "stdout",
     "output_type": "stream",
     "text": [
      "100\n",
      "779\n",
      "2\n",
      "777\n"
     ]
    }
   ],
   "source": [
    "// Objective: Practice Compound Operations\n",
    "\n",
    "public class numbers {\n",
    "    public static void main(String[] args) {\n",
    "        int x = 777;\n",
    "\n",
    "        // challenge: think of 2 compound assignment operators that can be used in tandem to get the following outputs\n",
    "        // example: if we wanted output of 1 with 2 compound assigment operators, using x++; and x /= 777 would work. now how would we do that for:\n",
    "        \n",
    "        // 100?\n",
    "\n",
    "        System.out.println((x / 7) - 11);\n",
    "\n",
    "        // 779?\n",
    "\n",
    "        System.out.println(x + 3 - 1);\n",
    "\n",
    "        // 2?\n",
    "\n",
    "        System.out.println((x % 2) + 1);\n",
    "\n",
    "        System.out.println(x);\n",
    "}\n",
    "}\n",
    "numbers.main(null);"
   ]
  },
  {
   "cell_type": "code",
   "execution_count": 2,
   "metadata": {},
   "outputs": [
    {
     "name": "stdout",
     "output_type": "stream",
     "text": [
      "24\n"
     ]
    }
   ],
   "source": [
    "// Objective: Practice tracing code\n",
    "\n",
    "public class Demo {\n",
    "    public static void main(String[] args) {\n",
    "        int x = 758; // Defines the variable, x. This is an INTEGER of 758.\n",
    "        x += 423; // Add 423 to 758\n",
    "        x -= 137; // Subtract 137 from (423 + 758)\n",
    "        x *= 99; // Multiply 99 to ((423 + 758) - 137)\n",
    "        x /= 33; // Divide 33 from (((423 + 758) - 137) * 99)\n",
    "        x %= 111; // Finds the remainder from ((((423 + 758) - 137) * 99) / 33)\n",
    "        System.out.println(x); // Prints the result\n",
    "}\n",
    "}\n",
    "Demo.main(null);"
   ]
  },
  {
   "cell_type": "markdown",
   "metadata": {},
   "source": [
    "**Mini Hack:** Write some java code that uses compound operators and then trace through it similarly to the examples shown in this lesson. Use conditional statements as well, don't just execute some compound operators on an x value in order and call it a day. You might have to do tracing on the AP test so this is for your own good."
   ]
  },
  {
   "cell_type": "code",
   "execution_count": 4,
   "metadata": {},
   "outputs": [
    {
     "name": "stdout",
     "output_type": "stream",
     "text": [
      "15 is an odd number. We do not care about it.\n"
     ]
    }
   ],
   "source": [
    "public class CompoundDemonstration {\n",
    "    public static void main(String[] args) {\n",
    "\n",
    "        int x = 3; // Define x\n",
    "\n",
    "        x += 52; // Take the current value of x, add 52 to it, assign that value to x\n",
    "        x -= 24; // Same logic as above line; subtract 24 from the current value of x, assign that to x\n",
    "        x = ((x * 8) / 16); // First multiplies the current value by 8, divides that value by 16, and assigns the final value to x\n",
    "        \n",
    "        if (x % 2 == 0) { // Using modulus \"% 2\" to check if x is an even number\n",
    "            if (x >= 50) { // Check if the final x value is greater than 50\n",
    "                System.out.println(x + \" is an even number higher than 50!\"); // If it is, print this\n",
    "            }\n",
    "        } else {\n",
    "            System.out.println(x + \" is an odd number. We do not care about it.\"); // If it isn't, print this\n",
    "        }\n",
    "    }\n",
    "}\n",
    "\n",
    "CompoundDemonstration.main(null);"
   ]
  },
  {
   "cell_type": "markdown",
   "metadata": {},
   "source": [
    "### Section 5"
   ]
  },
  {
   "cell_type": "markdown",
   "metadata": {},
   "source": [
    "**Quiz** I got 4 out of 4. The answers were 7, 6.25, 1.2, -9"
   ]
  },
  {
   "cell_type": "markdown",
   "metadata": {},
   "source": [
    "### FRQ Hacks\n",
    "\n",
    "While it was done for us, putting the two pieces of code together isn't as simple as just copy-pasting. Here is my solution to that. I also demonstrated my skills in code tracing in my answer:"
   ]
  },
  {
   "cell_type": "code",
   "execution_count": 10,
   "metadata": {},
   "outputs": [
    {
     "name": "stdout",
     "output_type": "stream",
     "text": [
      "XgameWin: true\n",
      "YgameWin: false\n"
     ]
    }
   ],
   "source": [
    "public class Game {\n",
    "    int x = 0; // Moved the declarations here\n",
    "    int y = 0;\n",
    "    boolean XgameWin = false;\n",
    "    boolean YgameWin = false;\n",
    "\n",
    "    public int UpdateScore(int Wscore, int Lscore) {\n",
    "        Wscore += 1;\n",
    "        Lscore -= 1;\n",
    "\n",
    "        if (Wscore == 10) {\n",
    "            Wscore = 0;\n",
    "            Lscore = 0;\n",
    "        }\n",
    "        if (Lscore == 10) {\n",
    "            Wscore = 0;\n",
    "            Lscore = 0;\n",
    "        }\n",
    "        return Wscore;\n",
    "    }\n",
    "\n",
    "    public void gameWinchange(boolean X, boolean Y) {\n",
    "        if (X == true) {\n",
    "            x = UpdateScore(x, y); // Update x and y\n",
    "            XgameWin = true; // Update XgameWin\n",
    "        } else {\n",
    "            y = UpdateScore(y, x); // Update y and x\n",
    "            YgameWin = true; // Update YgameWin\n",
    "        }\n",
    "        System.out.println(\"XgameWin: \" + XgameWin);\n",
    "        System.out.println(\"YgameWin: \" + YgameWin);\n",
    "    }\n",
    "\n",
    "    public static void main(String[] args) {\n",
    "        Game game = new Game(); // Create an instance of Game\n",
    "        game.gameWinchange(true, false); // Call gameWinchange with appropriate arguments\n",
    "    }\n",
    "}\n",
    "Game.main(null);"
   ]
  },
  {
   "cell_type": "markdown",
   "metadata": {},
   "source": [
    "### Takeaways & Grading:\n",
    "\n",
    "**Takeaways**\n",
    "\n",
    "I learned two lessons from this unit through errors I got but solved:\n",
    "\n",
    "- It is important to make sure that code is being put inside either a main method or another method, and not just in the class. It is not possible to just use primitive types willy-nilly in the class itself. Structure needs to be present.\n",
    "- It is important to make sure the method and variable names are always matching. In the code above, I didn't make sure of this. I also tried to access variables outside scope, which is always important to make sure of. During the AP exam, students literally have to write code with their pencil or pen on the FRQ sheets, so going slow and making sure one knows what they're doing goes a long way.\n",
    "\n",
    "**Grading:**\n",
    "- 1/1 Point for correctly changing the boolean in Part A\n",
    "- 1/1 Point for using Compound Assigment Operators in Part B\n",
    "- 1/1 Point for Values reseting when one hits 10 points\n",
    "- 1/1 Point for Passing Arguments through Part A and B"
   ]
  },
  {
   "cell_type": "markdown",
   "metadata": {},
   "source": [
    "## Unit 2: Using Objects"
   ]
  },
  {
   "cell_type": "markdown",
   "metadata": {},
   "source": [
    "### Section 1\n",
    "\n",
    "**The relationship between classes and objects, in my own words:**\n",
    "\n",
    "- Classes are like blueprints for objects. They define the variables, methods, and constructors for each object that uses the class blueprint. An object, however, is an instance of a class, and isn't the definition of the class itself. The relationship between them is that an object is an instance of a class, and that an object uses a class as a blueprint, as mentioned."
   ]
  },
  {
   "cell_type": "markdown",
   "metadata": {},
   "source": [
    "### Section 2"
   ]
  },
  {
   "cell_type": "code",
   "execution_count": 9,
   "metadata": {},
   "outputs": [],
   "source": [
    "public class Student {\n",
    "\n",
    "    // instance variables\n",
    "    String name;\n",
    "    String teacher;\n",
    "    int period;\n",
    "\n",
    "    // constructor\n",
    "    public Student(String name, String teacher, int period) {\n",
    "        this.name = name;\n",
    "        this.teacher = teacher;\n",
    "        this.period = period;\n",
    "    }\n",
    "    // Identify, using its signature, the correct constructor being called.\n",
    "\n",
    "    // There is only one constructor method. However, I can specify that this class uses parameters to be set\n",
    "    // for each instance. This means that on initialization, the instance must have the parameters, as\n",
    "    // demonstrated in the following main method I created:\n",
    "\n",
    "    public static void main(String[] args) {\n",
    "        Student student = new Student(\"Paaras\", \"Mr. Mortensen\", 1);\n",
    "        // Student errorStudent = new Student(); This line is commented out as it will cause errors, as\n",
    "        // discussed above.\n",
    "    }\n",
    "}\n",
    "Student.main(null);"
   ]
  },
  {
   "cell_type": "markdown",
   "metadata": {},
   "source": [
    "### Section 3"
   ]
  },
  {
   "cell_type": "code",
   "execution_count": 11,
   "metadata": {},
   "outputs": [
    {
     "name": "stdout",
     "output_type": "stream",
     "text": [
      "This is a static method.\n",
      "This is a non-static method.\n",
      "This method has a void return type.\n"
     ]
    }
   ],
   "source": [
    "public class MyClass {\n",
    "\n",
    "    // Static method\n",
    "    public static void staticMethod() {\n",
    "        System.out.println(\"This is a static method.\");\n",
    "    }\n",
    "\n",
    "    // Non-static (instance) method\n",
    "    public void nonStaticMethod() {\n",
    "        System.out.println(\"This is a non-static method.\");\n",
    "    }\n",
    "\n",
    "    // Method with void return type\n",
    "    public void methodWithVoidReturnType() {\n",
    "        System.out.println(\"This method has a void return type.\");\n",
    "    }\n",
    "\n",
    "    public static void main(String[] args) {\n",
    "        // Calling the static method\n",
    "        staticMethod();\n",
    "\n",
    "        // Creating an object of MyClass\n",
    "        MyClass myObject = new MyClass();\n",
    "\n",
    "        // Calling the non-static method on the object\n",
    "        myObject.nonStaticMethod();\n",
    "\n",
    "        // Calling the method with void return type\n",
    "        myObject.methodWithVoidReturnType();\n",
    "    }\n",
    "}\n",
    "MyClass.main(null);"
   ]
  },
  {
   "cell_type": "markdown",
   "metadata": {},
   "source": [
    "### Section 5"
   ]
  },
  {
   "cell_type": "markdown",
   "metadata": {},
   "source": [
    "Which method in this class is a non-void method? Edit the cell below to call the Calculator method."
   ]
  },
  {
   "cell_type": "code",
   "execution_count": null,
   "metadata": {},
   "outputs": [],
   "source": [
    "public class Calculator {\n",
    "    public int add(int a, int b) {\n",
    "        return a + b;\n",
    "    }\n",
    "\n",
    "    public static void main(String[] args) {\n",
    "        Calculator calculator = new Calculator();\n",
    "\n",
    "        int sum = calculator.add(5, 3);\n",
    "\n",
    "        // Printing the result\n",
    "        System.out.println(\"Sum: \" + sum); // Output: Sum: 8\n",
    "    }\n",
    "}"
   ]
  },
  {
   "cell_type": "markdown",
   "metadata": {},
   "source": [
    "The `add()` function is a non-void method. It will return an integer."
   ]
  },
  {
   "cell_type": "markdown",
   "metadata": {},
   "source": [
    "### Section 6"
   ]
  },
  {
   "cell_type": "markdown",
   "metadata": {},
   "source": [
    "Challenge: Display the background of the quote while displaying the quote in one line: “Give me liberty or give me death!” - Patrick Henry."
   ]
  },
  {
   "cell_type": "code",
   "execution_count": 12,
   "metadata": {},
   "outputs": [
    {
     "name": "stdout",
     "output_type": "stream",
     "text": [
      "This is a famous quote written by Patrick Henry in the Virginia Convention: \n",
      "\"Give me liberty or give me death!\"\n"
     ]
    }
   ],
   "source": [
    "System.out.println(\"This is a famous quote written by Patrick Henry in the Virginia Convention: \\n\\\"Give me liberty or give me death!\\\"\");\n",
    "\n",
    "// This code works because of the \\n syntax. The syntax creates a new line when used."
   ]
  },
  {
   "cell_type": "markdown",
   "metadata": {},
   "source": [
    "Question: If we have a string, what is its lower bound index and what is its upper bound index, if the string length is equal to the variable ‘str’?\n",
    "\n",
    "Answer: The lower bound would be 0, unless CollegeBoard still uses a starting index of 1, and the upper bound would be one less than the length of the string, or `str - 1`."
   ]
  },
  {
   "cell_type": "markdown",
   "metadata": {},
   "source": [
    "Question: What is the error for an out of bound string? Display it in the cell below.\n",
    "\n",
    "```java\n",
    "String str = \"Hello\";\n",
    "System.out.println(str.substring(0, 1000))\n",
    "```\n",
    "\n",
    "Answer: The error is that 1000 is out of bounds for a string with only five characters, or a length of 5. "
   ]
  },
  {
   "cell_type": "markdown",
   "metadata": {},
   "source": [
    "### FRQ Hacks"
   ]
  },
  {
   "cell_type": "markdown",
   "metadata": {},
   "source": [
    "**Question 1:** Create a void method that takes an integer input and adds it to an ArrayList. Then, add a non-void method that is able to call a certain index from the ArrayList."
   ]
  },
  {
   "cell_type": "code",
   "execution_count": 16,
   "metadata": {},
   "outputs": [
    {
     "name": "stdout",
     "output_type": "stream",
     "text": [
      "3\n"
     ]
    }
   ],
   "source": [
    "public class Hack1 {\n",
    "\n",
    "    void addInteger(int input, ArrayList<Integer> arr) {\n",
    "        arr.add(input);\n",
    "    }\n",
    "\n",
    "    int getIndexOfArray(int index, ArrayList<Integer> arr) {\n",
    "        return arr.get(index);\n",
    "    }\n",
    "\n",
    "    public static void main(String[] args) {\n",
    "        ArrayList<Integer> array = new ArrayList<Integer>();\n",
    "        Hack1 instance = new Hack1();\n",
    "        instance.addInteger(3, array);\n",
    "        System.out.println(instance.getIndexOfArray(0, array));\n",
    "    }\n",
    "}\n",
    "\n",
    "Hack1.main(null);"
   ]
  },
  {
   "cell_type": "markdown",
   "metadata": {},
   "source": [
    "**Question 2:** Create a simple guessing game with random numbers in math, except the random number is taken to a random exponent (also includes roots), and the person has to find out what the root and exponent is (with hints!). Use at least one static and one non-static method in your class."
   ]
  },
  {
   "cell_type": "code",
   "execution_count": 1,
   "metadata": {},
   "outputs": [
    {
     "name": "stdout",
     "output_type": "stream",
     "text": [
      "Guess the root! (Hint: It's between 1 and 5)\n",
      "You guessed 4\n",
      "Guess the exponent! (Hint: It's between 2 and 6)\n",
      "You guessed 5\n",
      "Better luck next time! The answer was 3 raised to 3, \n"
     ]
    }
   ],
   "source": [
    "public class ExponentialGuessingGame {\n",
    "    public ArrayList<Integer> generateNumbers() {\n",
    "\n",
    "        int rootMin = 1;\n",
    "        int rootMax = 5;\n",
    "        int rootRange = (rootMax - rootMin) + 1;     \n",
    "        int root = (int)(Math.random() * rootRange) + rootMin;\n",
    "\n",
    "        int exponentMin = 2;\n",
    "        int exponentMax = 6;\n",
    "        int exponentRange = (exponentMax - exponentMin) + 1;\n",
    "        int exponent = (int)(Math.random() * exponentRange) + rootMin;\n",
    "\n",
    "        ArrayList<Integer> result = new ArrayList<Integer>();\n",
    "        result.add(root);\n",
    "        result.add(exponent);\n",
    "\n",
    "        return result;\n",
    "    }\n",
    "    public static void main(String[] args) {\n",
    "        Scanner scanner = new Scanner(System.in);\n",
    "        ExponentialGuessingGame instance = new ExponentialGuessingGame();\n",
    "\n",
    "        ArrayList<Integer> answers = instance.generateNumbers();\n",
    "\n",
    "        System.out.println(\"Guess the root! (Hint: It's between 1 and 5)\");\n",
    "        String rootGuess = scanner.nextLine();\n",
    "        System.out.println(\"You guessed \" + rootGuess);\n",
    "\n",
    "        System.out.println(\"Guess the exponent! (Hint: It's between 2 and 6)\");\n",
    "        String exponentGuess = scanner.nextLine();\n",
    "        System.out.println(\"You guessed \" + exponentGuess);\n",
    "\n",
    "        if (Integer.parseInt(rootGuess) == answers.get(0) && Integer.parseInt(exponentGuess) == answers.get(1)) {\n",
    "            System.out.println(\"You Got It!!!\");\n",
    "        } else {\n",
    "            System.out.println(\"Better luck next time! The answer was \" + answers.get(0) + \" raised to \" + answers.get(1) + \", \");\n",
    "        }\n",
    "    }\n",
    "}\n",
    "ExponentialGuessingGame.main(null);"
   ]
  },
  {
   "cell_type": "markdown",
   "metadata": {},
   "source": [
    "**Question 3:** Create a class of your choosing that has multiple parameters of different types (int, boolean, String, double) and put 5 data values in that list. Show that you can access the information by givng some samples."
   ]
  },
  {
   "cell_type": "code",
   "execution_count": 25,
   "metadata": {},
   "outputs": [
    {
     "name": "stdout",
     "output_type": "stream",
     "text": [
      "[4, true, Hello, World!, 3.14159]\n"
     ]
    }
   ],
   "source": [
    "public class MultipleParameters {\n",
    "    public ArrayList<String> returnMultipleParameters(int integer, boolean bool, String str, double decimal) {\n",
    "\n",
    "        ArrayList<String> result = new ArrayList<String>();\n",
    "\n",
    "        result.add(Integer.toString(integer));\n",
    "        result.add(Boolean.toString(bool));\n",
    "        result.add(str);\n",
    "        result.add(Double.toString(decimal));\n",
    "\n",
    "        return result;\n",
    "    }\n",
    "\n",
    "    public static void main(String[] args) {\n",
    "        MultipleParameters instance = new MultipleParameters();\n",
    "\n",
    "        ArrayList<String> result = instance.returnMultipleParameters(4, true, \"Hello, World!\", 3.14159);\n",
    "        System.out.println(result);\n",
    "    }\n",
    "}\n",
    "MultipleParameters.main(null);"
   ]
  },
  {
   "cell_type": "markdown",
   "metadata": {},
   "source": [
    "**Question 4:** Using your preliminary knowlege of loops, use a for loop to iterate through a person’s first and last name, seperated by a space, and create methods to call a person’s first name and a person’s last name by iterating through the string."
   ]
  },
  {
   "cell_type": "code",
   "execution_count": 3,
   "metadata": {},
   "outputs": [
    {
     "name": "stdout",
     "output_type": "stream",
     "text": [
      "Word at index 0: Paaras\n",
      "Word at index 1: Paaras\n"
     ]
    }
   ],
   "source": [
    "public class FindWordAtIndex {\n",
    "\n",
    "    public void findFirstAndLastName(String name, int index) {\n",
    "        String input = name;\n",
    "        int indexToFind = index;\n",
    "\n",
    "        String[] words = input.split(\" \");\n",
    "\n",
    "        int startIndex = 0;\n",
    "        int endIndex = -1;\n",
    "\n",
    "        for (String word : words) {\n",
    "            if (startIndex + word.length() > indexToFind) {\n",
    "                endIndex = startIndex + word.length() - 1;\n",
    "                break;\n",
    "            }\n",
    "\n",
    "            startIndex += word.length() + 1;\n",
    "        }\n",
    "\n",
    "        if (endIndex != -1) {\n",
    "            String wordAtIndex = input.substring(startIndex, endIndex + 1);\n",
    "            System.out.println(\"Word at index \" + indexToFind + \": \" + wordAtIndex);\n",
    "        } else {\n",
    "            System.out.println(\"Index out of bounds.\");\n",
    "        }\n",
    "    }\n",
    "\n",
    "    public static void main(String[] args) {\n",
    "        FindWordAtIndex instance = new FindWordAtIndex();\n",
    "        instance.findFirstAndLastName(\"Paaras Purohit\", 0);\n",
    "        instance.findFirstAndLastName(\"Paaras Purohit\", 1);\n",
    "    }\n",
    "}\n",
    "FindWordAtIndex.main(null);"
   ]
  },
  {
   "cell_type": "markdown",
   "metadata": {},
   "source": [
    "## Unit 3: Boolean Expressions & If Statements"
   ]
  },
  {
   "cell_type": "markdown",
   "metadata": {},
   "source": [
    "### Section 1:\n",
    "\n",
    "Operators SHOULD NOT be used on String. String comparisons should be done using .equal or .compareTo\n",
    "\n",
    "- This is because\n",
    "    - In Java, strings should not be compared using the == operator because it checks for **reference** equality, not **content** equality.\n",
    "    - When you use == with objects (including strings), it checks if the references to the objects are the same. In other words, it checks if they point to the same **location** in the memory.\n",
    "    - String literals in Java are stored in a special memory area called the \"String Pool\". When you create a string literal, Java checks if a string with the same content already exists in the pool. If it does, it returns a reference to that existing string; if not, it creates a new string.\n",
    "\n",
    "### Section 5: \n",
    "\n",
    "**Nested if-else statements:**\n",
    "Nested if-else statements allow for **multiple** levels of decision-making within a program.\n",
    "\n",
    "**Compound Boolean Expressions:**\n",
    "Compound boolean expressions involve using **boolean/conditional** operators like ``&& (and)`` and ``|| (or)`` to combine multiple conditions.\n",
    "\n",
    "**Short-Circuited Evaluation:**\n",
    "Short-circuited evaluation is an **optimization** technique where the second condition in a compound expression is only evaluated if the first condition is true (for &&) or false (for ||).\n",
    "\n",
    "**Coding Practice:**\n",
    "\n",
    "Calculate the final grade based on the following criteria:\n",
    "- If the student didn't complete homework, the grade is automatically \"F.\"\n",
    "- If the student completed homework and the average of midterm and final exam scores is >= 70, the grade is \"Pass.\"\n",
    "- Otherwise, the grade is \"Fail.\""
   ]
  },
  {
   "cell_type": "code",
   "execution_count": 2,
   "metadata": {},
   "outputs": [
    {
     "name": "stdout",
     "output_type": "stream",
     "text": [
      " Enter your midterm score (0-100): \n"
     ]
    },
    {
     "name": "stdout",
     "output_type": "stream",
     "text": [
      "2\n",
      " Enter your final exam score (0-100): \n",
      "34\n",
      " Did you complete the homework (yes/no): \n",
      "no\n",
      " Your final grade is: Fail\n"
     ]
    }
   ],
   "source": [
    "import java.util.Scanner;\n",
    "\n",
    "public class GradeCalculator {\n",
    "    String calculateGrades(int midtermScore, int finalExamScore, String homeworkComplete) {\n",
    "        \n",
    "        boolean completion = false;\n",
    "        int sumOfScores = midtermScore + finalExamScore;\n",
    "        int avg = sumOfScores / 2;\n",
    "\n",
    "        if (homeworkComplete == \"yes\") {\n",
    "            completion = true;\n",
    "        } else {\n",
    "            completion = false;\n",
    "        }\n",
    "        if (completion && avg >= 70) {\n",
    "            return new String(\"Pass\");\n",
    "        }\n",
    "        else {\n",
    "            return new String(\"Fail\");\n",
    "        }\n",
    "    }\n",
    "    public static void main(String[] args) {\n",
    "        Scanner scanner = new Scanner(System.in);\n",
    "\n",
    "        System.out.print(\" Enter your midterm score (0-100): \\n\");\n",
    "        int midtermScore = scanner.nextInt();\n",
    "        System.out.print(midtermScore);\n",
    "\n",
    "        System.out.print(\"\\n Enter your final exam score (0-100): \\n\");\n",
    "        int finalExamScore = scanner.nextInt();\n",
    "        System.out.print(finalExamScore);\n",
    "\n",
    "        System.out.print(\"\\n Did you complete the homework (yes/no): \\n\");\n",
    "        String homeworkComplete = scanner.next().toLowerCase();\n",
    "        System.out.print(homeworkComplete);\n",
    "\n",
    "        GradeCalculator instance = new GradeCalculator();\n",
    "        String grade = instance.calculateGrades(midtermScore, finalExamScore, homeworkComplete);\n",
    "\n",
    "        System.out.println(\"\\n Your final grade is: \" + grade);\n",
    "\n",
    "        scanner.close();\n",
    "    }\n",
    "}\n",
    "\n",
    "GradeCalculator.main(null)"
   ]
  },
  {
   "cell_type": "markdown",
   "metadata": {},
   "source": [
    "### Section 6\n",
    "\n",
    "**De Morgan's Law Practice**\n",
    "\n",
    "Negate the following expressions:\n",
    "\n",
    "``1. !(A || B)`` **= (!A && !B)**\n",
    "\n",
    "``2. !(A || B && C)`` **= (!A && !B || !C)**\n",
    "\n",
    "``3. !(A && (B || C))`` **(!A || (!B && !C))**"
   ]
  },
  {
   "cell_type": "markdown",
   "metadata": {},
   "source": [
    "### FRQ Coding Practice\n",
    "\n",
    "Create a program that validates a user's password based on the following criteria:\n",
    "\n",
    "1. The password must be at least 8 characters long.\n",
    "2. The password must contain at least one uppercase letter.\n",
    "3. The password must contain at least one lowercase letter.\n",
    "4. The password must contain at least one digit (0-9).\n",
    "5. The password must contain at least one special character (!, @, #, $, %, ^, &, *).\n",
    "\n",
    "Write a Java program that prompts the user to enter a password and then checks if it meets the above criteria. If the password meets all the criteria, print \"Password is valid.\" If not, print a message indicating which criteria the password fails to meet.\n"
   ]
  },
  {
   "cell_type": "code",
   "execution_count": 5,
   "metadata": {},
   "outputs": [
    {
     "name": "stdout",
     "output_type": "stream",
     "text": [
      "Enter a password: "
     ]
    },
    {
     "name": "stdout",
     "output_type": "stream",
     "text": [
      "th!s_IS_aGR8&&Password\n",
      "Password is valid.\n"
     ]
    }
   ],
   "source": [
    "import java.util.Scanner;\n",
    "import java.util.regex.*;\n",
    "\n",
    "public class PasswordValidator {\n",
    "    public static void main(String[] args) {\n",
    "        Scanner scanner = new Scanner(System.in);\n",
    "        System.out.print(\"Enter a password: \");\n",
    "        String password = scanner.nextLine();\n",
    "        System.out.println(password);\n",
    "        scanner.close();\n",
    "\n",
    "        if (isValidPassword(password)) {\n",
    "            System.out.println(\"Password is valid.\");\n",
    "        } else {\n",
    "            System.out.println(\"Password is invalid. It must meet the following criteria:\");\n",
    "            if (password.length() < 8) {\n",
    "                System.out.println(\"- The password must be at least 8 characters long.\");\n",
    "            }\n",
    "            if (!containsUppercaseLetter(password)) {\n",
    "                System.out.println(\"- The password must contain at least one uppercase letter.\");\n",
    "            }\n",
    "            if (!containsLowercaseLetter(password)) {\n",
    "                System.out.println(\"- The password must contain at least one lowercase letter.\");\n",
    "            }\n",
    "            if (!containsDigit(password)) {\n",
    "                System.out.println(\"- The password must contain at least one digit (0-9).\");\n",
    "            }\n",
    "            if (!containsSpecialCharacter(password)) {\n",
    "                System.out.println(\"- The password must contain at least one special character (!, @, #, $, %, ^, &, *).\");\n",
    "            }\n",
    "        }\n",
    "    }\n",
    "\n",
    "    public static boolean isValidPassword(String password) {\n",
    "        return password.length() >= 8\n",
    "            && containsUppercaseLetter(password)\n",
    "            && containsLowercaseLetter(password)\n",
    "            && containsDigit(password)\n",
    "            && containsSpecialCharacter(password);\n",
    "    }\n",
    "\n",
    "    public static boolean containsUppercaseLetter(String password) {\n",
    "        return Pattern.compile(\"[A-Z]\").matcher(password).find();\n",
    "    }\n",
    "\n",
    "    public static boolean containsLowercaseLetter(String password) {\n",
    "        return Pattern.compile(\"[a-z]\").matcher(password).find();\n",
    "    }\n",
    "\n",
    "    public static boolean containsDigit(String password) {\n",
    "        return Pattern.compile(\"[0-9]\").matcher(password).find();\n",
    "    }\n",
    "\n",
    "    public static boolean containsSpecialCharacter(String password) {\n",
    "        return Pattern.compile(\"[!@#$%^&*]\").matcher(password).find();\n",
    "    }\n",
    "}\n",
    "PasswordValidator.main(null);"
   ]
  },
  {
   "cell_type": "markdown",
   "metadata": {},
   "source": [
    "## Unit 4: Iteration"
   ]
  },
  {
   "cell_type": "markdown",
   "metadata": {},
   "source": [
    "**Question**: What is a loop and what are some real life examples of this (Setting a Song to repeat on your music player)\n",
    "\n",
    "Answer: An example of a loop is lesson questions. While the number of answers recieved is less than or equal to the limit the group presenting chose, the group will keep taking answers to the question they asked."
   ]
  },
  {
   "cell_type": "markdown",
   "metadata": {},
   "source": [
    "**Popcorn Hack**: Simplify this code:"
   ]
  },
  {
   "cell_type": "code",
   "execution_count": null,
   "metadata": {},
   "outputs": [],
   "source": [
    "// Popcorn Hack: Simplify the code segment below\n",
    "int i = 0;\n",
    "System.out.println(i);\n",
    "i++;\n",
    "System.out.println(i);\n",
    "i++;\n",
    "System.out.println(i);\n",
    "i++;\n",
    "System.out.println(i);\n",
    "i++;\n",
    "System.out.println(i);\n",
    "i++;\n",
    "\n",
    "/* Hint:\n",
    "// while (condition) {\n",
    "\n",
    "}\n",
    "for (condition) {\n",
    "\n",
    "}\n",
    "*/"
   ]
  },
  {
   "cell_type": "code",
   "execution_count": 1,
   "metadata": {},
   "outputs": [
    {
     "name": "stdout",
     "output_type": "stream",
     "text": [
      "0\n",
      "1\n",
      "2\n",
      "3\n",
      "4\n",
      "5\n"
     ]
    }
   ],
   "source": [
    "// Simplified Code:\n",
    "\n",
    "int i = 0;\n",
    "\n",
    "while (i <= 5) {\n",
    "    System.out.println(i);\n",
    "    i++;\n",
    "}"
   ]
  },
  {
   "cell_type": "markdown",
   "metadata": {},
   "source": [
    "**Question**: What's wrong with this code?"
   ]
  },
  {
   "cell_type": "code",
   "execution_count": null,
   "metadata": {},
   "outputs": [],
   "source": [
    "while (true)\n",
    "{\n",
    "    System.out.print(\"CONTROL \");\n",
    "}\n",
    "// DO NOT RUN THE CODE"
   ]
  },
  {
   "cell_type": "markdown",
   "metadata": {},
   "source": [
    "Answer: Since the condition inside the while statement is true, the code will run infinitely, which runs the risk of crashing memory."
   ]
  },
  {
   "cell_type": "markdown",
   "metadata": {},
   "source": [
    "**Question:** What will this code block output?"
   ]
  },
  {
   "cell_type": "code",
   "execution_count": null,
   "metadata": {},
   "outputs": [],
   "source": [
    "int i = 0;\n",
    "do \n",
    "{\n",
    "    System.out.print(\"Quite shrimple. \");\n",
    "    i++;\n",
    "}\n",
    "while (i < -5);"
   ]
  },
  {
   "cell_type": "markdown",
   "metadata": {},
   "source": [
    "Answer: Since the condition is that i must be less than -5, it won't run more than it needs to. Since the loop is written in this format, the loop will run the code THEN check the condition, meaning that the code will run only once. Therefore, the output will be \"Quite shrimple. \"."
   ]
  },
  {
   "cell_type": "markdown",
   "metadata": {},
   "source": [
    "**Question:** How many times will this code print \"Doing some code?\""
   ]
  },
  {
   "cell_type": "code",
   "execution_count": null,
   "metadata": {},
   "outputs": [],
   "source": [
    "for (int num = 1; num <= 5; num++)\n",
    "{\n",
    "    System.out.println(\"Doing some code\");\n",
    "}"
   ]
  },
  {
   "cell_type": "markdown",
   "metadata": {},
   "source": [
    "Answer: The code will print \"Doing some code\" five times."
   ]
  },
  {
   "cell_type": "markdown",
   "metadata": {},
   "source": [
    "**Question**: How many times will this code print \"Big guy?\""
   ]
  },
  {
   "cell_type": "code",
   "execution_count": null,
   "metadata": {},
   "outputs": [],
   "source": [
    "int i = 0; \n",
    "while (i < 10) \n",
    "{\n",
    "    System.out.println(\"Big guy\");\n",
    "    i++;  \n",
    "    if (i == 5) {\n",
    "        break;\n",
    "    }\n",
    "}"
   ]
  },
  {
   "cell_type": "markdown",
   "metadata": {},
   "source": [
    "Answer: This code will print the statement five times. Although the while loop specifies 10 times, the break statement in the loop is set to break the loop when i is equal to 5. Therefore, it only runs five times."
   ]
  },
  {
   "cell_type": "markdown",
   "metadata": {},
   "source": [
    "**Question**: Where are the 3 methods in the code and how do they contribute to the program's functionality?"
   ]
  },
  {
   "cell_type": "code",
   "execution_count": null,
   "metadata": {},
   "outputs": [],
   "source": [
    "public class Compare {\n",
    "    public static void main(String[] args) {\n",
    "        String string1 = \"Coding is cool!\";\n",
    "        String string2 = \"Coding is coding!\";\n",
    "\n",
    "        int minLength = Math.min(string1.length(), string2.length());\n",
    "\n",
    "        for (int i = 0; i < minLength; i++) {\n",
    "            String subString1 = string1.substring(0, i + 1);\n",
    "            String subString2 = string2.substring(0, i + 1);\n",
    "\n",
    "            if (subString1.equals(subString2)) {\n",
    "                System.out.println(\"Common Prefix: \" + subString2);\n",
    "            }\n",
    "        }\n",
    "    }\n",
    "}\n",
    "Compare.main(null)"
   ]
  },
  {
   "cell_type": "markdown",
   "metadata": {},
   "source": [
    "Answer:\n",
    "\n",
    "- `Math.min()` compares two values and returns which value is less, which sets the minimum length for the loop to iterate through.\n",
    "\n",
    "- `String.length()` gets the length of any string. This is the parameter for `Math.min()`.\n",
    "\n",
    "- `String.substring()` takes two numbers, a max and a min, and extracts those indices from the string calling the method to make a sub-string. This makes the output how it is."
   ]
  },
  {
   "cell_type": "markdown",
   "metadata": {},
   "source": [
    "**Question**: What does word.length() do and how do we use it above? What Boolean Operator is used?"
   ]
  },
  {
   "cell_type": "code",
   "execution_count": null,
   "metadata": {},
   "outputs": [],
   "source": [
    "String word = \"supercalifragilisticexpialidocious\";\n",
    "int count = 0;\n",
    "\n",
    "for (int i = 0; i < word.length(); i++) {\n",
    "    char letter = word.charAt(i);\n",
    "    if (letter == 'a' || letter == 'e' || letter == 'i' || letter == 'o' || letter == 'u') {\n",
    "        count++;\n",
    "    }\n",
    "}\n",
    "\n",
    "System.out.println(\"The Number of vowels in \\\"\" + word + \"\\\" is \" + count);"
   ]
  },
  {
   "cell_type": "markdown",
   "metadata": {},
   "source": [
    "Answer: `word.length` is used to tell the loop when to stop. There are two boolean operators used. The first is the `<` operator in the loop, and the other is the `==` operator in the conditional, used four times."
   ]
  },
  {
   "cell_type": "markdown",
   "metadata": {},
   "source": [
    "**Question**: Before uncommenting the code, guess what the output will look like:\n",
    "\n",
    "**Question**: What will the output of the code above be if we switch the loop headers (the stuff inside of the for loop)? \n",
    "\n",
    "**Question**: After making a prediction actually switch the loop headers for yourself. What do you notice about the output compared to the output before the change?"
   ]
  },
  {
   "cell_type": "code",
   "execution_count": 2,
   "metadata": {},
   "outputs": [
    {
     "name": "stdout",
     "output_type": "stream",
     "text": [
      "1 1 1 1 \n",
      "2 2 2 2 \n"
     ]
    }
   ],
   "source": [
    "public class NestedLoops{\n",
    "\n",
    "    public static void main(String[] args){\n",
    "/*\n",
    "        for (int outer = 1; outer < 5; outer++){\n",
    "            for (int inner = 1; inner < 3; inner++){\n",
    "                \n",
    "                System.out.print(inner + \" \");\n",
    "            }\n",
    "\n",
    "            System.out.println();\n",
    "\n",
    "        } \n",
    "*/\n",
    "    }\n",
    "}\n",
    "\n",
    "NestedLoops.main(null)"
   ]
  },
  {
   "cell_type": "markdown",
   "metadata": {},
   "source": [
    "Answer: This nested loop will print \"`1 2`\" four times.\n",
    "\n",
    "Answer: If you switched the for loops, the output would be \"`1 1 1 1`\" then \"`2 2 2 2`\".\n",
    "\n",
    "Answer: I got it right!"
   ]
  },
  {
   "cell_type": "markdown",
   "metadata": {},
   "source": [
    "**Question**: How many times will the inner loop execute when outer = 0? 1? 2? In total?"
   ]
  },
  {
   "cell_type": "code",
   "execution_count": null,
   "metadata": {},
   "outputs": [],
   "source": [
    "for (int outer = 0; outer < 3; outer++){\n",
    "    for (int inner = 0; inner < 4; inner++){\n",
    "        System.out.println(\"Test\");\n",
    "    }\n",
    "}"
   ]
  },
  {
   "cell_type": "markdown",
   "metadata": {},
   "source": [
    "Answer: 4, 4, 4, 12."
   ]
  },
  {
   "cell_type": "markdown",
   "metadata": {},
   "source": [
    "**Question** How many times will the inner loop execute when outer = 5? 4? 3? In total?"
   ]
  },
  {
   "cell_type": "code",
   "execution_count": null,
   "metadata": {},
   "outputs": [],
   "source": [
    "for (int outer = 5; outer > 0; outer--){\n",
    "    for (int inner = 0; inner < outer; inner++){\n",
    "        System.out.println(\"e\");\n",
    "    }\n",
    "}"
   ]
  },
  {
   "cell_type": "markdown",
   "metadata": {},
   "source": [
    "Answer: 4, 3, 2, 15."
   ]
  },
  {
   "cell_type": "markdown",
   "metadata": {},
   "source": [
    "**Question**: How many times will the statement #1 execute?"
   ]
  },
  {
   "cell_type": "code",
   "execution_count": null,
   "metadata": {},
   "outputs": [],
   "source": [
    "int k = 0;\n",
    "while (k < 5){\n",
    "    int x = (int)(Math.random()*6) + 1;\n",
    "    while (x != 6){\n",
    "        System.out.println(\"x\");\n",
    "        x = (int)(Math.random()*6) + 1;\n",
    "    }\n",
    "    k++;\n",
    "}"
   ]
  },
  {
   "cell_type": "markdown",
   "metadata": {},
   "source": [
    "Answer: There is not enough information to determine this. This is because `Math.random()` is dictating how long the loop will run, so it could be any value."
   ]
  },
  {
   "cell_type": "markdown",
   "metadata": {},
   "source": [
    "**Question**: How many times will the statements run?"
   ]
  },
  {
   "cell_type": "code",
   "execution_count": null,
   "metadata": {},
   "outputs": [],
   "source": [
    "for (int k = 0; k < 135; k++){\n",
    "    if (k % 5 == 0){ // Statement #1\n",
    "        System.out.print(k); // Statement #2\n",
    "    }\n",
    "}"
   ]
  },
  {
   "cell_type": "markdown",
   "metadata": {},
   "source": [
    "Answer: 27."
   ]
  },
  {
   "cell_type": "markdown",
   "metadata": {},
   "source": [
    "### FRQ Hacks"
   ]
  },
  {
   "cell_type": "markdown",
   "metadata": {},
   "source": [
    "**Hack 1**: Rewrite a regular for loop using what you've learned."
   ]
  },
  {
   "cell_type": "code",
   "execution_count": 2,
   "metadata": {},
   "outputs": [],
   "source": [
    "public class RewritingForLoops {\n",
    "    void usingWhileLoop() {\n",
    "        int k = 0;\n",
    "\n",
    "        while (k < 40) {\n",
    "            System.out.println(k);\n",
    "            k += 4;\n",
    "        }\n",
    "    }\n",
    "\n",
    "    void usingDoWhileLoop() {\n",
    "        int k = 0;\n",
    "\n",
    "        do {\n",
    "            System.out.println(k);\n",
    "            k += 4;\n",
    "        } while (k < 40);\n",
    "    }\n",
    "    \n",
    "    void usingListLoop() {\n",
    "        int[] iterated = {0, 4, 8, 12, 16, 20, 24, 28, 32, 36, 40};\n",
    "\n",
    "        for (int k : iterated) {\n",
    "            System.out.println(k);\n",
    "        }\n",
    "    }\n",
    "}"
   ]
  },
  {
   "cell_type": "markdown",
   "metadata": {},
   "source": [
    "**Hack 2: Ceaser Cipher Hacks:**\n",
    "Try to write a cipher program that shifts each letter in a message 3 letters forward. Use any of the methods you learned today. Use it to decode the 3 messages we've given you!"
   ]
  },
  {
   "cell_type": "code",
   "execution_count": 4,
   "metadata": {},
   "outputs": [
    {
     "name": "stdout",
     "output_type": "stream",
     "text": [
      "Decoded Message 1: hcwy div!\n",
      "Decoded Message 2: wixy wixy wixy\n",
      "Decoded Message 3: mojylwufczluacfcmncwyrjcufcxiwciom\n"
     ]
    }
   ],
   "source": [
    "public class CaesarCipher {\n",
    "\n",
    "    public static void main(String[] args) {\n",
    "        String[] letters = {\"a\", \"b\", \"c\", \"d\", \"e\", \"f\", \"g\", \"h\", \"i\", \"j\", \"k\", \"l\", \"m\", \"n\", \"o\", \"p\", \"q\", \"r\", \"s\", \"t\", \"u\", \"v\", \"w\", \"x\", \"y\", \"z\"};\n",
    "        String message1 = \"Kfzb gly!\";\n",
    "        String message2 = \"zlab zlab zlab\";\n",
    "        String message3 = \"prmbozxifcoxdfifpqfzbumfxifalzflrp\";\n",
    "\n",
    "        String decodedMessage1 = decodeCaesarCipher(message1, 3, letters);\n",
    "        String decodedMessage2 = decodeCaesarCipher(message2, 3, letters);\n",
    "        String decodedMessage3 = decodeCaesarCipher(message3, 3, letters);\n",
    "\n",
    "        System.out.println(\"Decoded Message 1: \" + decodedMessage1);\n",
    "        System.out.println(\"Decoded Message 2: \" + decodedMessage2);\n",
    "        System.out.println(\"Decoded Message 3: \" + decodedMessage3);\n",
    "    }\n",
    "\n",
    "    // Function to decode a Caesar cipher\n",
    "    public static String decodeCaesarCipher(String message, int shift, String[] letters) {\n",
    "        StringBuilder decodedMessage = new StringBuilder();\n",
    "        for (int i = 0; i < message.length(); i++) {\n",
    "            char currentChar = message.charAt(i);\n",
    "            if (Character.isLetter(currentChar)) {\n",
    "                char base = Character.isUpperCase(currentChar) ? 'A' : 'a';\n",
    "                int index = (currentChar - base - shift + 26) % 26;\n",
    "                decodedMessage.append(letters[index]);\n",
    "            } else {\n",
    "                decodedMessage.append(currentChar);\n",
    "            }\n",
    "        }\n",
    "        return decodedMessage.toString();\n",
    "    }\n",
    "}\n",
    "CaesarCipher.main(null);"
   ]
  },
  {
   "cell_type": "markdown",
   "metadata": {},
   "source": [
    "## Unit 5: Writing Classes"
   ]
  },
  {
   "cell_type": "markdown",
   "metadata": {},
   "source": [
    "### **Popcorn Hacks from Each Section:**"
   ]
  },
  {
   "cell_type": "markdown",
   "metadata": {},
   "source": [
    "### Section 1:\n",
    "\n",
    "**Data Encapsulation:** This is one of the key components of object oriented programming. It ensures data *protection* by controlling which parts of a class are accessible to other classes."
   ]
  },
  {
   "cell_type": "markdown",
   "metadata": {},
   "source": [
    "### Section 2\n",
    "\n",
    "**Constructors are...** used to set the *initial* state of an object.\n",
    "\n",
    "**Alias**: Two variables point to the *same* object."
   ]
  },
  {
   "cell_type": "markdown",
   "metadata": {},
   "source": [
    "### Section 10\n",
    "\n",
    "**Components of Ethical Implications:** Legal issues and intellectual *property* are big concerns in program creation. Licensing open source software is a big issue, as it dictates how programmers need to comply with terms and how software can be distributed and used."
   ]
  },
  {
   "cell_type": "markdown",
   "metadata": {},
   "source": [
    "### FRQ Hacks"
   ]
  },
  {
   "cell_type": "markdown",
   "metadata": {},
   "source": [
    "**5.1-5.3:** Create a simple to-do list that utilises public and private declaration, constructors, and a mutable array."
   ]
  },
  {
   "cell_type": "code",
   "execution_count": 3,
   "metadata": {},
   "outputs": [
    {
     "name": "stdout",
     "output_type": "stream",
     "text": [
      "[Do the dishes, Do homework]\n"
     ]
    }
   ],
   "source": [
    "public class ToDoList {\n",
    "\n",
    "    private ArrayList<String> toDoList;\n",
    "\n",
    "    public ToDoList(ArrayList<String> toDoList) {\n",
    "        this.toDoList = toDoList;\n",
    "    }\n",
    "\n",
    "    public String addItem(String item) {\n",
    "        toDoList.add(item);\n",
    "        return item;\n",
    "    }\n",
    "\n",
    "    public String removeItem(int index) {\n",
    "        if (index >= 0 && index < toDoList.size()) {\n",
    "            return toDoList.remove(index);\n",
    "        } else {\n",
    "            return \"Invalid index\";\n",
    "        }\n",
    "    }\n",
    "\n",
    "    public ArrayList<String> displayList() {\n",
    "        return toDoList;\n",
    "    }\n",
    "}\n",
    "\n",
    "public class Main {\n",
    "    public static void main(String[] args) {\n",
    "        ToDoList myToDoList = new ToDoList(new ArrayList<String>());\n",
    "        myToDoList.addItem(\"Do the dishes\");\n",
    "        myToDoList.addItem(\"Do homework\");\n",
    "        myToDoList.addItem(\"Play video games\");\n",
    "        myToDoList.removeItem(2);\n",
    "        System.out.println(myToDoList.displayList());\n",
    "    }\n",
    "}\n",
    "Main.main(null);"
   ]
  },
  {
   "cell_type": "markdown",
   "metadata": {},
   "source": [
    "**5.9-5.10 Hacks:** Write a two sentence reflection on the social and ethical implications of programming.\n",
    "\n",
    "Programming, while just a tool, can be used to bring creations to life that can make a great difference in the world, or divide the world and serve unethical purposes. While there are certainly some who would like to contribute to the digital divide, online phishing and scamming, pirating, and cyber-bullying, the tool of programming can be used by artists, engineers, scientists, or mathematicians to discover, create, and research new things, and help the world become a better place."
   ]
  },
  {
   "cell_type": "markdown",
   "metadata": {},
   "source": [
    "## Unit 6: Arrays"
   ]
  },
  {
   "cell_type": "markdown",
   "metadata": {},
   "source": [
    "### Section 2:\n",
    "\n",
    "**Standard For Loop:** An array in java is indexed from *0* to the number of elements *minus one*.\n",
    "\n",
    "**Class Discussion-Take Notes, these will count for points in your hacks!**"
   ]
  },
  {
   "cell_type": "code",
   "execution_count": 4,
   "metadata": {},
   "outputs": [
    {
     "name": "stdout",
     "output_type": "stream",
     "text": [
      "3\n",
      "0\n",
      "0\n",
      "0\n",
      "3\n",
      "3\n"
     ]
    }
   ],
   "source": [
    "import java.util.Random;\n",
    "\n",
    "public class RandomArray {\n",
    "    public static void main(String[] args){\n",
    "        int [] list = new int[6];\n",
    "        Random rand = new Random(); \n",
    "    // FOR LOOP 1\n",
    "        for (int i = 0; i < list.length; i++){\n",
    "            list[i] = rand.nextInt(4);\n",
    "        }\n",
    "    // FOR LOOP 2\n",
    "        for(int element: list){\n",
    "            System.out.println(element);\n",
    "        }\n",
    "    }\n",
    "}\n",
    "RandomArray.main(null);"
   ]
  },
  {
   "cell_type": "markdown",
   "metadata": {},
   "source": [
    "\n",
    "1. What do the for loops  accomplish? \n",
    "\n",
    "    *The first for loop accomplishes filling in the array with random numbers. The second for loop accomplishes printing the random numbers in the array.*\n",
    "\n",
    "2. What is the difference between how elements of the array list are accessed? \n",
    "    \n",
    "    *You can either access an element through an index or through a for loop.*\n",
    "\n",
    "3. BONUS: When the array list of ints was first created, what was each int in the list initialized to? \n",
    "    \n",
    "    *Zero.*"
   ]
  },
  {
   "cell_type": "markdown",
   "metadata": {},
   "source": [
    "**Class Discussion-Take Notes, these will count for points in your hacks!**"
   ]
  },
  {
   "cell_type": "code",
   "execution_count": null,
   "metadata": {},
   "outputs": [],
   "source": [
    "// EVEN\n",
    "int[] list = {0, 1, 2, 3, 4, 5};\n",
    "System.out.println(\"Even Index\");\n",
    "for(int index = 0; index < list.length; index++){\n",
    "    System.out.println(list[index]);\n",
    "}\n",
    "\n",
    "// ODD\n",
    "int[] list = {0, 1, 2, 3, 4, 5};\n",
    "System.out.println(\"Odd Index\");\n",
    "for(int index = 0; index < list.length; index++){\n",
    "    System.out.println(list[index]);\n",
    "}"
   ]
  },
  {
   "cell_type": "markdown",
   "metadata": {},
   "source": [
    "4. If I only wanted to access the elements at even indices of the list (0, 2, 4), what could I change in the statement below to accomplish that?  \n",
    "\n",
    "5. What about odd?  "
   ]
  },
  {
   "cell_type": "markdown",
   "metadata": {},
   "source": [
    "**Answer:** Improved code:"
   ]
  },
  {
   "cell_type": "code",
   "execution_count": 8,
   "metadata": {},
   "outputs": [
    {
     "name": "stdout",
     "output_type": "stream",
     "text": [
      "Even Index\n",
      "0\n",
      "2\n",
      "4\n",
      "Odd Index\n"
     ]
    },
    {
     "name": "stdout",
     "output_type": "stream",
     "text": [
      "1\n",
      "3\n",
      "5\n"
     ]
    }
   ],
   "source": [
    "// EVEN\n",
    "int[] list = {0, 1, 2, 3, 4, 5};\n",
    "System.out.println(\"Even Index\");\n",
    "for(int index = 0; index < list.length; index += 2) { // I changed the loop to increment by 2 starting from 0.\n",
    "    System.out.println(list[index]);\n",
    "}\n",
    "\n",
    "// ODD\n",
    "int[] list = {0, 1, 2, 3, 4, 5};\n",
    "System.out.println(\"Odd Index\");\n",
    "for(int index = 1; index < list.length; index += 2) { // I changed the loop to increment by 2 starting from 1.\n",
    "    System.out.println(list[index]);\n",
    "}"
   ]
  },
  {
   "cell_type": "markdown",
   "metadata": {},
   "source": [
    "**ATTENTION: MOST COMMON MISTAKE:** What is wrong with the for loop and while loop below? Why does this produce an ArrayIndexOutOfBoundsException error?\n",
    "\n",
    "```java\n",
    "for(int i = 0; i <= list.length; i ++)\n",
    "```\n",
    "\n",
    "**Answer:** ```list.length``` is one greater than the numerical length from the indices. To fix this, you would either change `<=` to `<`, or you would change `list.length` to `list.length - 1`, but not both."
   ]
  },
  {
   "cell_type": "markdown",
   "metadata": {},
   "source": [
    "**Average Value:** Complete the popcorn hack below in order to return the average value of the elements in the list numbers. "
   ]
  },
  {
   "cell_type": "code",
   "execution_count": 10,
   "metadata": {},
   "outputs": [
    {
     "name": "stdout",
     "output_type": "stream",
     "text": [
      "The average of the numbers is: 15.0\n"
     ]
    }
   ],
   "source": [
    "public class ArrayAverage {\n",
    "    public static void main(String[] args) {\n",
    "        int[] numbers = {5, 10, 15, 20, 25};\n",
    "        int sum = 0;\n",
    "        double average;\n",
    "\n",
    "        for (int i = 0; i < numbers.length; i++) {\n",
    "            sum += numbers[i]; // missing code\n",
    "        }\n",
    "\n",
    "        average = (double) sum / numbers.length; // missing code\n",
    "\n",
    "        System.out.println(\"The average of the numbers is: \" + average);\n",
    "    }\n",
    "}\n",
    "ArrayAverage.main(null);"
   ]
  },
  {
   "cell_type": "markdown",
   "metadata": {},
   "source": [
    "### Section 3:"
   ]
  },
  {
   "cell_type": "markdown",
   "metadata": {},
   "source": [
    "**Popcorn Hack:** Rewrite this code to use an enhanced for loop instead. Make comments explaining what you added/changed."
   ]
  },
  {
   "cell_type": "code",
   "execution_count": 11,
   "metadata": {},
   "outputs": [
    {
     "name": "stdout",
     "output_type": "stream",
     "text": [
      "Quote: \"Success is not final, failure is not fatal: It is the courage to continue that counts.\"\n",
      "Emotion: Courageous\n",
      "---------------------------\n",
      "Quote: \"The only way to do great work is to love what you do.\"\n",
      "Emotion: Passionate\n",
      "---------------------------\n",
      "Quote: \"The best way to predict the future is to create it.\"\n",
      "Emotion: Innovative\n",
      "---------------------------\n"
     ]
    }
   ],
   "source": [
    "import java.util.List;\n",
    "\n",
    "class Quote {\n",
    "    private List<String> quotes;\n",
    "    private List<String> emotions;\n",
    "\n",
    "    public Quote(List<String> quotes, List<String> emotions) {\n",
    "        this.quotes = quotes;\n",
    "        this.emotions = emotions;\n",
    "    }\n",
    "\n",
    "    public void printQuotesWithEmotions() {\n",
    "        // Make a change in the code here! \n",
    "        for (int i = 0; i < quotes.size() && i < emotions.size(); i++) {\n",
    "            String quote = quotes.get(i);\n",
    "            String emotion = emotions.get(i);\n",
    "            System.out.println(\"Quote: \\\"\" + quote + \"\\\"\");\n",
    "            System.out.println(\"Emotion: \" + emotion);\n",
    "            System.out.println(\"---------------------------\");\n",
    "        }\n",
    "    }\n",
    "\n",
    "    public static void main(String[] args) {\n",
    "        List<String> quotes = List.of(\n",
    "            \"Success is not final, failure is not fatal: It is the courage to continue that counts.\",\n",
    "            \"The only way to do great work is to love what you do.\",\n",
    "            \"The best way to predict the future is to create it.\"\n",
    "        );\n",
    "\n",
    "        List<String> emotions = List.of(\n",
    "            \"Courageous\",\n",
    "            \"Passionate\",\n",
    "            \"Innovative\"\n",
    "        );\n",
    "\n",
    "        Quote quotePrinter = new Quote(quotes, emotions);\n",
    "        quotePrinter.printQuotesWithEmotions();\n",
    "    }\n",
    "}\n",
    "\n",
    "Quote.main(null);"
   ]
  },
  {
   "cell_type": "markdown",
   "metadata": {},
   "source": [
    "**Answer:** Rewritten code:"
   ]
  },
  {
   "cell_type": "code",
   "execution_count": 12,
   "metadata": {},
   "outputs": [
    {
     "name": "stdout",
     "output_type": "stream",
     "text": [
      "Quote: \"Success is not final, failure is not fatal: It is the courage to continue that counts.\"\n",
      "Emotion: Courageous\n",
      "---------------------------\n",
      "Quote: \"The only way to do great work is to love what you do.\"\n",
      "Emotion: Passionate\n",
      "---------------------------\n",
      "Quote: \"The best way to predict the future is to create it.\"\n",
      "Emotion: Innovative\n",
      "---------------------------\n"
     ]
    }
   ],
   "source": [
    "import java.util.List;\n",
    "\n",
    "class Quote {\n",
    "    private List<String> quotes;\n",
    "    private List<String> emotions;\n",
    "\n",
    "    public Quote(List<String> quotes, List<String> emotions) {\n",
    "        this.quotes = quotes;\n",
    "        this.emotions = emotions;\n",
    "    }\n",
    "\n",
    "    public void printQuotesWithEmotions() {\n",
    "        int i = 0;\n",
    "        for (String quote : quotes) {\n",
    "            if (i < emotions.size()) {\n",
    "                String emotion = emotions.get(i);\n",
    "                System.out.println(\"Quote: \\\"\" + quote + \"\\\"\");\n",
    "                System.out.println(\"Emotion: \" + emotion);\n",
    "                System.out.println(\"---------------------------\");\n",
    "                i++;\n",
    "            }\n",
    "        }\n",
    "    }\n",
    "\n",
    "    public static void main(String[] args) {\n",
    "        List<String> quotes = List.of(\n",
    "            \"Success is not final, failure is not fatal: It is the courage to continue that counts.\",\n",
    "            \"The only way to do great work is to love what you do.\",\n",
    "            \"The best way to predict the future is to create it.\"\n",
    "        );\n",
    "\n",
    "        List<String> emotions = List.of(\n",
    "            \"Courageous\",\n",
    "            \"Passionate\",\n",
    "            \"Innovative\"\n",
    "        );\n",
    "\n",
    "        Quote quotePrinter = new Quote(quotes, emotions);\n",
    "        quotePrinter.printQuotesWithEmotions();\n",
    "    }\n",
    "}\n",
    "Quote.main(null);"
   ]
  },
  {
   "cell_type": "markdown",
   "metadata": {},
   "source": [
    "### Section 4:"
   ]
  },
  {
   "cell_type": "markdown",
   "metadata": {},
   "source": [
    "**Popcorn hack #1** What needs to be changed to find the index of the max value? (write correct code in cell below)"
   ]
  },
  {
   "cell_type": "code",
   "execution_count": null,
   "metadata": {},
   "outputs": [],
   "source": [
    "public class MaximumNumberMethods {\n",
    "\n",
    "    // Original method\n",
    "    private int findMax(double [] values) {\n",
    "        double max = values[0];\n",
    "\n",
    "        for (int index = 1; index < values.length; index++) {\n",
    "            max = values[index];\n",
    "        }\n",
    "        return (double) max;\n",
    "    }\n",
    "\n",
    "    // My improved method\n",
    "    private int findMaxIndex(double[] values) {\n",
    "        double max = values[0];\n",
    "        int maxIndex = 0;\n",
    "    \n",
    "        for (int index = 1; index < values.length; index++) {\n",
    "            if (values[index] > max) {\n",
    "                max = values[index];\n",
    "                maxIndex = index;\n",
    "            }\n",
    "        }\n",
    "    \n",
    "        return maxIndex;\n",
    "    }\n",
    "}"
   ]
  },
  {
   "cell_type": "markdown",
   "metadata": {},
   "source": [
    "**Questions:**\n",
    "\n",
    "- Does the order of accumulation matter?\n",
    "    Yes, because the each order of accumulation leads to different results. Be careful of what order you're using to make sure the result you want is achieved.\n",
    "- Can you declare the variable inside the loop?\n",
    "    Yes, but it can't be called out of scope, which is a common mistake."
   ]
  },
  {
   "cell_type": "markdown",
   "metadata": {},
   "source": [
    "**Question:** What kind of for loop should we use? Why?"
   ]
  },
  {
   "cell_type": "code",
   "execution_count": 13,
   "metadata": {},
   "outputs": [
    {
     "name": "stdout",
     "output_type": "stream",
     "text": [
      "3 4 5 1 2 "
     ]
    }
   ],
   "source": [
    "int[] numbers = {1, 2, 3, 4, 5};\n",
    "int[] shifted = new int[numbers.length];\n",
    "int shift = 8;\n",
    "\n",
    "for (int index = 0; index < numbers.length; index++) {\n",
    "    shifted[Math.abs((index + shift) % numbers.length)] = numbers[index];\n",
    "}\n",
    "\n",
    "numbers = shifted;\n",
    "\n",
    "for (int num : numbers) {\n",
    "    System.out.print(num + \" \");\n",
    "}"
   ]
  },
  {
   "cell_type": "markdown",
   "metadata": {},
   "source": [
    "**Answer:** Use an enhanced for loop like this:"
   ]
  },
  {
   "cell_type": "code",
   "execution_count": 14,
   "metadata": {},
   "outputs": [
    {
     "name": "stdout",
     "output_type": "stream",
     "text": [
      "3 4 5 1 2 "
     ]
    }
   ],
   "source": [
    "int[] numbers = {1, 2, 3, 4, 5};\n",
    "int[] shifted = new int[numbers.length];\n",
    "int shift = 8;\n",
    "\n",
    "for (int index = 0; index < numbers.length; index++) {\n",
    "    shifted[Math.abs((index + shift) % numbers.length)] = numbers[index];\n",
    "}\n",
    "\n",
    "numbers = shifted;\n",
    "\n",
    "for (int num : numbers) {\n",
    "    System.out.print(num + \" \");\n",
    "}\n"
   ]
  },
  {
   "cell_type": "markdown",
   "metadata": {},
   "source": [
    "**Question:** Why are we using the % operator?\n",
    "\n",
    "**Answer:** To create a circular shift in the array to shift the numbers."
   ]
  },
  {
   "cell_type": "markdown",
   "metadata": {},
   "source": [
    "**Question:** How would we code a left shift? Write a left shift using the variables below:"
   ]
  },
  {
   "cell_type": "code",
   "execution_count": null,
   "metadata": {},
   "outputs": [],
   "source": [
    "String [] words = {\"alpha\", \"beta\", \"gamma\", \"delta\"};\n",
    "int shiftWord = 2;"
   ]
  },
  {
   "cell_type": "markdown",
   "metadata": {},
   "source": [
    "**Answer:** Here's the code:"
   ]
  },
  {
   "cell_type": "code",
   "execution_count": 16,
   "metadata": {},
   "outputs": [
    {
     "name": "stdout",
     "output_type": "stream",
     "text": [
      "gamma delta alpha beta "
     ]
    }
   ],
   "source": [
    "public class LeftShiftArray {\n",
    "    public static void main(String[] args) {\n",
    "        String[] words = {\"alpha\", \"beta\", \"gamma\", \"delta\"};\n",
    "        int shiftWord = 2;\n",
    "        \n",
    "        int length = words.length;\n",
    "        \n",
    "        String[] shiftedWords = new String[length];\n",
    "        \n",
    "        for (int i = 0; i < length; i++) {\n",
    "            int newIndex = (i - shiftWord + length) % length;\n",
    "            \n",
    "            shiftedWords[newIndex] = words[i];\n",
    "        }\n",
    "        \n",
    "        for (int i = 0; i < length; i++) {\n",
    "            System.out.print(shiftedWords[i] + \" \");\n",
    "        }\n",
    "    }\n",
    "}\n",
    "LeftShiftArray.main(null);"
   ]
  },
  {
   "cell_type": "markdown",
   "metadata": {},
   "source": [
    "### FRQ Hacks"
   ]
  },
  {
   "cell_type": "markdown",
   "metadata": {},
   "source": [
    "**6.1:** Follow the steps in the lesson to just make an array that has some relation to your project. Feel free to use the code examples we provided in your hack if you would like."
   ]
  },
  {
   "cell_type": "markdown",
   "metadata": {},
   "source": [
    "**Answer** Below is the code from my project's feature that I'm working on, a planet weight simulator. It uses ArrayLists to handle input and output, which returns the weights of the user on the eight planets of our solar system:"
   ]
  },
  {
   "cell_type": "code",
   "execution_count": null,
   "metadata": {},
   "outputs": [],
   "source": [
    "import java.util.ArrayList;\n",
    "\n",
    "public class PlanetWeight {\n",
    "\n",
    "    private final double mercuryGravity = 3.7;\n",
    "    private final double venusGravity = 8.87;\n",
    "    private final double earthGravity = 9.81;\n",
    "    private final double marsGravity = 3.721;\n",
    "    private final double jupiterGravity = 24.79;\n",
    "    private final double saturnGravity = 10.44;\n",
    "    private final double uranusGravity = 8.69;\n",
    "    private final double neptuneGravity = 11.15;\n",
    "\n",
    "    public ArrayList<Double> calculatePlanetWeights(double mass) {\n",
    "        if (mass <= 0) {\n",
    "            throw new IllegalArgumentException(\"Mass must be positive.\");\n",
    "        }\n",
    "\n",
    "        ArrayList<Double> weights = new ArrayList<Double>();\n",
    "\n",
    "        weights.add(mass * mercuryGravity);\n",
    "        weights.add(mass * venusGravity);\n",
    "        weights.add(mass * earthGravity);\n",
    "        weights.add(mass * marsGravity);\n",
    "        weights.add(mass * jupiterGravity);\n",
    "        weights.add(mass * saturnGravity);\n",
    "        weights.add(mass * uranusGravity);\n",
    "        weights.add(mass * neptuneGravity);\n",
    "\n",
    "        return weights;\n",
    "    }\n",
    "\n",
    "    private static String getPlanetName(int index) {\n",
    "        switch (index) {\n",
    "            case 0: return \"Mercury\";\n",
    "            case 1: return \"Venus\";\n",
    "            case 2: return \"Earth\";\n",
    "            case 3: return \"Mars\";\n",
    "            case 4: return \"Jupiter\";\n",
    "            case 5: return \"Saturn\";\n",
    "            case 6: return \"Uranus\";\n",
    "            case 7: return \"Neptune\";\n",
    "            default: return \"Unknown\";\n",
    "        }\n",
    "    }\n",
    "\n",
    "    public ArrayList<String> representWeights(ArrayList<Double> weights) {\n",
    "        ArrayList<String> comparisons = new ArrayList<String>();\n",
    "        \n",
    "        for (double i : weights) {\n",
    "            if (i >= 0 && i <= 50) {\n",
    "                comparisons.add(\"A bag of dog food\");\n",
    "            } else if (i > 50 && i <= 100) {\n",
    "                comparisons.add(\"A standard adult bicycle\");\n",
    "            } else if (i > 100 && i <= 150) {\n",
    "                comparisons.add(\"A large microwave oven\");\n",
    "            } else if (i > 150 && i <= 200) {\n",
    "                comparisons.add(\"A typical adult male\");\n",
    "            } else if (i > 200 && i <= 250) {\n",
    "                comparisons.add(\"A full-sized refrigerator\");\n",
    "            } else if (i > 250 && i <= 300) {\n",
    "                comparisons.add(\"A grand piano\");\n",
    "            } else if (i > 300 && i <= 350) {\n",
    "                comparisons.add(\"A vending machine\");\n",
    "            } else if (i > 350 && i <= 400) {\n",
    "                comparisons.add(\"A small motorcycle\");\n",
    "            } else if (i > 400 && i <= 450) {\n",
    "                comparisons.add(\"A black bear (average weight)\");\n",
    "            } else if (i > 450 && i <= 500) {\n",
    "                comparisons.add(\"A grand piano with additional weight or a full-grown male lion (average weight)\");\n",
    "            }\n",
    "        }\n",
    "        \n",
    "        return comparisons;\n",
    "    }    \n",
    "}"
   ]
  },
  {
   "cell_type": "markdown",
   "metadata": {},
   "source": [
    "**6.2 FRQ: Prime Numbers in an Array**\n",
    "\n",
    "Create a loop to identify and print the prime numbers from an array of integers. Your loop MUST traverse through the given list. Some things to consider: \n",
    "> BONUS: Do this with a for loop AND a while loop \n",
    "\n",
    "- Understand prime numbers and how to check for primality.\n",
    "- Implement a loop and conditional statements to iterate through the array.\n",
    "- Consider data storage (either displaying prime numbers immediately or storing them for later display)"
   ]
  },
  {
   "cell_type": "markdown",
   "metadata": {},
   "source": [
    "**Answer**: Below is my answer:"
   ]
  },
  {
   "cell_type": "code",
   "execution_count": 2,
   "metadata": {},
   "outputs": [
    {
     "name": "stdout",
     "output_type": "stream",
     "text": [
      "Prime numbers using a for loop:\n",
      "2\n",
      "3\n",
      "5\n",
      "7\n",
      "Prime numbers using a while loop:\n",
      "2\n",
      "3\n",
      "5\n",
      "7\n"
     ]
    }
   ],
   "source": [
    "public class PrimeNumbersForLoop {\n",
    "    public static boolean isPrime(int num) {\n",
    "        if (num <= 1) {\n",
    "            return false;\n",
    "        }\n",
    "        for (int i = 2; i <= Math.sqrt(num); i++) {\n",
    "            if (num % i == 0) {\n",
    "                return false;\n",
    "            }\n",
    "        }\n",
    "        return true;\n",
    "    }\n",
    "\n",
    "    public static void main(String[] args) {\n",
    "        int[] numbers = {2, 3, 4, 5, 6, 7, 8, 9, 10};\n",
    "\n",
    "        System.out.println(\"Prime numbers using a for loop:\");\n",
    "        for (int num : numbers) {\n",
    "            if (isPrime(num)) {\n",
    "                System.out.println(num);\n",
    "            }\n",
    "        }\n",
    "    }\n",
    "}\n",
    "\n",
    "public class PrimeNumbersWhileLoop {\n",
    "    public static boolean isPrime(int num) {\n",
    "        if (num <= 1) {\n",
    "            return false;\n",
    "        }\n",
    "        for (int i = 2; i <= Math.sqrt(num); i++) {\n",
    "            if (num % i == 0) {\n",
    "                return false;\n",
    "            }\n",
    "        }\n",
    "        return true;\n",
    "    }\n",
    "\n",
    "    public static void main(String[] args) {\n",
    "        int[] numbers = {2, 3, 4, 5, 6, 7, 8, 9, 10};\n",
    "\n",
    "        System.out.println(\"Prime numbers using a while loop:\");\n",
    "        int index = 0;\n",
    "        while (index < numbers.length) {\n",
    "            if (isPrime(numbers[index])) {\n",
    "                System.out.println(numbers[index]);\n",
    "            }\n",
    "            index++;\n",
    "        }\n",
    "    }\n",
    "}\n",
    "\n",
    "PrimeNumbersForLoop.main(null);\n",
    "PrimeNumbersWhileLoop.main(null);"
   ]
  },
  {
   "cell_type": "markdown",
   "metadata": {},
   "source": [
    "**6.2 MCQ:**\n",
    "\n",
    "1. What will be displayed as the output?\n",
    "\n",
    "    ```java\n",
    "    String [] list = {\"red\", \"yellow\", \"blue\"}; \n",
    "    for (int i = 0; i < list.length; i++)\n",
    "    {\n",
    "        System.out.print(list[i].length()+ \"-\" )\n",
    "    }\n",
    "    ```\n",
    "\n",
    "**Answer:** `C. 3-6-4.` This is because the length in characters of \"red\" is three, \"yellow\" is six, and \"blue\" is four. Since the loop is printing out each elements' LENGTH, the output will be \"3-6-4\"."
   ]
  },
  {
   "cell_type": "markdown",
   "metadata": {},
   "source": [
    "2. The code below is meant to display every other number in the list numbers. Which of the following should replace the missing code in order to do this? \n",
    "\n",
    "    ```java\n",
    "    int [] numbers = {3, -4, 6, -7, 2}; \n",
    "    for(/*missing code*/)\n",
    "    {\n",
    "        System.out.println(numbers[i]);\n",
    "    }\n",
    "    ```\n",
    "\n",
    "**Answer:** `C. int i = 1; i < numbers.length; i+=2`. Since we want to print out every other number, we want to skip the odd numbers. This means that we need to start at index 1 and increment by 2."
   ]
  },
  {
   "cell_type": "markdown",
   "metadata": {},
   "source": [
    "3. (This one is a little hard) Which of the following would fix the code so that the elements in arr are reversed. Hint: try creating a list in your head and trace the code to see if the code accomplishes its goal.\n",
    "\n",
    "    ```java\n",
    "    public static void reverseArray(double [] arr)\n",
    "    {\n",
    "        for(int = 0; i< arr.length; i++)\n",
    "        {\n",
    "            double temp = arr[i];\n",
    "            arr[i] = arr[arr.length-1-i];\n",
    "            arr[arr.length-1-i] = temp; \n",
    "        }\n",
    "    }\n",
    "    ```\n",
    "**Answer:** `B. Change loop condition to: i < arr.length/2`. First off, you can't write `int = 0`, you need to write `int i = 0`. Second, this is the correct way to ensure that you iterate up to half of the array's length to perform the necessary swaps and reverse the array elements."
   ]
  },
  {
   "cell_type": "markdown",
   "metadata": {},
   "source": [
    "## Unit 8: 2D Arrays"
   ]
  },
  {
   "cell_type": "markdown",
   "metadata": {},
   "source": [
    "### Section 1:\n",
    "\n",
    "**Popcorn Hack 1:** Declare and initialize a 2D array with 5 rows (arrays) and 4 columns (elements per array) of int data type."
   ]
  },
  {
   "cell_type": "code",
   "execution_count": null,
   "metadata": {},
   "outputs": [],
   "source": [
    "public class TwoDArrayHack1 {\n",
    "    public static void main(String[] args) {\n",
    "        // Declare and initialize a 2D array with 5 rows (arrays) and 4 columns (elements per array) of int data type.\n",
    "        int rows = 5;\n",
    "        int columns = 4;\n",
    "\n",
    "        int[][] arr = {\n",
    "            {1, 2, 3, 4},\n",
    "            {5, 6, 7, 8},\n",
    "            {9, 10, 11, 12},\n",
    "            {13, 14, 15, 16},\n",
    "            {17, 18, 19, 20}\n",
    "        };\n",
    "\n",
    "        for (int i = 0; i < rows; i++) {\n",
    "            for (int j = 0; j < columns; j++) {\n",
    "                System.out.print(arr[i][j] + \" \");\n",
    "            }\n",
    "            System.out.println();\n",
    "        }\n",
    "    }\n",
    "}\n",
    "TwoDArrayHack1.main(null);"
   ]
  },
  {
   "cell_type": "markdown",
   "metadata": {},
   "source": [
    "**Popcorn Hack 2:** Print out Team 17's, 21's, and 3's team info"
   ]
  },
  {
   "cell_type": "code",
   "execution_count": 11,
   "metadata": {},
   "outputs": [
    {
     "name": "stdout",
     "output_type": "stream",
     "text": [
      "Team: Team17\n",
      "City: City17\n",
      "Championships: 4\n",
      "Team: Team21\n",
      "City: City21\n",
      "Championships: 0\n",
      "Team: Team3\n",
      "City: City3\n",
      "Championships: 1\n"
     ]
    }
   ],
   "source": [
    "class NFLTeams {\n",
    "    private String teamName;\n",
    "    private String city;\n",
    "    private int championships;\n",
    "\n",
    "    // Constructor to initialize NFL team data\n",
    "    public NFLTeams(String teamName, String city, int championships) {\n",
    "        this.teamName = teamName;\n",
    "        this.city = city;\n",
    "        this.championships = championships;\n",
    "    }\n",
    "\n",
    "    // Method to display team information\n",
    "    public void displayTeamInfo() {\n",
    "        System.out.println(\"Team: \" + teamName);\n",
    "        System.out.println(\"City: \" + city);\n",
    "        System.out.println(\"Championships: \" + championships);\n",
    "    }\n",
    "}\n",
    "\n",
    "public class NFLTeams2DArray {\n",
    "    public static void main(String[] args) {\n",
    "        // Declare a 2D array of NFLTeams to store data for 5 teams and 5 columns\n",
    "        NFLTeams[][] nflArray = {\n",
    "            {new NFLTeams(\"Team1\", \"City1\", 2), new NFLTeams(\"Team2\", \"City2\", 3), new NFLTeams(\"Team3\", \"City3\", 1), new NFLTeams(\"Team4\", \"City4\", 0), new NFLTeams(\"Team5\", \"City5\", 5)},\n",
    "            {new NFLTeams(\"Team6\", \"City6\", 3), new NFLTeams(\"Team7\", \"City7\", 4), new NFLTeams(\"Team8\", \"City8\", 0), new NFLTeams(\"Team9\", \"City9\", 1), new NFLTeams(\"Team10\", \"City10\", 2)},\n",
    "            {new NFLTeams(\"Team11\", \"City11\", 1), new NFLTeams(\"Team12\", \"City12\", 0), new NFLTeams(\"Team13\", \"City13\", 3), new NFLTeams(\"Team14\", \"City14\", 2), new NFLTeams(\"Team15\", \"City15\", 4)},\n",
    "            {new NFLTeams(\"Team16\", \"City16\", 2), new NFLTeams(\"Team17\", \"City17\", 4), new NFLTeams(\"Team18\", \"City18\", 1), new NFLTeams(\"Team19\", \"City19\", 5), new NFLTeams(\"Team20\", \"City20\", 3)},\n",
    "            {new NFLTeams(\"Team21\", \"City21\", 0), new NFLTeams(\"Team22\", \"City22\", 2), new NFLTeams(\"Team23\", \"City23\", 5), new NFLTeams(\"Team24\", \"City24\", 3), new NFLTeams(\"Team25\", \"City25\", 1)}\n",
    "        };\n",
    "\n",
    "        // Print out Team 17's Team info\n",
    "        nflArray[3][1].displayTeamInfo();\n",
    "        \n",
    "        // Print out Team 21's Team Info\n",
    "        nflArray[4][0].displayTeamInfo();\n",
    "\n",
    "        // Print out Team 3's team Info\n",
    "        nflArray[0][2].displayTeamInfo();\n",
    "\n",
    "    }\n",
    "}\n",
    "NFLTeams2DArray.main(null)"
   ]
  },
  {
   "cell_type": "markdown",
   "metadata": {},
   "source": [
    "**Popcorn Hack 3:** Update the rows and columns according to the comments."
   ]
  },
  {
   "cell_type": "code",
   "execution_count": 12,
   "metadata": {},
   "outputs": [
    {
     "name": "stdout",
     "output_type": "stream",
     "text": [
      "250 2 3 4 125 \n",
      "6 7 135 9 10 \n",
      "11 12 69 14 15 \n",
      "16 17 18 19 20 \n",
      "21 22 23 24 96 \n"
     ]
    }
   ],
   "source": [
    "public class Update2DArrayHACK {\n",
    "\n",
    "    // Helper method to print the 2D integer array\n",
    "    public static void printIntArray(int[][] arr) {\n",
    "        for (int i = 0; i < arr.length; i++) {\n",
    "            for (int j = 0; j < arr[i].length; j++) {\n",
    "                System.out.print(arr[i][j] + \" \");\n",
    "            }\n",
    "            System.out.println();\n",
    "        }\n",
    "    }\n",
    "\n",
    "    public static void main(String[] args) {\n",
    "\n",
    "        // Declare and Initialize a 2D integer array with the same dimensions (5x5)\n",
    "        int[][] integerArray = {\n",
    "            {1, 2, 3, 4, 5},\n",
    "            {6, 7, 8, 9, 10},\n",
    "            {11, 12, 13, 14, 15},\n",
    "            {16, 17, 18, 19, 20},\n",
    "            {21, 22, 23, 24, 25}\n",
    "        };\n",
    "\n",
    "    // Update the element in the first row, first column to 250\n",
    "    integerArray[0][0] = 250;\n",
    "    // Update the element in the third row, third column to 69\n",
    "    integerArray[2][2] = 69;\n",
    "    // Update the element in the fifth row, fifth column to 96\n",
    "    integerArray[4][4] = 96;\n",
    "    // Update the element in the first row, fifth column to 125\n",
    "    integerArray[0][4] = 125;\n",
    "    // Update the element in the second row, third column to 135        \n",
    "    integerArray[1][2] = 135;\n",
    "\n",
    "        // Display the updated 2D integer array\n",
    "        printIntArray(integerArray);\n",
    "    }\n",
    "}\n",
    "Update2DArrayHACK.main(null)"
   ]
  },
  {
   "cell_type": "markdown",
   "metadata": {},
   "source": [
    "**Popcorn Hack 4:** Review Quiz\n",
    "\n",
    "What is a 2D array?\n",
    "\n",
    "1. A single row of elements.\n",
    "2. **A data structure with rows and columns.**\n",
    "3. A list of 2 elements.\n",
    "4. A binary representation of data.\n",
    "\n",
    "How do you declare a 2D array in Java?\n",
    "\n",
    "1. **int myArray = new int[3][3];**\n",
    "2. 2DArray myArray = new 2DArray[3][3];\n",
    "3. int[][] myArray;\n",
    "4. myArray = declare 2D array;\n",
    "\n",
    "How do you access an element in a 2D array at row 2 and column 3?\n",
    "\n",
    "1. myArray[3][2]\n",
    "2. myArray[2][3]\n",
    "3. **myArray[1][2]**\n",
    "4. myArray[2][1]\n",
    "\n",
    "What is the purpose of initializing a 2D array?\n",
    "\n",
    "1. To specify its data type.\n",
    "2. To allocate memory for the array.\n",
    "3. To access its elements.\n",
    "4. **To declare the number of rows and columns.**\n",
    "\n",
    "In a 2D array, what does myArray[2][3] represent?\n",
    "\n",
    "1. The element in the second row and third column.\n",
    "2. The element in the third row and second column.\n",
    "3. The element in the third row and third column.\n",
    "4. The element in the second column and third row.\n",
    "5. **My answer: The element in the third row in the fourth column.**\n",
    "\n",
    "What happens when you update an element in a 2D array in Java?\n",
    "\n",
    "1. The entire array is cleared.\n",
    "2. **Only the updated element is affected.**\n",
    "3. The entire row is shifted.\n",
    "4. The element is removed from the array.\n",
    "\n",
    "Which of the following represents a 2D array with 4 rows and 3 columns in Java?\n",
    "\n",
    "1. int[4][3] myArray;\n",
    "2. myArray[4,3] = int;\n",
    "3. int[3][4] myArray;\n",
    "4. myArray[3][4] = int;\n",
    "5. **My answer: int[][] myArray = new int[3][2];**"
   ]
  },
  {
   "cell_type": "markdown",
   "metadata": {},
   "source": [
    "### Section 2:"
   ]
  },
  {
   "cell_type": "markdown",
   "metadata": {},
   "source": [
    "**Popcorn Hack 5:** Cumulative Knowledge\n",
    "\n",
    "- **What does traverse mean?**\n",
    "    *To iterate through something.*\n",
    "- **What is a nested loop**\n",
    "    *A loop inside a loop.*\n",
    "- **What is an enhanced for loop**\n",
    "    *A loop specifically designed to loop through an array.*"
   ]
  },
  {
   "cell_type": "markdown",
   "metadata": {},
   "source": [
    "**HACK 1:** Create a class (for object 2D arrays), and declare and initialize a 2D array. Show updating a 2D array with object functionality"
   ]
  },
  {
   "cell_type": "code",
   "execution_count": 2,
   "metadata": {},
   "outputs": [
    {
     "name": "stdout",
     "output_type": "stream",
     "text": [
      "Initial 2D Array:\n",
      "1 2 3 \n",
      "4 5 6 \n",
      "7 8 9 \n",
      "\n",
      "Updating an element at (1, 1) to 99:\n",
      "1 2 3 \n",
      "4 99 6 \n",
      "7 8 9 \n"
     ]
    }
   ],
   "source": [
    "public class TwoDArray {\n",
    "    private int[][] array;\n",
    "\n",
    "    public TwoDArray(int numRows, int numCols) {\n",
    "        array = new int[numRows][numCols];\n",
    "    }\n",
    "\n",
    "    public void initializeArray(int[][] values) {\n",
    "        if (values.length != array.length || values[0].length != array[0].length) {\n",
    "            throw new IllegalArgumentException(\"Input array dimensions do not match the 2D array dimensions.\");\n",
    "        }\n",
    "\n",
    "        for (int i = 0; i < array.length; i++) {\n",
    "            for (int j = 0; j < array[0].length; j++) {\n",
    "                array[i][j] = values[i][j];\n",
    "            }\n",
    "        }\n",
    "    }\n",
    "\n",
    "    public void updateElement(int row, int col, int value) {\n",
    "        if (row < 0 || row >= array.length || col < 0 || col >= array[0].length) {\n",
    "            throw new IllegalArgumentException(\"Invalid row or column index.\");\n",
    "        }\n",
    "\n",
    "        array[row][col] = value;\n",
    "    }\n",
    "\n",
    "    public void displayArray() {\n",
    "        for (int i = 0; i < array.length; i++) {\n",
    "            for (int j = 0; j < array[0].length; j++) {\n",
    "                System.out.print(array[i][j] + \" \");\n",
    "            }\n",
    "            System.out.println();\n",
    "        }\n",
    "    }\n",
    "\n",
    "    public static void main(String[] args) {\n",
    "        \n",
    "    }\n",
    "}\n",
    "TwoDArray.main(null);"
   ]
  },
  {
   "cell_type": "markdown",
   "metadata": {},
   "source": [
    "**Practice:**"
   ]
  },
  {
   "cell_type": "code",
   "execution_count": 4,
   "metadata": {},
   "outputs": [
    {
     "name": "stdout",
     "output_type": "stream",
     "text": [
      "1 2 3 4 \n",
      "5 6 7 8 \n",
      "9 10 11 12 \n"
     ]
    }
   ],
   "source": [
    "public class TwoDPractice {\n",
    "    public static void main(String[] args) {\n",
    "        int[][] complexIntArray = {\n",
    "            {1, 2, 3, 4},\n",
    "            {5, 6, 7, 8},\n",
    "            {9, 10, 11, 12}\n",
    "        };\n",
    "\n",
    "        for (int i = 0; i < complexIntArray.length; i++) {\n",
    "            for (int j = 0; j < complexIntArray[i].length; j++) {\n",
    "                System.out.print(complexIntArray[i][j] + \" \");\n",
    "            }\n",
    "            System.out.println();\n",
    "        }\n",
    "    }\n",
    "}\n",
    "TwoDPractice.main(null);"
   ]
  },
  {
   "cell_type": "markdown",
   "metadata": {},
   "source": [
    "**Popcorn Hack:** Row-major order stores and accesses elements of a multi-dimensional array row by row, while column-major order does so column by column in memory."
   ]
  },
  {
   "cell_type": "markdown",
   "metadata": {},
   "source": [
    "**Practice:** Print My AP CS A Class Rocks Using a column major traversal."
   ]
  },
  {
   "cell_type": "code",
   "execution_count": 5,
   "metadata": {},
   "outputs": [
    {
     "name": "stdout",
     "output_type": "stream",
     "text": [
      "My Ap Cs R \n",
      "AP A Class o \n",
      "C p   c \n",
      "S     k \n",
      "s   s ! \n"
     ]
    }
   ],
   "source": [
    "public class PrintArray {\n",
    "    public static void printArray(String[][] grid) {\n",
    "        for (int i = 0; i < grid.length; i++) {\n",
    "            for (int j = 0; j < grid[i].length; j++) {\n",
    "                System.out.print(grid[i][j] + \" \");\n",
    "            }\n",
    "            System.out.println(); // Move to the next row\n",
    "        }\n",
    "    }\n",
    "\n",
    "    public static void main(String[] args) {\n",
    "        String[][] message = {\n",
    "            {\"My\", \"Ap\", \"Cs\", \"R\"},\n",
    "            {\"AP\", \"A\", \"Class\", \"o\"},\n",
    "            {\"C\", \"p\", \" \", \"c\"},\n",
    "            {\"S\", \" \", \" \", \"k\"},\n",
    "            {\"s\", \" \", \"s\", \"!\"},\n",
    "        };\n",
    "\n",
    "        printArray(message);\n",
    "    }\n",
    "}\n",
    "PrintArray.main(null);"
   ]
  },
  {
   "cell_type": "markdown",
   "metadata": {},
   "source": [
    "**Main Hack 1: Traverse Through a 2D Array (Row-Major Order)**\n",
    "\n",
    "To traverse through a 2D array using row-major order, you can use two nested loops. Here's an example:\n",
    "\n",
    "```java\n",
    "public class PopcornHacks {\n",
    "    public static void traverse2DArrayRowMajor(int[][] array) {\n",
    "        for (int i = 0; i < array.length; i++) {\n",
    "            for (int j = 0; j < array[i].length; j++) {\n",
    "                System.out.print(array[i][j] + \" \");\n",
    "            }\n",
    "            System.out.println(); // Move to the next row\n",
    "        }\n",
    "    }\n",
    "\n",
    "    public static void main(String[] args) {\n",
    "        int[][] myArray = {\n",
    "            {1, 2, 3},\n",
    "            {4, 5, 6},\n",
    "            {7, 8, 9}\n",
    "        };\n",
    "\n",
    "        traverse2DArrayRowMajor(myArray);\n",
    "    }\n",
    "}\n",
    "```\n",
    "\n",
    "**Main Hack 2: Traverse Through a 2D Array (Column-Major Order)**\n",
    "\n",
    "To traverse through a 2D array using column-major order, you need to use two nested loops with the inner loop iterating through columns. Here's an example:\n",
    "\n",
    "```java\n",
    "public class PopcornHacks {\n",
    "    public static void traverse2DArrayColumnMajor(int[][] array) {\n",
    "        for (int j = 0; j < array[0].length; j++) {\n",
    "            for (int i = 0; i < array.length; i++) {\n",
    "                System.out.print(array[i][j] + \" \");\n",
    "            }\n",
    "            System.out.println(); // Move to the next column\n",
    "        }\n",
    "    }\n",
    "\n",
    "    public static void main(String[] args) {\n",
    "        int[][] myArray = {\n",
    "            {1, 2, 3},\n",
    "            {4, 5, 6},\n",
    "            {7, 8, 9}\n",
    "        };\n",
    "\n",
    "        traverse2DArrayColumnMajor(myArray);\n",
    "    }\n",
    "}\n",
    "```\n",
    "\n",
    "**Main Hack 3: Custom Algorithm to Traverse a 2D Array**\n",
    "\n",
    "You can create your own situation where you need to traverse a 2D array and write code for it. Here's an example where we calculate the sum of all elements in a 2D array:\n",
    "\n",
    "```java\n",
    "public class PopcornHacks {\n",
    "    public static int sum2DArray(int[][] array) {\n",
    "        int sum = 0;\n",
    "        for (int i = 0; i < array.length; i++) {\n",
    "            for (int j = 0; j < array[i].length; j++) {\n",
    "                sum += array[i][j];\n",
    "            }\n",
    "        }\n",
    "        return sum;\n",
    "    }\n",
    "\n",
    "    public static void main(String[] args) {\n",
    "        int[][] myArray = {\n",
    "            {1, 2, 3},\n",
    "            {4, 5, 6},\n",
    "            {7, 8, 9}\n",
    "        };\n",
    "\n",
    "        int totalSum = sum2DArray(myArray);\n",
    "        System.out.println(\"Total sum of elements: \" + totalSum);\n",
    "    }\n",
    "}\n",
    "```\n",
    "\n",
    "**Extra Problem: Finding Maximum Value in a 2D Array**\n",
    "\n",
    "Here's an extra problem where you find the maximum value in a 2D array:\n",
    "\n",
    "```java\n",
    "public class PopcornHacks {\n",
    "    public static int findMaxValue(int[][] array) {\n",
    "        int max = Integer.MIN_VALUE;\n",
    "        for (int i = 0; i < array.length; i++) {\n",
    "            for (int j = 0; j < array[i].length; j++) {\n",
    "                if (array[i][j] > max) {\n",
    "                    max = array[i][j];\n",
    "                }\n",
    "            }\n",
    "        }\n",
    "        return max;\n",
    "    }\n",
    "\n",
    "    public static void main(String[] args) {\n",
    "        int[][] myArray = {\n",
    "            {10, 23, 5},\n",
    "            {7, 8, 14},\n",
    "            {3, 12, 9}\n",
    "        };\n",
    "\n",
    "        int maxValue = findMaxValue(myArray);\n",
    "        System.out.println(\"Maximum value: \" + maxValue);\n",
    "    }\n",
    "}\n",
    "```\n",
    "\n",
    "This code calculates and prints the maximum value in the 2D array."
   ]
  },
  {
   "cell_type": "markdown",
   "metadata": {},
   "source": [
    "**Image Hack**:"
   ]
  },
  {
   "cell_type": "code",
   "execution_count": null,
   "metadata": {},
   "outputs": [],
   "source": [
    "import javax.imageio.ImageIO;\n",
    "import java.awt.image.BufferedImage;\n",
    "import java.io.File;\n",
    "import java.io.IOException;\n",
    "\n",
    "public class FunnyImageConversion {\n",
    "    public static void main(String[] args) {\n",
    "        try {\n",
    "            // Load the PNG image\n",
    "            File pngFile = new File(\"laughing.png\");\n",
    "            BufferedImage bufferedImage = ImageIO.read(pngFile);\n",
    "\n",
    "            // Save the image as a JPEG (funny conversion)\n",
    "            File jpegFile = new File(\"laughing.jpg\");\n",
    "            ImageIO.write(bufferedImage, \"jpg\", jpegFile);\n",
    "\n",
    "            System.out.println(\"Conversion complete. Check out the funny JPEG image!\");\n",
    "        } catch (IOException e) {\n",
    "            e.printStackTrace();\n",
    "        }\n",
    "    }\n",
    "}\n",
    "FunnyImageConversion.main(null);"
   ]
  },
  {
   "cell_type": "markdown",
   "metadata": {},
   "source": [
    "## Unit 9: Inheritance\n",
    "\n",
    "### Section 1\n",
    "\n",
    "In this example, the Son and Daughter inherits the Mom, meaning it inherit the components of the mother. This makes the \"Son\" and \"Daughter\" classes the <u>__sub-classes__</u> of the \"Mom\" class as they inherit the \"Mom\" class components and the \"Mom\" class the <u>__parent class__</u>. \n",
    "\n",
    "### Section 2\n",
    "\n",
    "**Popcorn Hack:** Make it so that a new instance of Bob runs."
   ]
  },
  {
   "cell_type": "code",
   "execution_count": 4,
   "metadata": {},
   "outputs": [
    {
     "name": "stdout",
     "output_type": "stream",
     "text": [
      "Paaras\n",
      "16\n",
      "16.67\n",
      "Coach\n"
     ]
    }
   ],
   "source": [
    "public class Worker {\n",
    "    String Name;\n",
    "    int Age;\n",
    "    double Salary;\n",
    "\n",
    "    public Worker(String name, int age, double salary) {\n",
    "        this.Name = name;\n",
    "        this.Age = age;\n",
    "        this.Salary = salary;\n",
    "    }\n",
    "\n",
    "    public void Information() {\n",
    "        System.out.println(this.Name);\n",
    "        System.out.println(this.Age);\n",
    "        System.out.println(this.Salary);\n",
    "    }\n",
    "}\n",
    "\n",
    "public class Bob extends Worker {\n",
    "    String Position;\n",
    "\n",
    "    public Bob(String name, int age, double salary, String position) {\n",
    "        super(name, age, salary);\n",
    "        this.Position = position;\n",
    "    }\n",
    "\n",
    "    public void Information() {\n",
    "        super.Information();\n",
    "        System.out.println(this.Position);\n",
    "    }\n",
    "}\n",
    "\n",
    "public class Test {\n",
    "    public static void main(String[] args) {\n",
    "        Bob bob = new Bob(\"Paaras\", 16, 16.67, \"Coach\");\n",
    "        bob.Information();\n",
    "    }\n",
    "}\n",
    "Test.main(null);"
   ]
  },
  {
   "cell_type": "markdown",
   "metadata": {},
   "source": [
    "### Section 3\n",
    "\n",
    "**Popcorn Hack:** Why is it helpful to have a common base class like 'Athlete' for all these different types of athletes? How does it make the code more organized?\n",
    "\n",
    "The whole point of coding is to make things simpler. Why rewrite methods and variables for classes that have things in common, making things disorganized and long? Hence the whole reason for base classes,  inheritance, one of the pillars of object-oriented programming.\n",
    "\n",
    "### Section 4\n",
    "\n",
    "**9.4 Hack:** Finish up the code with this criteria: All subclasses must say their origin, the origin can be from SchoolSupply class, and it must run through main."
   ]
  },
  {
   "cell_type": "code",
   "execution_count": 9,
   "metadata": {},
   "outputs": [
    {
     "name": "stdout",
     "output_type": "stream",
     "text": [
      "This inherits the School Supply class\n",
      "This inherits the School Supply class\n"
     ]
    }
   ],
   "source": [
    "class SchoolSupply {\n",
    "    public String BasicInfo(){\n",
    "        return \"School Supply\";\n",
    "    }\n",
    "}\n",
    "class Pencil extends SchoolSupply{\n",
    "    public void Information(){\n",
    "        System.out.println(\"This inherits the \"+super.BasicInfo()+\" class\");\n",
    "    }\n",
    "}\n",
    "class Eraser extends SchoolSupply{\n",
    "    public void Information(){\n",
    "        System.out.println(\"This inherits the \"+super.BasicInfo()+\" class\");\n",
    "    }\n",
    "}\n",
    "public class Test{\n",
    "    public static void main(String[] args){\n",
    "        Pencil pencil = new Pencil();\n",
    "        Eraser eraser = new Eraser();\n",
    "\n",
    "        pencil.Information();\n",
    "        eraser.Information();\n",
    "    }\n",
    "}\n",
    "\n",
    "Test.main(null);"
   ]
  },
  {
   "cell_type": "markdown",
   "metadata": {},
   "source": [
    "### Section 5\n",
    "\n",
    "Inheritance can be thought as an upside down tree with the __fruit__ on the top and the __branches__ on the bottom. The __fruit__ is the superclass while the __other fruits/branches__ are the subclasses of this superclass. A visual representation of this tree is called a type diagram or hierarchy tree.\n",
    "\n",
    "**Popcorn Hack:** Draw a hierarchy tree for the structure:\n",
    "```\n",
    "public class A\n",
    "public class B extends A\n",
    "public class C extends B\n",
    "public class D extends C\n",
    "public class E extends I\n",
    "public class F extends I\n",
    "public class G extends H\n",
    "public class H extends A\n",
    "public class I extends H\n",
    "```\n",
    "\n",
    "**Answer:**\n",
    "\n",
    "```\n",
    "   A\n",
    "  B H\n",
    " C G I\n",
    "D   E F\n",
    "```"
   ]
  },
  {
   "cell_type": "markdown",
   "metadata": {},
   "source": [
    "### Section 6\n",
    "\n",
    "A _________ variable is polymorphic when it can refer to objects from different classes at different points in time\n",
    "- A reference variable can store a reference to its declared class or any subclass of it's declared class\n",
    "\n",
    "A method or operator are considered polymorphic when they are  __________ in at least one subclass\n",
    "\n",
    "Polymorphism is the act of executing an overridden non-_____ method from the correct class at runtime based on the actual object type\n",
    "\n",
    "Polymorphism allows ____ for a method call to be executed based on the class of the object referenced instead of the declared class\n",
    "\n",
    "<u>Runtime</u>\n",
    "- Process in which a function call to the overridden method is resolved at Runtime. This type of polymorphism is achieved by Method Overriding.\n",
    "\n",
    "<u>Compile</u>\n",
    "- Also known as static polymorphism. This type is achieved by function overloading or operater overloading\n",
    "- Note: But java doesnt support Operator Overloading\n",
    "- When there are multiple functions with the same name but different parameters then these functions are said to be overloaded. Functions can be overloaded by changes in the number of arguments or/and a change in the type of arguments. "
   ]
  }
 ],
 "metadata": {
  "kernelspec": {
   "display_name": "Java",
   "language": "java",
   "name": "java"
  },
  "language_info": {
   "codemirror_mode": "java",
   "file_extension": ".jshell",
   "mimetype": "text/x-java-source",
   "name": "java",
   "pygments_lexer": "java",
   "version": "17.0.8.1+1-Ubuntu-0ubuntu120.04"
  },
  "orig_nbformat": 4
 },
 "nbformat": 4,
 "nbformat_minor": 2
}
