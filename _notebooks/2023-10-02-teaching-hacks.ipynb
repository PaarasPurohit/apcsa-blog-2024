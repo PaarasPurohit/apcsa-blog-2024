{
 "cells": [
  {
   "cell_type": "markdown",
   "metadata": {},
   "source": [
    "# APCSA Lesson Hacks\n",
    "\n",
    "- toc: true\n",
    "- comments: false\n",
    "- layout: post\n",
    "- title: APCSA Lesson Hacks\n",
    "- description: Hacks for all student lessons\n",
    "- type: tangibles\n",
    "- courses: { csa: {week: 6} }\n",
    "- permalink: /apcsa-lesson-hacks"
   ]
  },
  {
   "cell_type": "markdown",
   "metadata": {},
   "source": [
    "## Unit 1: Primitive Types:"
   ]
  },
  {
   "cell_type": "markdown",
   "metadata": {},
   "source": [
    "### Section 2:\n",
    "\n",
    "**Primitive Activity**\n",
    "\n",
    "Choices:\n",
    "1. int\n",
    "2. double\n",
    "3. boolean\n",
    "4. String\n",
    "\n",
    "- <u>_3 </u>False\n",
    "- <u>_4 </u>\"ryan gosling\"\n",
    "- <u>_1 </u> 1738\n",
    "- <u>_2 </u> 4.26\n",
    "\n",
    "Questions:\n",
    "\n",
    "What type of data should be used to store:\n",
    "\n",
    "- Someones bank number and cvc? *int*\n",
    "- Someones mother's maiden name and their name? *string*\n",
    "- The first 16 digits of pi? *double*\n",
    "- If you want to transact one million $? *integer, assuming it's exactly one million dollars*\n",
    "\n",
    "**Find the Odd One Out**\n",
    "\n",
    "- int value; ✅\n",
    "- double 4eva; ❌ Variables can't start with a number.\n",
    "- boolean private; ❌ `private` is already a keyword.\n",
    "- integer sum; ✅\n",
    "- double wow!; ❌ `!` is a special character, you can't use those in variable names.\n",
    "- boolean foundIt; ✅\n",
    "- int numberOfStudents; ✅\n",
    "- double chanceOfRain; ✅\n",
    "- boolean #mortNews; ❌ `#` is a special character, you can't use those in variable names.\n",
    "- int count; ✅\n",
    "- bool isFriday; ❌ `bool` is not correct, `boolean` is.\n",
    "- final int DOZEN; ✅ Note: since it is final, the name is in all caps. This is the convention for Java."
   ]
  },
  {
   "cell_type": "markdown",
   "metadata": {},
   "source": [
    "### Section 3"
   ]
  },
  {
   "cell_type": "code",
   "execution_count": 2,
   "metadata": {
    "vscode": {
     "languageId": "java"
    }
   },
   "outputs": [
    {
     "name": "stdout",
     "output_type": "stream",
     "text": [
      "33\n",
      "1\n",
      "3.0\n"
     ]
    }
   ],
   "source": [
    "// Practice on tracing and predicting output types based on primitive variable types\n",
    "public class demo {\n",
    "    public static void main(String[] args) {        \n",
    "        System.out.println(\"3\" + \"3\"); // Since it's two strings, the output is \"33\"\n",
    "        System.out.println(3 / 2); // Since it's two integers, the output is 1.\n",
    "        System.out.println(2.0 * 1.5); // Since its two doubles, the output is 3.0.\n",
    "    }\n",
    "}\n",
    "\n",
    "demo.main(null);"
   ]
  },
  {
   "cell_type": "code",
   "execution_count": 3,
   "metadata": {
    "vscode": {
     "languageId": "java"
    }
   },
   "outputs": [
    {
     "name": "stdout",
     "output_type": "stream",
     "text": [
      "1\n"
     ]
    }
   ],
   "source": [
    "public class demo2 {\n",
    "    public static void main(String[] args) {\n",
    "        // Print a math equation that goes through these steps\n",
    "        // Adds 19 + 134\n",
    "        // Multiplies that value by 5\n",
    "        // Then takes the mod of that value by 2\n",
    "        // It should print 1\n",
    "\n",
    "        System.out.println( (19 + 134) * 5 % 2);\n",
    "    }\n",
    "}\n",
    "\n",
    "demo2.main(null);"
   ]
  },
  {
   "cell_type": "code",
   "execution_count": 5,
   "metadata": {
    "vscode": {
     "languageId": "java"
    }
   },
   "outputs": [
    {
     "name": "stdout",
     "output_type": "stream",
     "text": [
      "1 is odd\n",
      "3 is odd\n",
      "5 is odd\n",
      "7 is odd\n",
      "9 is odd\n"
     ]
    }
   ],
   "source": [
    "// Objective: Change the code WITHOUT changing the variables \n",
    "\n",
    "public class OddEven {\n",
    "\n",
    "    // Without changing any varibles\n",
    "    // Print only odd numbers\n",
    "\n",
    "    public static void main(String[] args) {\n",
    "        int num = 2;\n",
    "        int i = 0;\n",
    "        while (i <= 10) {\n",
    "            if (i % num == 1) { // I replaced 0 with 1. All odd numbers divided by 2 have a remainder of 1.\n",
    "                System.out.println(i + \" is odd\"); // I replaced \"even\" with \"odd\" as extra work to make sense.\n",
    "            }\n",
    "            i++;\n",
    "        }\n",
    "    }\n",
    "}\n",
    "\n",
    "OddEven.main(null);"
   ]
  },
  {
   "cell_type": "markdown",
   "metadata": {},
   "source": [
    "### Section 4"
   ]
  },
  {
   "cell_type": "code",
   "execution_count": 1,
   "metadata": {
    "vscode": {
     "languageId": "java"
    }
   },
   "outputs": [
    {
     "name": "stdout",
     "output_type": "stream",
     "text": [
      "100\n",
      "779\n",
      "2\n",
      "777\n"
     ]
    }
   ],
   "source": [
    "// Objective: Practice Compound Operations\n",
    "\n",
    "public class numbers {\n",
    "    public static void main(String[] args) {\n",
    "        int x = 777;\n",
    "\n",
    "        // challenge: think of 2 compound assignment operators that can be used in tandem to get the following outputs\n",
    "        // example: if we wanted output of 1 with 2 compound assigment operators, using x++; and x /= 777 would work. now how would we do that for:\n",
    "        \n",
    "        // 100?\n",
    "\n",
    "        System.out.println((x / 7) - 11);\n",
    "\n",
    "        // 779?\n",
    "\n",
    "        System.out.println(x + 3 - 1);\n",
    "\n",
    "        // 2?\n",
    "\n",
    "        System.out.println((x % 2) + 1);\n",
    "\n",
    "        System.out.println(x);\n",
    "}\n",
    "}\n",
    "numbers.main(null);"
   ]
  },
  {
   "cell_type": "code",
   "execution_count": 2,
   "metadata": {
    "vscode": {
     "languageId": "java"
    }
   },
   "outputs": [
    {
     "name": "stdout",
     "output_type": "stream",
     "text": [
      "24\n"
     ]
    }
   ],
   "source": [
    "// Objective: Practice tracing code\n",
    "\n",
    "public class Demo {\n",
    "    public static void main(String[] args) {\n",
    "        int x = 758; // Defines the variable, x. This is an INTEGER of 758.\n",
    "        x += 423; // Add 423 to 758\n",
    "        x -= 137; // Subtract 137 from (423 + 758)\n",
    "        x *= 99; // Multiply 99 to ((423 + 758) - 137)\n",
    "        x /= 33; // Divide 33 from (((423 + 758) - 137) * 99)\n",
    "        x %= 111; // Finds the remainder from ((((423 + 758) - 137) * 99) / 33)\n",
    "        System.out.println(x); // Prints the result\n",
    "}\n",
    "}\n",
    "Demo.main(null);"
   ]
  },
  {
   "cell_type": "markdown",
   "metadata": {},
   "source": [
    "**Mini Hack:** Write some java code that uses compound operators and then trace through it similarly to the examples shown in this lesson. Use conditional statements as well, don't just execute some compound operators on an x value in order and call it a day. You might have to do tracing on the AP test so this is for your own good."
   ]
  },
  {
   "cell_type": "code",
   "execution_count": 4,
   "metadata": {
    "vscode": {
     "languageId": "java"
    }
   },
   "outputs": [
    {
     "name": "stdout",
     "output_type": "stream",
     "text": [
      "15 is an odd number. We do not care about it.\n"
     ]
    }
   ],
   "source": [
    "public class CompoundDemonstration {\n",
    "    public static void main(String[] args) {\n",
    "\n",
    "        int x = 3; // Define x\n",
    "\n",
    "        x += 52; // Take the current value of x, add 52 to it, assign that value to x\n",
    "        x -= 24; // Same logic as above line; subtract 24 from the current value of x, assign that to x\n",
    "        x = ((x * 8) / 16); // First multiplies the current value by 8, divides that value by 16, and assigns the final value to x\n",
    "        \n",
    "        if (x % 2 == 0) { // Using modulus \"% 2\" to check if x is an even number\n",
    "            if (x >= 50) { // Check if the final x value is greater than 50\n",
    "                System.out.println(x + \" is an even number higher than 50!\"); // If it is, print this\n",
    "            }\n",
    "        } else {\n",
    "            System.out.println(x + \" is an odd number. We do not care about it.\"); // If it isn't, print this\n",
    "        }\n",
    "    }\n",
    "}\n",
    "\n",
    "CompoundDemonstration.main(null);"
   ]
  },
  {
   "cell_type": "markdown",
   "metadata": {},
   "source": [
    "### Section 5"
   ]
  },
  {
   "cell_type": "markdown",
   "metadata": {},
   "source": [
    "**Quiz** I got 4 out of 4. The answers were 7, 6.25, 1.2, -9"
   ]
  },
  {
   "cell_type": "markdown",
   "metadata": {},
   "source": [
    "### FRQ Hacks\n",
    "\n",
    "While it was done for us, putting the two pieces of code together isn't as simple as just copy-pasting. Here is my solution to that. I also demonstrated my skills in code tracing in my answer:"
   ]
  },
  {
   "cell_type": "code",
   "execution_count": 10,
   "metadata": {
    "vscode": {
     "languageId": "java"
    }
   },
   "outputs": [
    {
     "name": "stdout",
     "output_type": "stream",
     "text": [
      "XgameWin: true\n",
      "YgameWin: false\n"
     ]
    }
   ],
   "source": [
    "public class Game {\n",
    "    int x = 0; // Moved the declarations here\n",
    "    int y = 0;\n",
    "    boolean XgameWin = false;\n",
    "    boolean YgameWin = false;\n",
    "\n",
    "    public int UpdateScore(int Wscore, int Lscore) {\n",
    "        Wscore += 1;\n",
    "        Lscore -= 1;\n",
    "\n",
    "        if (Wscore == 10) {\n",
    "            Wscore = 0;\n",
    "            Lscore = 0;\n",
    "        }\n",
    "        if (Lscore == 10) {\n",
    "            Wscore = 0;\n",
    "            Lscore = 0;\n",
    "        }\n",
    "        return Wscore;\n",
    "    }\n",
    "\n",
    "    public void gameWinchange(boolean X, boolean Y) {\n",
    "        if (X == true) {\n",
    "            x = UpdateScore(x, y); // Update x and y\n",
    "            XgameWin = true; // Update XgameWin\n",
    "        } else {\n",
    "            y = UpdateScore(y, x); // Update y and x\n",
    "            YgameWin = true; // Update YgameWin\n",
    "        }\n",
    "        System.out.println(\"XgameWin: \" + XgameWin);\n",
    "        System.out.println(\"YgameWin: \" + YgameWin);\n",
    "    }\n",
    "\n",
    "    public static void main(String[] args) {\n",
    "        Game game = new Game(); // Create an instance of Game\n",
    "        game.gameWinchange(true, false); // Call gameWinchange with appropriate arguments\n",
    "    }\n",
    "}\n",
    "Game.main(null);"
   ]
  },
  {
   "cell_type": "markdown",
   "metadata": {},
   "source": [
    "### Takeaways & Grading:\n",
    "\n",
    "**Takeaways**\n",
    "\n",
    "I learned two lessons from this unit through errors I got but solved:\n",
    "\n",
    "- It is important to make sure that code is being put inside either a main method or another method, and not just in the class. It is not possible to just use primitive types willy-nilly in the class itself. Structure needs to be present.\n",
    "- It is important to make sure the method and variable names are always matching. In the code above, I didn't make sure of this. I also tried to access variables outside scope, which is always important to make sure of. During the AP exam, students literally have to write code with their pencil or pen on the FRQ sheets, so going slow and making sure one knows what they're doing goes a long way.\n",
    "\n",
    "**Grading:**\n",
    "- 1/1 Point for correctly changing the boolean in Part A\n",
    "- 1/1 Point for using Compound Assigment Operators in Part B\n",
    "- 1/1 Point for Values reseting when one hits 10 points\n",
    "- 1/1 Point for Passing Arguments through Part A and B"
   ]
  },
  {
   "cell_type": "markdown",
   "metadata": {},
   "source": [
    "## Unit 2: Using Objects"
   ]
  },
  {
   "cell_type": "markdown",
   "metadata": {},
   "source": [
    "### Section 1\n",
    "\n",
    "**The relationship between classes and objects, in my own words:**\n",
    "\n",
    "- Classes are like blueprints for objects. They define the variables, methods, and constructors for each object that uses the class blueprint. An object, however, is an instance of a class, and isn't the definition of the class itself. The relationship between them is that an object is an instance of a class, and that an object uses a class as a blueprint, as mentioned."
   ]
  },
  {
   "cell_type": "markdown",
   "metadata": {},
   "source": [
    "### Section 2"
   ]
  },
  {
   "cell_type": "code",
   "execution_count": 9,
   "metadata": {
    "vscode": {
     "languageId": "java"
    }
   },
   "outputs": [],
   "source": [
    "public class Student {\n",
    "\n",
    "    // instance variables\n",
    "    String name;\n",
    "    String teacher;\n",
    "    int period;\n",
    "\n",
    "    // constructor\n",
    "    public Student(String name, String teacher, int period) {\n",
    "        this.name = name;\n",
    "        this.teacher = teacher;\n",
    "        this.period = period;\n",
    "    }\n",
    "    // Identify, using its signature, the correct constructor being called.\n",
    "\n",
    "    // There is only one constructor method. However, I can specify that this class uses parameters to be set\n",
    "    // for each instance. This means that on initialization, the instance must have the parameters, as\n",
    "    // demonstrated in the following main method I created:\n",
    "\n",
    "    public static void main(String[] args) {\n",
    "        Student student = new Student(\"Paaras\", \"Mr. Mortensen\", 1);\n",
    "        // Student errorStudent = new Student(); This line is commented out as it will cause errors, as\n",
    "        // discussed above.\n",
    "    }\n",
    "}\n",
    "Student.main(null);"
   ]
  },
  {
   "cell_type": "markdown",
   "metadata": {},
   "source": [
    "### Section 3"
   ]
  },
  {
   "cell_type": "code",
   "execution_count": 11,
   "metadata": {
    "vscode": {
     "languageId": "java"
    }
   },
   "outputs": [
    {
     "name": "stdout",
     "output_type": "stream",
     "text": [
      "This is a static method.\n",
      "This is a non-static method.\n",
      "This method has a void return type.\n"
     ]
    }
   ],
   "source": [
    "public class MyClass {\n",
    "\n",
    "    // Static method\n",
    "    public static void staticMethod() {\n",
    "        System.out.println(\"This is a static method.\");\n",
    "    }\n",
    "\n",
    "    // Non-static (instance) method\n",
    "    public void nonStaticMethod() {\n",
    "        System.out.println(\"This is a non-static method.\");\n",
    "    }\n",
    "\n",
    "    // Method with void return type\n",
    "    public void methodWithVoidReturnType() {\n",
    "        System.out.println(\"This method has a void return type.\");\n",
    "    }\n",
    "\n",
    "    public static void main(String[] args) {\n",
    "        // Calling the static method\n",
    "        staticMethod();\n",
    "\n",
    "        // Creating an object of MyClass\n",
    "        MyClass myObject = new MyClass();\n",
    "\n",
    "        // Calling the non-static method on the object\n",
    "        myObject.nonStaticMethod();\n",
    "\n",
    "        // Calling the method with void return type\n",
    "        myObject.methodWithVoidReturnType();\n",
    "    }\n",
    "}\n",
    "MyClass.main(null);"
   ]
  },
  {
   "cell_type": "markdown",
   "metadata": {},
   "source": [
    "### Section 5"
   ]
  },
  {
   "cell_type": "markdown",
   "metadata": {},
   "source": [
    "Which method in this class is a non-void method? Edit the cell below to call the Calculator method."
   ]
  },
  {
   "cell_type": "code",
   "execution_count": null,
   "metadata": {
    "vscode": {
     "languageId": "java"
    }
   },
   "outputs": [],
   "source": [
    "public class Calculator {\n",
    "    public int add(int a, int b) {\n",
    "        return a + b;\n",
    "    }\n",
    "\n",
    "    public static void main(String[] args) {\n",
    "        Calculator calculator = new Calculator();\n",
    "\n",
    "        int sum = calculator.add(5, 3);\n",
    "\n",
    "        // Printing the result\n",
    "        System.out.println(\"Sum: \" + sum); // Output: Sum: 8\n",
    "    }\n",
    "}"
   ]
  },
  {
   "cell_type": "markdown",
   "metadata": {},
   "source": [
    "The `add()` function is a non-void method. It will return an integer."
   ]
  },
  {
   "cell_type": "markdown",
   "metadata": {},
   "source": [
    "### Section 6"
   ]
  },
  {
   "cell_type": "markdown",
   "metadata": {},
   "source": [
    "Challenge: Display the background of the quote while displaying the quote in one line: “Give me liberty or give me death!” - Patrick Henry."
   ]
  },
  {
   "cell_type": "code",
   "execution_count": 12,
   "metadata": {
    "vscode": {
     "languageId": "java"
    }
   },
   "outputs": [
    {
     "name": "stdout",
     "output_type": "stream",
     "text": [
      "This is a famous quote written by Patrick Henry in the Virginia Convention: \n",
      "\"Give me liberty or give me death!\"\n"
     ]
    }
   ],
   "source": [
    "System.out.println(\"This is a famous quote written by Patrick Henry in the Virginia Convention: \\n\\\"Give me liberty or give me death!\\\"\");\n",
    "\n",
    "// This code works because of the \\n syntax. The syntax creates a new line when used."
   ]
  },
  {
   "cell_type": "markdown",
   "metadata": {},
   "source": [
    "Question: If we have a string, what is its lower bound index and what is its upper bound index, if the string length is equal to the variable ‘str’?\n",
    "\n",
    "Answer: The lower bound would be 0, unless CollegeBoard still uses a starting index of 1, and the upper bound would be one less than the length of the string, or `str - 1`."
   ]
  },
  {
   "cell_type": "markdown",
   "metadata": {},
   "source": [
    "Question: What is the error for an out of bound string? Display it in the cell below.\n",
    "\n",
    "```java\n",
    "String str = \"Hello\";\n",
    "System.out.println(str.substring(0, 1000))\n",
    "```\n",
    "\n",
    "Answer: The error is that 1000 is out of bounds for a string with only five characters, or a length of 5. "
   ]
  },
  {
   "cell_type": "markdown",
   "metadata": {},
   "source": [
    "### FRQ Hacks"
   ]
  },
  {
   "cell_type": "markdown",
   "metadata": {},
   "source": [
    "**Question 1:** Create a void method that takes an integer input and adds it to an ArrayList. Then, add a non-void method that is able to call a certain index from the ArrayList."
   ]
  },
  {
   "cell_type": "code",
   "execution_count": 16,
   "metadata": {
    "vscode": {
     "languageId": "java"
    }
   },
   "outputs": [
    {
     "name": "stdout",
     "output_type": "stream",
     "text": [
      "3\n"
     ]
    }
   ],
   "source": [
    "public class Hack1 {\n",
    "\n",
    "    void addInteger(int input, ArrayList<Integer> arr) {\n",
    "        arr.add(input);\n",
    "    }\n",
    "\n",
    "    int getIndexOfArray(int index, ArrayList<Integer> arr) {\n",
    "        return arr.get(index);\n",
    "    }\n",
    "\n",
    "    public static void main(String[] args) {\n",
    "        ArrayList<Integer> array = new ArrayList<Integer>();\n",
    "        Hack1 instance = new Hack1();\n",
    "        instance.addInteger(3, array);\n",
    "        System.out.println(instance.getIndexOfArray(0, array));\n",
    "    }\n",
    "}\n",
    "\n",
    "Hack1.main(null);"
   ]
  },
  {
   "cell_type": "markdown",
   "metadata": {},
   "source": [
    "**Question 2:** Create a simple guessing game with random numbers in math, except the random number is taken to a random exponent (also includes roots), and the person has to find out what the root and exponent is (with hints!). Use at least one static and one non-static method in your class."
   ]
  },
  {
   "cell_type": "code",
   "execution_count": 1,
   "metadata": {
    "vscode": {
     "languageId": "java"
    }
   },
   "outputs": [
    {
     "name": "stdout",
     "output_type": "stream",
     "text": [
      "Guess the root! (Hint: It's between 1 and 5)\n",
      "You guessed 4\n",
      "Guess the exponent! (Hint: It's between 2 and 6)\n",
      "You guessed 5\n",
      "Better luck next time! The answer was 3 raised to 3, \n"
     ]
    }
   ],
   "source": [
    "public class ExponentialGuessingGame {\n",
    "    public ArrayList<Integer> generateNumbers() {\n",
    "\n",
    "        int rootMin = 1;\n",
    "        int rootMax = 5;\n",
    "        int rootRange = (rootMax - rootMin) + 1;     \n",
    "        int root = (int)(Math.random() * rootRange) + rootMin;\n",
    "\n",
    "        int exponentMin = 2;\n",
    "        int exponentMax = 6;\n",
    "        int exponentRange = (exponentMax - exponentMin) + 1;\n",
    "        int exponent = (int)(Math.random() * exponentRange) + rootMin;\n",
    "\n",
    "        ArrayList<Integer> result = new ArrayList<Integer>();\n",
    "        result.add(root);\n",
    "        result.add(exponent);\n",
    "\n",
    "        return result;\n",
    "    }\n",
    "    public static void main(String[] args) {\n",
    "        Scanner scanner = new Scanner(System.in);\n",
    "        ExponentialGuessingGame instance = new ExponentialGuessingGame();\n",
    "\n",
    "        ArrayList<Integer> answers = instance.generateNumbers();\n",
    "\n",
    "        System.out.println(\"Guess the root! (Hint: It's between 1 and 5)\");\n",
    "        String rootGuess = scanner.nextLine();\n",
    "        System.out.println(\"You guessed \" + rootGuess);\n",
    "\n",
    "        System.out.println(\"Guess the exponent! (Hint: It's between 2 and 6)\");\n",
    "        String exponentGuess = scanner.nextLine();\n",
    "        System.out.println(\"You guessed \" + exponentGuess);\n",
    "\n",
    "        if (Integer.parseInt(rootGuess) == answers.get(0) && Integer.parseInt(exponentGuess) == answers.get(1)) {\n",
    "            System.out.println(\"You Got It!!!\");\n",
    "        } else {\n",
    "            System.out.println(\"Better luck next time! The answer was \" + answers.get(0) + \" raised to \" + answers.get(1) + \", \");\n",
    "        }\n",
    "    }\n",
    "}\n",
    "ExponentialGuessingGame.main(null);"
   ]
  },
  {
   "cell_type": "markdown",
   "metadata": {},
   "source": [
    "**Question 3:** Create a class of your choosing that has multiple parameters of different types (int, boolean, String, double) and put 5 data values in that list. Show that you can access the information by givng some samples."
   ]
  },
  {
   "cell_type": "code",
   "execution_count": 25,
   "metadata": {
    "vscode": {
     "languageId": "java"
    }
   },
   "outputs": [
    {
     "name": "stdout",
     "output_type": "stream",
     "text": [
      "[4, true, Hello, World!, 3.14159]\n"
     ]
    }
   ],
   "source": [
    "public class MultipleParameters {\n",
    "    public ArrayList<String> returnMultipleParameters(int integer, boolean bool, String str, double decimal) {\n",
    "\n",
    "        ArrayList<String> result = new ArrayList<String>();\n",
    "\n",
    "        result.add(Integer.toString(integer));\n",
    "        result.add(Boolean.toString(bool));\n",
    "        result.add(str);\n",
    "        result.add(Double.toString(decimal));\n",
    "\n",
    "        return result;\n",
    "    }\n",
    "\n",
    "    public static void main(String[] args) {\n",
    "        MultipleParameters instance = new MultipleParameters();\n",
    "\n",
    "        ArrayList<String> result = instance.returnMultipleParameters(4, true, \"Hello, World!\", 3.14159);\n",
    "        System.out.println(result);\n",
    "    }\n",
    "}\n",
    "MultipleParameters.main(null);"
   ]
  },
  {
   "cell_type": "markdown",
   "metadata": {},
   "source": [
    "**Question 4:** Using your preliminary knowlege of loops, use a for loop to iterate through a person’s first and last name, seperated by a space, and create methods to call a person’s first name and a person’s last name by iterating through the string."
   ]
  },
  {
   "cell_type": "code",
   "execution_count": 3,
   "metadata": {
    "vscode": {
     "languageId": "java"
    }
   },
   "outputs": [
    {
     "name": "stdout",
     "output_type": "stream",
     "text": [
      "Word at index 0: Paaras\n",
      "Word at index 1: Paaras\n"
     ]
    }
   ],
   "source": [
    "public class FindWordAtIndex {\n",
    "\n",
    "    public void findFirstAndLastName(String name, int index) {\n",
    "        String input = name;\n",
    "        int indexToFind = index;\n",
    "\n",
    "        String[] words = input.split(\" \");\n",
    "\n",
    "        int startIndex = 0;\n",
    "        int endIndex = -1;\n",
    "\n",
    "        for (String word : words) {\n",
    "            if (startIndex + word.length() > indexToFind) {\n",
    "                endIndex = startIndex + word.length() - 1;\n",
    "                break;\n",
    "            }\n",
    "\n",
    "            startIndex += word.length() + 1;\n",
    "        }\n",
    "\n",
    "        if (endIndex != -1) {\n",
    "            String wordAtIndex = input.substring(startIndex, endIndex + 1);\n",
    "            System.out.println(\"Word at index \" + indexToFind + \": \" + wordAtIndex);\n",
    "        } else {\n",
    "            System.out.println(\"Index out of bounds.\");\n",
    "        }\n",
    "    }\n",
    "\n",
    "    public static void main(String[] args) {\n",
    "        FindWordAtIndex instance = new FindWordAtIndex();\n",
    "        instance.findFirstAndLastName(\"Paaras Purohit\", 0);\n",
    "        instance.findFirstAndLastName(\"Paaras Purohit\", 1);\n",
    "    }\n",
    "}\n",
    "FindWordAtIndex.main(null);"
   ]
  },
  {
   "cell_type": "markdown",
   "metadata": {},
   "source": [
    "## Unit 3: Boolean Expressions & If Statements"
   ]
  },
  {
   "cell_type": "markdown",
   "metadata": {},
   "source": [
    "### Section 1:\n",
    "\n",
    "Operators SHOULD NOT be used on String. String comparisons should be done using .equal or .compareTo\n",
    "\n",
    "- This is because\n",
    "    - In Java, strings should not be compared using the == operator because it checks for **reference** equality, not **content** equality.\n",
    "    - When you use == with objects (including strings), it checks if the references to the objects are the same. In other words, it checks if they point to the same **location** in the memory.\n",
    "    - String literals in Java are stored in a special memory area called the \"String Pool\". When you create a string literal, Java checks if a string with the same content already exists in the pool. If it does, it returns a reference to that existing string; if not, it creates a new string.\n",
    "\n",
    "### Section 5: \n",
    "\n",
    "**Nested if-else statements:**\n",
    "Nested if-else statements allow for **multiple** levels of decision-making within a program.\n",
    "\n",
    "**Compound Boolean Expressions:**\n",
    "Compound boolean expressions involve using **boolean/conditional** operators like ``&& (and)`` and ``|| (or)`` to combine multiple conditions.\n",
    "\n",
    "**Short-Circuited Evaluation:**\n",
    "Short-circuited evaluation is an **optimization** technique where the second condition in a compound expression is only evaluated if the first condition is true (for &&) or false (for ||).\n",
    "\n",
    "**Coding Practice:**\n",
    "\n",
    "Calculate the final grade based on the following criteria:\n",
    "- If the student didn't complete homework, the grade is automatically \"F.\"\n",
    "- If the student completed homework and the average of midterm and final exam scores is >= 70, the grade is \"Pass.\"\n",
    "- Otherwise, the grade is \"Fail.\""
   ]
  },
  {
   "cell_type": "code",
   "execution_count": 2,
   "metadata": {
    "vscode": {
     "languageId": "java"
    }
   },
   "outputs": [
    {
     "name": "stdout",
     "output_type": "stream",
     "text": [
      " Enter your midterm score (0-100): \n"
     ]
    },
    {
     "name": "stdout",
     "output_type": "stream",
     "text": [
      "2\n",
      " Enter your final exam score (0-100): \n",
      "34\n",
      " Did you complete the homework (yes/no): \n",
      "no\n",
      " Your final grade is: Fail\n"
     ]
    }
   ],
   "source": [
    "import java.util.Scanner;\n",
    "\n",
    "public class GradeCalculator {\n",
    "    String calculateGrades(int midtermScore, int finalExamScore, String homeworkComplete) {\n",
    "        \n",
    "        boolean completion = false;\n",
    "        int sumOfScores = midtermScore + finalExamScore;\n",
    "        int avg = sumOfScores / 2;\n",
    "\n",
    "        if (homeworkComplete == \"yes\") {\n",
    "            completion = true;\n",
    "        } else {\n",
    "            completion = false;\n",
    "        }\n",
    "        if (completion && avg >= 70) {\n",
    "            return new String(\"Pass\");\n",
    "        }\n",
    "        else {\n",
    "            return new String(\"Fail\");\n",
    "        }\n",
    "    }\n",
    "    public static void main(String[] args) {\n",
    "        Scanner scanner = new Scanner(System.in);\n",
    "\n",
    "        System.out.print(\" Enter your midterm score (0-100): \\n\");\n",
    "        int midtermScore = scanner.nextInt();\n",
    "        System.out.print(midtermScore);\n",
    "\n",
    "        System.out.print(\"\\n Enter your final exam score (0-100): \\n\");\n",
    "        int finalExamScore = scanner.nextInt();\n",
    "        System.out.print(finalExamScore);\n",
    "\n",
    "        System.out.print(\"\\n Did you complete the homework (yes/no): \\n\");\n",
    "        String homeworkComplete = scanner.next().toLowerCase();\n",
    "        System.out.print(homeworkComplete);\n",
    "\n",
    "        GradeCalculator instance = new GradeCalculator();\n",
    "        String grade = instance.calculateGrades(midtermScore, finalExamScore, homeworkComplete);\n",
    "\n",
    "        System.out.println(\"\\n Your final grade is: \" + grade);\n",
    "\n",
    "        scanner.close();\n",
    "    }\n",
    "}\n",
    "\n",
    "GradeCalculator.main(null)"
   ]
  },
  {
   "cell_type": "markdown",
   "metadata": {},
   "source": [
    "### Section 6\n",
    "\n",
    "**De Morgan's Law Practice**\n",
    "\n",
    "Negate the following expressions:\n",
    "\n",
    "``1. !(A || B)`` **= (!A && !B)**\n",
    "\n",
    "``2. !(A || B && C)`` **= (!A && !B || !C)**\n",
    "\n",
    "``3. !(A && (B || C))`` **(!A || (!B && !C))**"
   ]
  },
  {
   "cell_type": "markdown",
   "metadata": {},
   "source": [
    "### FRQ Coding Practice\n",
    "\n",
    "Create a program that validates a user's password based on the following criteria:\n",
    "\n",
    "1. The password must be at least 8 characters long.\n",
    "2. The password must contain at least one uppercase letter.\n",
    "3. The password must contain at least one lowercase letter.\n",
    "4. The password must contain at least one digit (0-9).\n",
    "5. The password must contain at least one special character (!, @, #, $, %, ^, &, *).\n",
    "\n",
    "Write a Java program that prompts the user to enter a password and then checks if it meets the above criteria. If the password meets all the criteria, print \"Password is valid.\" If not, print a message indicating which criteria the password fails to meet.\n"
   ]
  },
  {
   "cell_type": "code",
   "execution_count": 5,
   "metadata": {
    "vscode": {
     "languageId": "java"
    }
   },
   "outputs": [
    {
     "name": "stdout",
     "output_type": "stream",
     "text": [
      "Enter a password: "
     ]
    },
    {
     "name": "stdout",
     "output_type": "stream",
     "text": [
      "th!s_IS_aGR8&&Password\n",
      "Password is valid.\n"
     ]
    }
   ],
   "source": [
    "import java.util.Scanner;\n",
    "import java.util.regex.*;\n",
    "\n",
    "public class PasswordValidator {\n",
    "    public static void main(String[] args) {\n",
    "        Scanner scanner = new Scanner(System.in);\n",
    "        System.out.print(\"Enter a password: \");\n",
    "        String password = scanner.nextLine();\n",
    "        System.out.println(password);\n",
    "        scanner.close();\n",
    "\n",
    "        if (isValidPassword(password)) {\n",
    "            System.out.println(\"Password is valid.\");\n",
    "        } else {\n",
    "            System.out.println(\"Password is invalid. It must meet the following criteria:\");\n",
    "            if (password.length() < 8) {\n",
    "                System.out.println(\"- The password must be at least 8 characters long.\");\n",
    "            }\n",
    "            if (!containsUppercaseLetter(password)) {\n",
    "                System.out.println(\"- The password must contain at least one uppercase letter.\");\n",
    "            }\n",
    "            if (!containsLowercaseLetter(password)) {\n",
    "                System.out.println(\"- The password must contain at least one lowercase letter.\");\n",
    "            }\n",
    "            if (!containsDigit(password)) {\n",
    "                System.out.println(\"- The password must contain at least one digit (0-9).\");\n",
    "            }\n",
    "            if (!containsSpecialCharacter(password)) {\n",
    "                System.out.println(\"- The password must contain at least one special character (!, @, #, $, %, ^, &, *).\");\n",
    "            }\n",
    "        }\n",
    "    }\n",
    "\n",
    "    public static boolean isValidPassword(String password) {\n",
    "        return password.length() >= 8\n",
    "            && containsUppercaseLetter(password)\n",
    "            && containsLowercaseLetter(password)\n",
    "            && containsDigit(password)\n",
    "            && containsSpecialCharacter(password);\n",
    "    }\n",
    "\n",
    "    public static boolean containsUppercaseLetter(String password) {\n",
    "        return Pattern.compile(\"[A-Z]\").matcher(password).find();\n",
    "    }\n",
    "\n",
    "    public static boolean containsLowercaseLetter(String password) {\n",
    "        return Pattern.compile(\"[a-z]\").matcher(password).find();\n",
    "    }\n",
    "\n",
    "    public static boolean containsDigit(String password) {\n",
    "        return Pattern.compile(\"[0-9]\").matcher(password).find();\n",
    "    }\n",
    "\n",
    "    public static boolean containsSpecialCharacter(String password) {\n",
    "        return Pattern.compile(\"[!@#$%^&*]\").matcher(password).find();\n",
    "    }\n",
    "}\n",
    "PasswordValidator.main(null);"
   ]
  },
  {
   "cell_type": "markdown",
   "metadata": {},
   "source": [
    "## Unit 4: Iteration"
   ]
  },
  {
   "cell_type": "markdown",
   "metadata": {},
   "source": [
    "**Question**: What is a loop and what are some real life examples of this (Setting a Song to repeat on your music player)\n",
    "\n",
    "Answer: An example of a loop is lesson questions. While the number of answers recieved is less than or equal to the limit the group presenting chose, the group will keep taking answers to the question they asked."
   ]
  },
  {
   "cell_type": "markdown",
   "metadata": {},
   "source": [
    "**Popcorn Hack**: Simplify this code:"
   ]
  },
  {
   "cell_type": "code",
   "execution_count": null,
   "metadata": {
    "vscode": {
     "languageId": "java"
    }
   },
   "outputs": [],
   "source": [
    "// Popcorn Hack: Simplify the code segment below\n",
    "int i = 0;\n",
    "System.out.println(i);\n",
    "i++;\n",
    "System.out.println(i);\n",
    "i++;\n",
    "System.out.println(i);\n",
    "i++;\n",
    "System.out.println(i);\n",
    "i++;\n",
    "System.out.println(i);\n",
    "i++;\n",
    "\n",
    "/* Hint:\n",
    "// while (condition) {\n",
    "\n",
    "}\n",
    "for (condition) {\n",
    "\n",
    "}\n",
    "*/"
   ]
  },
  {
   "cell_type": "code",
   "execution_count": 1,
   "metadata": {
    "vscode": {
     "languageId": "java"
    }
   },
   "outputs": [
    {
     "name": "stdout",
     "output_type": "stream",
     "text": [
      "0\n",
      "1\n",
      "2\n",
      "3\n",
      "4\n",
      "5\n"
     ]
    }
   ],
   "source": [
    "// Simplified Code:\n",
    "\n",
    "int i = 0;\n",
    "\n",
    "while (i <= 5) {\n",
    "    System.out.println(i);\n",
    "    i++;\n",
    "}"
   ]
  },
  {
   "cell_type": "markdown",
   "metadata": {},
   "source": [
    "**Question**: What's wrong with this code?"
   ]
  },
  {
   "cell_type": "code",
   "execution_count": null,
   "metadata": {
    "vscode": {
     "languageId": "java"
    }
   },
   "outputs": [],
   "source": [
    "while (true)\n",
    "{\n",
    "    System.out.print(\"CONTROL \");\n",
    "}\n",
    "// DO NOT RUN THE CODE"
   ]
  },
  {
   "cell_type": "markdown",
   "metadata": {},
   "source": [
    "Answer: Since the condition inside the while statement is true, the code will run infinitely, which runs the risk of crashing memory."
   ]
  },
  {
   "cell_type": "markdown",
   "metadata": {},
   "source": [
    "**Question:** What will this code block output?"
   ]
  },
  {
   "cell_type": "code",
   "execution_count": null,
   "metadata": {
    "vscode": {
     "languageId": "java"
    }
   },
   "outputs": [],
   "source": [
    "int i = 0;\n",
    "do \n",
    "{\n",
    "    System.out.print(\"Quite shrimple. \");\n",
    "    i++;\n",
    "}\n",
    "while (i < -5);"
   ]
  },
  {
   "cell_type": "markdown",
   "metadata": {},
   "source": [
    "Answer: Since the condition is that i must be less than -5, it won't run more than it needs to. Since the loop is written in this format, the loop will run the code THEN check the condition, meaning that the code will run only once. Therefore, the output will be \"Quite shrimple. \"."
   ]
  },
  {
   "cell_type": "markdown",
   "metadata": {},
   "source": [
    "**Question:** How many times will this code print \"Doing some code?\""
   ]
  },
  {
   "cell_type": "code",
   "execution_count": null,
   "metadata": {
    "vscode": {
     "languageId": "java"
    }
   },
   "outputs": [],
   "source": [
    "for (int num = 1; num <= 5; num++)\n",
    "{\n",
    "    System.out.println(\"Doing some code\");\n",
    "}"
   ]
  },
  {
   "cell_type": "markdown",
   "metadata": {},
   "source": [
    "Answer: The code will print \"Doing some code\" five times."
   ]
  },
  {
   "cell_type": "markdown",
   "metadata": {},
   "source": [
    "**Question**: How many times will this code print \"Big guy?\""
   ]
  },
  {
   "cell_type": "code",
   "execution_count": null,
   "metadata": {
    "vscode": {
     "languageId": "java"
    }
   },
   "outputs": [],
   "source": [
    "int i = 0; \n",
    "while (i < 10) \n",
    "{\n",
    "    System.out.println(\"Big guy\");\n",
    "    i++;  \n",
    "    if (i == 5) {\n",
    "        break;\n",
    "    }\n",
    "}"
   ]
  },
  {
   "cell_type": "markdown",
   "metadata": {},
   "source": [
    "Answer: This code will print the statement five times. Although the while loop specifies 10 times, the break statement in the loop is set to break the loop when i is equal to 5. Therefore, it only runs five times."
   ]
  },
  {
   "cell_type": "markdown",
   "metadata": {},
   "source": [
    "**Question**: Where are the 3 methods in the code and how do they contribute to the program's functionality?"
   ]
  },
  {
   "cell_type": "code",
   "execution_count": null,
   "metadata": {
    "vscode": {
     "languageId": "java"
    }
   },
   "outputs": [],
   "source": [
    "public class Compare {\n",
    "    public static void main(String[] args) {\n",
    "        String string1 = \"Coding is cool!\";\n",
    "        String string2 = \"Coding is coding!\";\n",
    "\n",
    "        int minLength = Math.min(string1.length(), string2.length());\n",
    "\n",
    "        for (int i = 0; i < minLength; i++) {\n",
    "            String subString1 = string1.substring(0, i + 1);\n",
    "            String subString2 = string2.substring(0, i + 1);\n",
    "\n",
    "            if (subString1.equals(subString2)) {\n",
    "                System.out.println(\"Common Prefix: \" + subString2);\n",
    "            }\n",
    "        }\n",
    "    }\n",
    "}\n",
    "Compare.main(null)"
   ]
  },
  {
   "cell_type": "markdown",
   "metadata": {},
   "source": [
    "Answer:\n",
    "\n",
    "- `Math.min()` compares two values and returns which value is less, which sets the minimum length for the loop to iterate through.\n",
    "\n",
    "- `String.length()` gets the length of any string. This is the parameter for `Math.min()`.\n",
    "\n",
    "- `String.substring()` takes two numbers, a max and a min, and extracts those indices from the string calling the method to make a sub-string. This makes the output how it is."
   ]
  },
  {
   "cell_type": "markdown",
   "metadata": {},
   "source": [
    "**Question**: What does word.length() do and how do we use it above? What Boolean Operator is used?"
   ]
  },
  {
   "cell_type": "code",
   "execution_count": null,
   "metadata": {
    "vscode": {
     "languageId": "java"
    }
   },
   "outputs": [],
   "source": [
    "String word = \"supercalifragilisticexpialidocious\";\n",
    "int count = 0;\n",
    "\n",
    "for (int i = 0; i < word.length(); i++) {\n",
    "    char letter = word.charAt(i);\n",
    "    if (letter == 'a' || letter == 'e' || letter == 'i' || letter == 'o' || letter == 'u') {\n",
    "        count++;\n",
    "    }\n",
    "}\n",
    "\n",
    "System.out.println(\"The Number of vowels in \\\"\" + word + \"\\\" is \" + count);"
   ]
  },
  {
   "cell_type": "markdown",
   "metadata": {},
   "source": [
    "Answer: `word.length` is used to tell the loop when to stop. There are two boolean operators used. The first is the `<` operator in the loop, and the other is the `==` operator in the conditional, used four times."
   ]
  },
  {
   "cell_type": "markdown",
   "metadata": {},
   "source": [
    "**Question**: Before uncommenting the code, guess what the output will look like:\n",
    "\n",
    "**Question**: What will the output of the code above be if we switch the loop headers (the stuff inside of the for loop)? \n",
    "\n",
    "**Question**: After making a prediction actually switch the loop headers for yourself. What do you notice about the output compared to the output before the change?"
   ]
  },
  {
   "cell_type": "code",
   "execution_count": 2,
   "metadata": {
    "vscode": {
     "languageId": "java"
    }
   },
   "outputs": [
    {
     "name": "stdout",
     "output_type": "stream",
     "text": [
      "1 1 1 1 \n",
      "2 2 2 2 \n"
     ]
    }
   ],
   "source": [
    "public class NestedLoops{\n",
    "\n",
    "    public static void main(String[] args){\n",
    "/*\n",
    "        for (int outer = 1; outer < 5; outer++){\n",
    "            for (int inner = 1; inner < 3; inner++){\n",
    "                \n",
    "                System.out.print(inner + \" \");\n",
    "            }\n",
    "\n",
    "            System.out.println();\n",
    "\n",
    "        } \n",
    "*/\n",
    "    }\n",
    "}\n",
    "\n",
    "NestedLoops.main(null)"
   ]
  },
  {
   "cell_type": "markdown",
   "metadata": {},
   "source": [
    "Answer: This nested loop will print \"`1 2`\" four times.\n",
    "\n",
    "Answer: If you switched the for loops, the output would be \"`1 1 1 1`\" then \"`2 2 2 2`\".\n",
    "\n",
    "Answer: I got it right!"
   ]
  },
  {
   "cell_type": "markdown",
   "metadata": {},
   "source": [
    "**Question**: How many times will the inner loop execute when outer = 0? 1? 2? In total?"
   ]
  },
  {
   "cell_type": "code",
   "execution_count": null,
   "metadata": {
    "vscode": {
     "languageId": "java"
    }
   },
   "outputs": [],
   "source": [
    "for (int outer = 0; outer < 3; outer++){\n",
    "    for (int inner = 0; inner < 4; inner++){\n",
    "        System.out.println(\"Test\");\n",
    "    }\n",
    "}"
   ]
  },
  {
   "cell_type": "markdown",
   "metadata": {},
   "source": [
    "Answer: 4, 4, 4, 12."
   ]
  },
  {
   "cell_type": "markdown",
   "metadata": {},
   "source": [
    "**Question** How many times will the inner loop execute when outer = 5? 4? 3? In total?"
   ]
  },
  {
   "cell_type": "code",
   "execution_count": null,
   "metadata": {
    "vscode": {
     "languageId": "java"
    }
   },
   "outputs": [],
   "source": [
    "for (int outer = 5; outer > 0; outer--){\n",
    "    for (int inner = 0; inner < outer; inner++){\n",
    "        System.out.println(\"e\");\n",
    "    }\n",
    "}"
   ]
  },
  {
   "cell_type": "markdown",
   "metadata": {},
   "source": [
    "Answer: 4, 3, 2, 15."
   ]
  },
  {
   "cell_type": "markdown",
   "metadata": {},
   "source": [
    "**Question**: How many times will the statement #1 execute?"
   ]
  },
  {
   "cell_type": "code",
   "execution_count": null,
   "metadata": {
    "vscode": {
     "languageId": "java"
    }
   },
   "outputs": [],
   "source": [
    "int k = 0;\n",
    "while (k < 5){\n",
    "    int x = (int)(Math.random()*6) + 1;\n",
    "    while (x != 6){\n",
    "        System.out.println(\"x\");\n",
    "        x = (int)(Math.random()*6) + 1;\n",
    "    }\n",
    "    k++;\n",
    "}"
   ]
  },
  {
   "cell_type": "markdown",
   "metadata": {},
   "source": [
    "Answer: There is not enough information to determine this. This is because `Math.random()` is dictating how long the loop will run, so it could be any value."
   ]
  },
  {
   "cell_type": "markdown",
   "metadata": {},
   "source": [
    "**Question**: How many times will the statements run?"
   ]
  },
  {
   "cell_type": "code",
   "execution_count": null,
   "metadata": {
    "vscode": {
     "languageId": "java"
    }
   },
   "outputs": [],
   "source": [
    "for (int k = 0; k < 135; k++){\n",
    "    if (k % 5 == 0){ // Statement #1\n",
    "        System.out.print(k); // Statement #2\n",
    "    }\n",
    "}"
   ]
  },
  {
   "cell_type": "markdown",
   "metadata": {},
   "source": [
    "Answer: 27."
   ]
  },
  {
   "cell_type": "markdown",
   "metadata": {},
   "source": [
    "### FRQ Hacks"
   ]
  },
  {
   "cell_type": "markdown",
   "metadata": {},
   "source": [
    "**Hack 1**: Rewrite a regular for loop using what you've learned."
   ]
  },
  {
   "cell_type": "code",
   "execution_count": 2,
   "metadata": {
    "vscode": {
     "languageId": "java"
    }
   },
   "outputs": [],
   "source": [
    "public class RewritingForLoops {\n",
    "    void usingWhileLoop() {\n",
    "        int k = 0;\n",
    "\n",
    "        while (k < 40) {\n",
    "            System.out.println(k);\n",
    "            k += 4;\n",
    "        }\n",
    "    }\n",
    "\n",
    "    void usingDoWhileLoop() {\n",
    "        int k = 0;\n",
    "\n",
    "        do {\n",
    "            System.out.println(k);\n",
    "            k += 4;\n",
    "        } while (k < 40);\n",
    "    }\n",
    "    \n",
    "    void usingListLoop() {\n",
    "        int[] iterated = {0, 4, 8, 12, 16, 20, 24, 28, 32, 36, 40};\n",
    "\n",
    "        for (int k : iterated) {\n",
    "            System.out.println(k);\n",
    "        }\n",
    "    }\n",
    "}"
   ]
  },
  {
   "cell_type": "markdown",
   "metadata": {},
   "source": [
    "**Hack 2: Ceaser Cipher Hacks:**\n",
    "Try to write a cipher program that shifts each letter in a message 3 letters forward. Use any of the methods you learned today. Use it to decode the 3 messages we've given you!"
   ]
  },
  {
   "cell_type": "code",
   "execution_count": 4,
   "metadata": {
    "vscode": {
     "languageId": "java"
    }
   },
   "outputs": [
    {
     "name": "stdout",
     "output_type": "stream",
     "text": [
      "Decoded Message 1: hcwy div!\n",
      "Decoded Message 2: wixy wixy wixy\n",
      "Decoded Message 3: mojylwufczluacfcmncwyrjcufcxiwciom\n"
     ]
    }
   ],
   "source": [
    "public class CaesarCipher {\n",
    "\n",
    "    public static void main(String[] args) {\n",
    "        String[] letters = {\"a\", \"b\", \"c\", \"d\", \"e\", \"f\", \"g\", \"h\", \"i\", \"j\", \"k\", \"l\", \"m\", \"n\", \"o\", \"p\", \"q\", \"r\", \"s\", \"t\", \"u\", \"v\", \"w\", \"x\", \"y\", \"z\"};\n",
    "        String message1 = \"Kfzb gly!\";\n",
    "        String message2 = \"zlab zlab zlab\";\n",
    "        String message3 = \"prmbozxifcoxdfifpqfzbumfxifalzflrp\";\n",
    "\n",
    "        String decodedMessage1 = decodeCaesarCipher(message1, 3, letters);\n",
    "        String decodedMessage2 = decodeCaesarCipher(message2, 3, letters);\n",
    "        String decodedMessage3 = decodeCaesarCipher(message3, 3, letters);\n",
    "\n",
    "        System.out.println(\"Decoded Message 1: \" + decodedMessage1);\n",
    "        System.out.println(\"Decoded Message 2: \" + decodedMessage2);\n",
    "        System.out.println(\"Decoded Message 3: \" + decodedMessage3);\n",
    "    }\n",
    "\n",
    "    // Function to decode a Caesar cipher\n",
    "    public static String decodeCaesarCipher(String message, int shift, String[] letters) {\n",
    "        StringBuilder decodedMessage = new StringBuilder();\n",
    "        for (int i = 0; i < message.length(); i++) {\n",
    "            char currentChar = message.charAt(i);\n",
    "            if (Character.isLetter(currentChar)) {\n",
    "                char base = Character.isUpperCase(currentChar) ? 'A' : 'a';\n",
    "                int index = (currentChar - base - shift + 26) % 26;\n",
    "                decodedMessage.append(letters[index]);\n",
    "            } else {\n",
    "                decodedMessage.append(currentChar);\n",
    "            }\n",
    "        }\n",
    "        return decodedMessage.toString();\n",
    "    }\n",
    "}\n",
    "CaesarCipher.main(null);"
   ]
  }
 ],
 "metadata": {
  "kernelspec": {
   "display_name": "Java",
   "language": "java",
   "name": "java"
  },
  "language_info": {
   "codemirror_mode": "java",
   "file_extension": ".jshell",
   "mimetype": "text/x-java-source",
   "name": "Java",
   "pygments_lexer": "java",
   "version": "17.0.8.1+1-Ubuntu-0ubuntu120.04"
  },
  "orig_nbformat": 4
 },
 "nbformat": 4,
 "nbformat_minor": 2
}
