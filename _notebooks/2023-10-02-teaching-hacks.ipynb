{
 "cells": [
  {
   "cell_type": "markdown",
   "metadata": {},
   "source": [
    "# APCSA Lesson Hacks\n",
    "\n",
    "- toc: true\n",
    "- comments: false\n",
    "- layout: post\n",
    "- title: APCSA Lesson Hacks\n",
    "- description: Hacks for all student lessons\n",
    "- type: tangibles\n",
    "- courses: { csa: {week: 6} }\n",
    "- permalink: /apcsa-lesson-hacks"
   ]
  },
  {
   "cell_type": "markdown",
   "metadata": {},
   "source": [
    "## Unit 1: Primitive Types:"
   ]
  },
  {
   "cell_type": "markdown",
   "metadata": {},
   "source": [
    "### Section 1:"
   ]
  },
  {
   "cell_type": "markdown",
   "metadata": {},
   "source": [
    "### Section 2:\n",
    "\n",
    "**Primitive Activity**\n",
    "\n",
    "Choices:\n",
    "1. int\n",
    "2. double\n",
    "3. boolean\n",
    "4. String\n",
    "\n",
    "- <u>_3 </u>False\n",
    "- <u>_4 </u>\"ryan gosling\"\n",
    "- <u>_1 </u> 1738\n",
    "- <u>_2 </u> 4.26\n",
    "\n",
    "Questions:\n",
    "\n",
    "What type of data should be used to store:\n",
    "\n",
    "- Someones bank number and cvc? *int*\n",
    "- Someones mother's maiden name and their name? *string*\n",
    "- The first 16 digits of pi? *double*\n",
    "- If you want to transact one million $? *integer, assuming it's exactly one million dollars*\n",
    "\n",
    "**Find the Odd One Out**\n",
    "\n",
    "- int value; ✅\n",
    "- double 4eva; ❌ Variables can't start with a number.\n",
    "- boolean private; ❌ `private` is already a keyword.\n",
    "- integer sum; ✅\n",
    "- double wow!; ❌ `!` is a special character, you can't use those in variable names.\n",
    "- boolean foundIt; ✅\n",
    "- int numberOfStudents; ✅\n",
    "- double chanceOfRain; ✅\n",
    "- boolean #mortNews; ❌ `#` is a special character, you can't use those in variable names.\n",
    "- int count; ✅\n",
    "- bool isFriday; ❌ `bool` is not correct, `boolean` is.\n",
    "- final int DOZEN; ✅ Note: since it is final, the name is in all caps. This is the convention for Java."
   ]
  },
  {
   "cell_type": "markdown",
   "metadata": {},
   "source": [
    "### Section 3"
   ]
  },
  {
   "cell_type": "code",
   "execution_count": 2,
   "metadata": {
    "vscode": {
     "languageId": "java"
    }
   },
   "outputs": [
    {
     "name": "stdout",
     "output_type": "stream",
     "text": [
      "33\n",
      "1\n",
      "3.0\n"
     ]
    }
   ],
   "source": [
    "// Practice on tracing and predicting output types based on primitive variable types\n",
    "public class demo {\n",
    "    public static void main(String[] args) {        \n",
    "        System.out.println(\"3\" + \"3\"); // Since it's two strings, the output is \"33\"\n",
    "        System.out.println(3 / 2); // Since it's two integers, the output is 1.\n",
    "        System.out.println(2.0 * 1.5); // Since its two doubles, the output is 3.0.\n",
    "    }\n",
    "}\n",
    "\n",
    "demo.main(null);"
   ]
  },
  {
   "cell_type": "code",
   "execution_count": 3,
   "metadata": {
    "vscode": {
     "languageId": "java"
    }
   },
   "outputs": [
    {
     "name": "stdout",
     "output_type": "stream",
     "text": [
      "1\n"
     ]
    }
   ],
   "source": [
    "public class demo2 {\n",
    "    public static void main(String[] args) {\n",
    "        // Print a math equation that goes through these steps\n",
    "        // Adds 19 + 134\n",
    "        // Multiplies that value by 5\n",
    "        // Then takes the mod of that value by 2\n",
    "        // It should print 1\n",
    "\n",
    "        System.out.println( (19 + 134) * 5 % 2);\n",
    "    }\n",
    "}\n",
    "\n",
    "demo2.main(null);"
   ]
  },
  {
   "cell_type": "code",
   "execution_count": 5,
   "metadata": {
    "vscode": {
     "languageId": "java"
    }
   },
   "outputs": [
    {
     "name": "stdout",
     "output_type": "stream",
     "text": [
      "1 is odd\n",
      "3 is odd\n",
      "5 is odd\n",
      "7 is odd\n",
      "9 is odd\n"
     ]
    }
   ],
   "source": [
    "// Objective: Change the code WITHOUT changing the variables \n",
    "\n",
    "public class OddEven {\n",
    "\n",
    "    // Without changing any varibles\n",
    "    // Print only odd numbers\n",
    "\n",
    "    public static void main(String[] args) {\n",
    "        int num = 2;\n",
    "        int i = 0;\n",
    "        while (i <= 10) {\n",
    "            if (i % num == 1) { // I replaced 0 with 1. All odd numbers divided by 2 have a remainder of 1.\n",
    "                System.out.println(i + \" is odd\"); // I replaced \"even\" with \"odd\" as extra work to make sense.\n",
    "            }\n",
    "            i++;\n",
    "        }\n",
    "    }\n",
    "}\n",
    "\n",
    "OddEven.main(null);"
   ]
  },
  {
   "cell_type": "markdown",
   "metadata": {},
   "source": [
    "### Section 4"
   ]
  },
  {
   "cell_type": "code",
   "execution_count": 1,
   "metadata": {
    "vscode": {
     "languageId": "java"
    }
   },
   "outputs": [
    {
     "name": "stdout",
     "output_type": "stream",
     "text": [
      "100\n",
      "779\n",
      "2\n",
      "777\n"
     ]
    }
   ],
   "source": [
    "// Objective: Practice Compound Operations\n",
    "\n",
    "public class numbers {\n",
    "    public static void main(String[] args) {\n",
    "        int x = 777;\n",
    "\n",
    "        // challenge: think of 2 compound assignment operators that can be used in tandem to get the following outputs\n",
    "        // example: if we wanted output of 1 with 2 compound assigment operators, using x++; and x /= 777 would work. now how would we do that for:\n",
    "        \n",
    "        // 100?\n",
    "\n",
    "        System.out.println((x / 7) - 11);\n",
    "\n",
    "        // 779?\n",
    "\n",
    "        System.out.println(x + 3 - 1);\n",
    "\n",
    "        // 2?\n",
    "\n",
    "        System.out.println((x % 2) + 1);\n",
    "\n",
    "        System.out.println(x);\n",
    "}\n",
    "}\n",
    "numbers.main(null);"
   ]
  },
  {
   "cell_type": "code",
   "execution_count": 2,
   "metadata": {
    "vscode": {
     "languageId": "java"
    }
   },
   "outputs": [
    {
     "name": "stdout",
     "output_type": "stream",
     "text": [
      "24\n"
     ]
    }
   ],
   "source": [
    "// Objective: Practice tracing code\n",
    "\n",
    "public class Demo {\n",
    "    public static void main(String[] args) {\n",
    "        int x = 758; // Defines the variable, x. This is an INTEGER of 758.\n",
    "        x += 423; // Add 423 to 758\n",
    "        x -= 137; // Subtract 137 from (423 + 758)\n",
    "        x *= 99; // Multiply 99 to ((423 + 758) - 137)\n",
    "        x /= 33; // Divide 33 from (((423 + 758) - 137) * 99)\n",
    "        x %= 111; // Finds the remainder from ((((423 + 758) - 137) * 99) / 33)\n",
    "        System.out.println(x); // Prints the result\n",
    "}\n",
    "}\n",
    "Demo.main(null);"
   ]
  },
  {
   "cell_type": "markdown",
   "metadata": {},
   "source": [
    "**Mini Hack:** Write some java code that uses compound operators and then trace through it similarly to the examples shown in this lesson. Use conditional statements as well, don't just execute some compound operators on an x value in order and call it a day. You might have to do tracing on the AP test so this is for your own good."
   ]
  },
  {
   "cell_type": "code",
   "execution_count": 4,
   "metadata": {
    "vscode": {
     "languageId": "java"
    }
   },
   "outputs": [
    {
     "name": "stdout",
     "output_type": "stream",
     "text": [
      "15 is an odd number. We do not care about it.\n"
     ]
    }
   ],
   "source": [
    "public class CompoundDemonstration {\n",
    "    public static void main(String[] args) {\n",
    "\n",
    "        int x = 3; // Define x\n",
    "\n",
    "        x += 52; // Take the current value of x, add 52 to it, assign that value to x\n",
    "        x -= 24; // Same logic as above line; subtract 24 from the current value of x, assign that to x\n",
    "        x = ((x * 8) / 16); // First multiplies the current value by 8, divides that value by 16, and assigns the final value to x\n",
    "        \n",
    "        if (x % 2 == 0) { // Using modulus \"% 2\" to check if x is an even number\n",
    "            if (x >= 50) { // Check if the final x value is greater than 50\n",
    "                System.out.println(x + \" is an even number higher than 50!\"); // If it is, print this\n",
    "            }\n",
    "        } else {\n",
    "            System.out.println(x + \" is an odd number. We do not care about it.\"); // If it isn't, print this\n",
    "        }\n",
    "    }\n",
    "}\n",
    "\n",
    "CompoundDemonstration.main(null);"
   ]
  },
  {
   "cell_type": "markdown",
   "metadata": {},
   "source": [
    "### Section 5"
   ]
  },
  {
   "cell_type": "markdown",
   "metadata": {},
   "source": [
    "**Quiz** I got 4 out of 4. The answers were 7, 6.25, 1.2, -9"
   ]
  },
  {
   "cell_type": "markdown",
   "metadata": {},
   "source": [
    "**FRQ Hacks**\n",
    "\n",
    "While it was done for us, putting the two pieces of code together isn't as simple as just copy-pasting. Here is my solution to that. I also demonstrated my skills in code tracing in my answer:"
   ]
  },
  {
   "cell_type": "code",
   "execution_count": 10,
   "metadata": {
    "vscode": {
     "languageId": "java"
    }
   },
   "outputs": [
    {
     "name": "stdout",
     "output_type": "stream",
     "text": [
      "XgameWin: true\n",
      "YgameWin: false\n"
     ]
    }
   ],
   "source": [
    "public class Game {\n",
    "    int x = 0; // Moved the declarations here\n",
    "    int y = 0;\n",
    "    boolean XgameWin = false;\n",
    "    boolean YgameWin = false;\n",
    "\n",
    "    public int UpdateScore(int Wscore, int Lscore) {\n",
    "        Wscore += 1;\n",
    "        Lscore -= 1;\n",
    "\n",
    "        if (Wscore == 10) {\n",
    "            Wscore = 0;\n",
    "            Lscore = 0;\n",
    "        }\n",
    "        if (Lscore == 10) {\n",
    "            Wscore = 0;\n",
    "            Lscore = 0;\n",
    "        }\n",
    "        return Wscore;\n",
    "    }\n",
    "\n",
    "    public void gameWinchange(boolean X, boolean Y) {\n",
    "        if (X == true) {\n",
    "            x = UpdateScore(x, y); // Update x and y\n",
    "            XgameWin = true; // Update XgameWin\n",
    "        } else {\n",
    "            y = UpdateScore(y, x); // Update y and x\n",
    "            YgameWin = true; // Update YgameWin\n",
    "        }\n",
    "        System.out.println(\"XgameWin: \" + XgameWin);\n",
    "        System.out.println(\"YgameWin: \" + YgameWin);\n",
    "    }\n",
    "\n",
    "    public static void main(String[] args) {\n",
    "        Game game = new Game(); // Create an instance of Game\n",
    "        game.gameWinchange(true, false); // Call gameWinchange with appropriate arguments\n",
    "    }\n",
    "}\n",
    "Game.main(null);"
   ]
  },
  {
   "cell_type": "markdown",
   "metadata": {},
   "source": [
    "### Takeaways & Grading:\n",
    "\n",
    "I learned two lessons from this unit through errors I got but solved:\n",
    "\n",
    "- It is important to make sure that code is being put inside either a main method or another method, and not just in the class. It is not possible to just use primitive types willy-nilly in the class itself. Structure needs to be present.\n",
    "- It is important to make sure the method and variable names are always matching. In the code above, I didn't make sure of this. I also tried to access variables outside scope, which is always important to make sure of. During the AP exam, students literally have to write code with their pencil or pen on the FRQ sheets, so going slow and making sure one knows what they're doing goes a long way.\n",
    "\n",
    "**Grading:**\n",
    "- 1/1 Point for correctly changing the boolean in Part A\n",
    "- 1/1 Point for using Compound Assigment Operators in Part B\n",
    "- 1/1 Point for Values reseting when one hits 10 points\n",
    "- 1/1 Point for Passing Arguments through Part A and B"
   ]
  }
 ],
 "metadata": {
  "kernelspec": {
   "display_name": "Java",
   "language": "java",
   "name": "java"
  },
  "language_info": {
   "codemirror_mode": "java",
   "file_extension": ".jshell",
   "mimetype": "text/x-java-source",
   "name": "Java",
   "pygments_lexer": "java",
   "version": "17.0.8.1+1-Ubuntu-0ubuntu120.04"
  },
  "orig_nbformat": 4
 },
 "nbformat": 4,
 "nbformat_minor": 2
}
