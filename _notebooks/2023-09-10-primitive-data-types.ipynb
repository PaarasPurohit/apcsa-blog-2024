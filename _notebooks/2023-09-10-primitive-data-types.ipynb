{
 "cells": [
  {
   "cell_type": "markdown",
   "metadata": {},
   "source": [
    "# U1 Primitive Data Types\n",
    "\n",
    "- toc: true\n",
    "- comments: false\n",
    "- layout: post\n",
    "- title: U1 Primitive Data Types\n",
    "- description: Learning about integers, doubles, floats, strings, and booleans, and testing my knowledge on them.\n",
    "- type: tangibles\n",
    "- courses: { csa: {week: 4} }\n",
    "- permalink: /u1-data-types"
   ]
  },
  {
   "cell_type": "markdown",
   "metadata": {},
   "source": [
    "To test my knowledge on primitive data types, here is a Java program that demonstrates the use of primitive data types (int, double, boolean) and a reference data type (String) in a class. It also shows casting, compound assignment operators, and input validation with hints."
   ]
  },
  {
   "cell_type": "code",
   "execution_count": 2,
   "metadata": {},
   "outputs": [
    {
     "name": "stdout",
     "output_type": "stream",
     "text": [
      "Enter an integer: Enter a double: Enter a boolean (true or false): Enter a string: Integer Value: 5\n",
      "Double Value: 2.0\n",
      "Boolean Value: true\n",
      "String Value: Hello,\n",
      "Casting Result: 5.0\n",
      "After Compound Assignment: 10\n"
     ]
    }
   ],
   "source": [
    "import java.util.Scanner;\n",
    "\n",
    "public class DataTypeDemo {\n",
    "\n",
    "    public static void main(String[] args) {\n",
    "        Scanner scanner = new Scanner(System.in);\n",
    "\n",
    "        // Input for an integer\n",
    "        int intValue;\n",
    "        while (true) {\n",
    "            System.out.print(\"Enter an integer: \");\n",
    "            if (scanner.hasNextInt()) {\n",
    "                intValue = scanner.nextInt();\n",
    "                break; // Exit the loop if valid input\n",
    "            } else {\n",
    "                System.out.println(\"Invalid input! Please enter an integer.\");\n",
    "                scanner.nextLine(); // Clear the input buffer\n",
    "            }\n",
    "        }\n",
    "\n",
    "        // Input for a double\n",
    "        double doubleValue;\n",
    "        while (true) {\n",
    "            System.out.print(\"Enter a double: \");\n",
    "            if (scanner.hasNextDouble()) {\n",
    "                doubleValue = scanner.nextDouble();\n",
    "                break; // Exit the loop if valid input\n",
    "            } else {\n",
    "                System.out.println(\"Invalid input! Please enter a double.\");\n",
    "                scanner.nextLine(); // Clear the input buffer\n",
    "            }\n",
    "        }\n",
    "\n",
    "        // Input for a boolean\n",
    "        boolean booleanValue;\n",
    "        while (true) {\n",
    "            System.out.print(\"Enter a boolean (true or false): \");\n",
    "            if (scanner.hasNextBoolean()) {\n",
    "                booleanValue = scanner.nextBoolean();\n",
    "                break; // Exit the loop if valid input\n",
    "            } else {\n",
    "                System.out.println(\"Invalid input! Please enter 'true' or 'false'.\");\n",
    "                scanner.nextLine(); // Clear the input buffer\n",
    "            }\n",
    "        }\n",
    "\n",
    "        // Input for a String\n",
    "        System.out.print(\"Enter a string: \");\n",
    "        String stringValue = scanner.next();\n",
    "\n",
    "        // Output values and their types\n",
    "        System.out.println(\"Integer Value: \" + intValue);\n",
    "        System.out.println(\"Double Value: \" + doubleValue);\n",
    "        System.out.println(\"Boolean Value: \" + booleanValue);\n",
    "        System.out.println(\"String Value: \" + stringValue);\n",
    "\n",
    "        // Perform an arithmetic expression with casting\n",
    "        double convertedValue = (double) intValue;\n",
    "        System.out.println(\"Casting Result: \" + convertedValue);\n",
    "\n",
    "        // Perform a compound assignment operator\n",
    "        intValue += 5;\n",
    "        System.out.println(\"After Compound Assignment: \" + intValue);\n",
    "    }\n",
    "}\n",
    "DataTypeDemo.main(null);"
   ]
  }
 ],
 "metadata": {
  "kernelspec": {
   "display_name": "Java",
   "language": "java",
   "name": "java"
  },
  "language_info": {
   "codemirror_mode": "java",
   "file_extension": ".jshell",
   "mimetype": "text/x-java-source",
   "name": "java",
   "pygments_lexer": "java",
   "version": "17.0.8+7-Ubuntu-120.04.2"
  },
  "orig_nbformat": 4
 },
 "nbformat": 4,
 "nbformat_minor": 2
}
