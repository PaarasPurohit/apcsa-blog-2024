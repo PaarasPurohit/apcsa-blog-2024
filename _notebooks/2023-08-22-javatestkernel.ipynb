{
 "cells": [
  {
   "cell_type": "markdown",
   "metadata": {},
   "source": [
    "# Java's Hello\n",
    "> The very first Java hacks of APCSA\n",
    "\n",
    "- title: Java's Hello\n",
    "- toc: true\n",
    "- categories: []\n",
    "- permalink: /java-hello\n",
    "- tags: []"
   ]
  },
  {
   "cell_type": "markdown",
   "metadata": {},
   "source": [
    "### Hacks:\n",
    "\n",
    "- [x] Used comments to explain the anatomy of my example Car class\n",
    "- [x] Used comments to point to definition of classes\n",
    "- [x] Used comments to point to the constructor of the Car class\n",
    "- [x] Called Car object in Main"
   ]
  },
  {
   "cell_type": "code",
   "execution_count": 6,
   "metadata": {},
   "outputs": [
    {
     "name": "stdout",
     "output_type": "stream",
     "text": [
      "Car 1 Make: Ford\n",
      "Car 1 Model: Mustang"
     ]
    },
    {
     "name": "stdout",
     "output_type": "stream",
     "text": [
      "\n",
      "Car 1 Year: 2022\n",
      "Car 2 Make: Toyota\n",
      "Car 2 Model: Camry\n",
      "Car 2 Year: 2020\n"
     ]
    }
   ],
   "source": [
    "// 1. Define a Class\n",
    "public class Car {\n",
    "    \n",
    "    // 2. Class Fields (Attributes)\n",
    "    private String make;\n",
    "    private String model;\n",
    "    private int year;\n",
    "    \n",
    "    // 3. Constructors\n",
    "    // Constructor 1: No-argument constructor\n",
    "    public Car() {\n",
    "        // Default constructor, initializes fields to default values\n",
    "    }\n",
    "    \n",
    "    // Constructor 2: Parameterized constructor\n",
    "    public Car(String make, String model, int year) {\n",
    "        this.make = make;\n",
    "        this.model = model;\n",
    "        this.year = year;\n",
    "    }\n",
    "    \n",
    "    // 4. Class Methods (Behavior)\n",
    "    \n",
    "    // Setter method for 'make' field\n",
    "    public void setMake(String make) {\n",
    "        this.make = make;\n",
    "    }\n",
    "    \n",
    "    // Setter method for 'model' field\n",
    "    public void setModel(String model) {\n",
    "        this.model = model;\n",
    "    }\n",
    "    \n",
    "    // Setter method for 'year' field\n",
    "    public void setYear(int year) {\n",
    "        this.year = year;\n",
    "    }\n",
    "    \n",
    "    // Getter method for 'make' field\n",
    "    public String getMake() {\n",
    "        return make;\n",
    "    }\n",
    "    \n",
    "    // Getter method for 'model' field\n",
    "    public String getModel() {\n",
    "        return model;\n",
    "    }\n",
    "    \n",
    "    // Getter method for 'year' field\n",
    "    public int getYear() {\n",
    "        return year;\n",
    "    }\n",
    "}\n",
    "\n",
    "public class Main {\n",
    "    public static void main(String[] args) {\n",
    "        Car myCar1 = new Car();\n",
    "        Car myCar2 = new Car(\"Toyota\", \"Camry\", 2020);\n",
    "        \n",
    "        myCar1.setMake(\"Ford\");\n",
    "        myCar1.setModel(\"Mustang\");\n",
    "        myCar1.setYear(2022);\n",
    "        \n",
    "        System.out.println(\"Car 1 Make: \" + myCar1.getMake());\n",
    "        System.out.println(\"Car 1 Model: \" + myCar1.getModel());\n",
    "        System.out.println(\"Car 1 Year: \" + myCar1.getYear());\n",
    "        \n",
    "        // Accessing object data using getter methods (correct way)\n",
    "        System.out.println(\"Car 2 Make: \" + myCar2.getMake());\n",
    "        System.out.println(\"Car 2 Model: \" + myCar2.getModel());\n",
    "        System.out.println(\"Car 2 Year: \" + myCar2.getYear());\n",
    "    }\n",
    "}\n",
    "Main.main(null);"
   ]
  },
  {
   "cell_type": "markdown",
   "metadata": {},
   "source": [
    "### Takeaways:\n",
    "\n",
    "- I have used Java to program in the past many times. It was one of the first languages I became fluent in, even before Python. My dad uses Java, specific the JUnit library, to assert and test programs for a company's database.\n",
    "- One thing I noticed about the notebooks is that the file name instead of the title shows up, which I will work on resolving.\n",
    "- I am looking forward to code/code/coding with Java for the rest of the year!"
   ]
  }
 ],
 "metadata": {
  "kernelspec": {
   "display_name": "Java",
   "language": "java",
   "name": "java"
  },
  "language_info": {
   "codemirror_mode": "java",
   "file_extension": ".jshell",
   "mimetype": "text/x-java-source",
   "name": "java",
   "pygments_lexer": "java",
   "version": "11.0.20+8-post-Ubuntu-1ubuntu120.04"
  },
  "orig_nbformat": 4
 },
 "nbformat": 4,
 "nbformat_minor": 2
}
